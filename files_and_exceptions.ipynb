{
 "cells": [
  {
   "cell_type": "markdown",
   "metadata": {},
   "source": [
    "# Files and Exceptions"
   ]
  },
  {
   "cell_type": "markdown",
   "metadata": {},
   "source": [
    "## Reading from a file"
   ]
  },
  {
   "cell_type": "markdown",
   "metadata": {},
   "source": [
    "When you want to work  with the information in a text file, the first step is to read the file into memory."
   ]
  },
  {
   "cell_type": "markdown",
   "metadata": {},
   "source": [
    "### Reading the Contents of a File"
   ]
  },
  {
   "cell_type": "markdown",
   "metadata": {},
   "source": [
    "Create a file with pi to 30 decimal places and call it pi_digits.txt"
   ]
  },
  {
   "cell_type": "markdown",
   "metadata": {},
   "source": [
    "Here's a program that opens this file, reads it, and prints the contents of the file to the screen:"
   ]
  },
  {
   "cell_type": "code",
   "execution_count": 1,
   "metadata": {},
   "outputs": [
    {
     "name": "stdout",
     "output_type": "stream",
     "text": [
      "3.1415926535\n",
      "  8979323846\n",
      "  2643383279\n"
     ]
    }
   ],
   "source": [
    "from pathlib import Path\n",
    "\n",
    "#To work with the contents of a file, we need to tell Python the path to the file. \n",
    "#A path is the exact location of a file or folder on a system. \n",
    "#Python provides a module called pathlib that makes it easier to work with files and directories.\n",
    "path = Path('pi_digits.txt')\n",
    "contents = path.read_text()\n",
    "\n",
    "print(contents)"
   ]
  },
  {
   "cell_type": "markdown",
   "metadata": {},
   "source": [
    "The only difference between the output and the original file uis the extra blank line at the end of the output.\n",
    "The blank line appears because read_text() returns an empty string when it reaches the end of the file; this empty string shows up as a blank line. If you want to remove the extra blank line, you can use rstrip() in the print statement:"
   ]
  },
  {
   "cell_type": "code",
   "execution_count": 2,
   "metadata": {},
   "outputs": [
    {
     "name": "stdout",
     "output_type": "stream",
     "text": [
      "3.1415926535\n",
      "  8979323846\n",
      "  2643383279\n"
     ]
    }
   ],
   "source": [
    "# The rstrip() method removes any whitespace characters from the right side of a string.  \n",
    "contents = contents.rstrip()\n",
    "print(contents)"
   ]
  },
  {
   "cell_type": "code",
   "execution_count": 3,
   "metadata": {},
   "outputs": [],
   "source": [
    "#we can also use method chanining:\n",
    "contents = path.read_text().rstrip()\n"
   ]
  },
  {
   "cell_type": "markdown",
   "metadata": {},
   "source": [
    "## Relative and Absolute File Paths"
   ]
  },
  {
   "cell_type": "markdown",
   "metadata": {},
   "source": [
    "There are two main ways to specify paths in programming. A relative file path tells Python to look for a given location relative to the directory where the currently running program file is stored. \n",
    "\n",
    "An absolute path tells Python to look for a given location on your computer, regardless of where the program that's being executed is stored."
   ]
  },
  {
   "cell_type": "markdown",
   "metadata": {},
   "source": [
    "Note: Windows systems use a backslash(\\\\\\) instead of a forward slash (/) to separate the directories in a file path. If you're using Windows, make sure the file path you're entering in your program uses backslashes. \n",
    "\n",
    "The pathlib library will automatically use the correct representation of the path when it interacts with your system, or any user's system. "
   ]
  },
  {
   "cell_type": "markdown",
   "metadata": {},
   "source": [
    "## Accessing a File's Lines"
   ]
  },
  {
   "cell_type": "markdown",
   "metadata": {},
   "source": [
    "You can use the  splitline() method to turn a long string into a set of lines, and then use a for loop to examine each line from a file, one at the time:"
   ]
  },
  {
   "cell_type": "code",
   "execution_count": 4,
   "metadata": {},
   "outputs": [
    {
     "name": "stdout",
     "output_type": "stream",
     "text": [
      "3.1415926535\n",
      "  8979323846\n",
      "  2643383279\n"
     ]
    }
   ],
   "source": [
    "from pathlib import Path\n",
    "\n",
    "path = Path('pi_digits.txt')\n",
    "contents = path.read_text()\n",
    "\n",
    "lines = contents.splitlines()\n",
    "for line in lines:\n",
    "    print(line)"
   ]
  },
  {
   "cell_type": "markdown",
   "metadata": {},
   "source": [
    "## Working with a File's Contents"
   ]
  },
  {
   "cell_type": "markdown",
   "metadata": {},
   "source": [
    "After you've read the contents of a file into memory, you can do whatever you want with that data. So let's briefly explore the digits of pi. "
   ]
  },
  {
   "cell_type": "code",
   "execution_count": 5,
   "metadata": {},
   "outputs": [
    {
     "name": "stdout",
     "output_type": "stream",
     "text": [
      "3.1415926535  8979323846  2643383279\n",
      "36\n"
     ]
    }
   ],
   "source": [
    "from math import pi\n",
    "from pathlib import Path\n",
    "\n",
    "path = Path('pi_digits.txt')\n",
    "contents = path.read_text()\n",
    "\n",
    "pi_string = ''\n",
    "\n",
    "lines = contents.splitlines()\n",
    "for line in lines:\n",
    "    pi_string += line\n",
    "\n",
    "print(pi_string)\n",
    "print(len(pi_string))"
   ]
  },
  {
   "cell_type": "markdown",
   "metadata": {},
   "source": [
    "The variable pi_string contains the whitespace that was on the left side of the digits in each line, but we can get rid of that by using lstrip() on each line:"
   ]
  },
  {
   "cell_type": "code",
   "execution_count": 6,
   "metadata": {},
   "outputs": [
    {
     "name": "stdout",
     "output_type": "stream",
     "text": [
      "3.141592653589793238462643383279\n",
      "32\n"
     ]
    }
   ],
   "source": [
    "from pathlib import Path\n",
    "\n",
    "path = Path('pi_digits.txt')\n",
    "contents = path.read_text()\n",
    "pi_string = ''\n",
    "\n",
    "lines = contents.splitlines()\n",
    "for line in lines:\n",
    "    pi_string += line.lstrip()\n",
    "\n",
    "print(pi_string)\n",
    "print(len(pi_string))"
   ]
  },
  {
   "cell_type": "markdown",
   "metadata": {},
   "source": [
    "Note: When python reads a text file, it interprets all the text in the file as a string. \n",
    "\n",
    "If you want to work with a value in a numerical context, you have to convert it to an integer using the int() function or a float using the float() function. \n"
   ]
  },
  {
   "cell_type": "markdown",
   "metadata": {},
   "source": [
    "## Large Files: One Million Digits"
   ]
  },
  {
   "cell_type": "code",
   "execution_count": 7,
   "metadata": {},
   "outputs": [
    {
     "name": "stdout",
     "output_type": "stream",
     "text": [
      "3.14159265358979323846264338327950288419716939937510...\n",
      "1000002\n"
     ]
    }
   ],
   "source": [
    "from pathlib import Path\n",
    "\n",
    "path = Path('./pcc_3e-main/chapter_10/reading_from_a_file/pi_million_digits.txt')\n",
    "contents = path.read_text() \n",
    "\n",
    "lines = contents.splitlines()\n",
    "\n",
    "pi_string = ''\n",
    "\n",
    "for line in lines:\n",
    "    pi_string += line.strip()\n",
    "\n",
    "print(f\"{pi_string[:52]}...\")\n",
    "print(len(pi_string))\n"
   ]
  },
  {
   "cell_type": "markdown",
   "metadata": {},
   "source": [
    "## Is Your Birthday Contained in Pi?"
   ]
  },
  {
   "cell_type": "code",
   "execution_count": 8,
   "metadata": {},
   "outputs": [
    {
     "name": "stdout",
     "output_type": "stream",
     "text": [
      "Your birthday does not appear in the first million digits of pi.\n",
      "3.14159265358979323846264338327950288419716939937510...\n",
      "1000002\n"
     ]
    }
   ],
   "source": [
    "from pathlib import Path\n",
    "\n",
    "path = Path('./pcc_3e-main/chapter_10/reading_from_a_file/pi_million_digits.txt')\n",
    "contents = path.read_text() \n",
    "\n",
    "lines = contents.splitlines()\n",
    "\n",
    "pi_string = ''\n",
    "\n",
    "for line in lines:\n",
    "    pi_string += line.strip()\n",
    "\n",
    "birthday = input(\"Enter your birthday, in the form mmddyy:\")\n",
    "\n",
    "if birthday in pi_string:\n",
    "    print(\"Your birthday appears in the first million digits of pi!\")\n",
    "else:\n",
    "    print(\"Your birthday does not appear in the first million digits of pi.\")\n",
    "\n",
    "\n",
    "print(f\"{pi_string[:52]}...\")\n",
    "print(len(pi_string))\n"
   ]
  },
  {
   "cell_type": "code",
   "execution_count": 9,
   "metadata": {},
   "outputs": [
    {
     "name": "stdout",
     "output_type": "stream",
     "text": [
      "In Python you can create and run functions that take in arguments and return values.\n",
      "\n",
      "In Python you can modify strings. \n",
      "\n",
      "In Python you can import and export modules. \n",
      "\n",
      "In Python you can perform mathematical operation. \n",
      "In Python you can create and run functions that take in arguments and return values.In Python you can modify strings. In Python you can import and export modules. In Python you can perform mathematical operation. \n"
     ]
    }
   ],
   "source": [
    "#Exercise 10.1 Learning Python:\n",
    "\"\"\"\n",
    "Open a blank file in your text editor and write a few lines summarizing what you have learned about Python so far.\n",
    "Start each line with \"In Python you can ... \"\n",
    "Save the file as learning_python.txt in the same directory as your exercises from this chapter. \n",
    "Write a program tha reads the file and prints what you wrote two times:\n",
    "print the contents once by reading the entire file, \n",
    "and once by storing the lines in a list and the looping over each line. \n",
    "\"\"\"\n",
    "from pathlib import Path\n",
    "\n",
    "path = Path('./learning_python.txt')\n",
    "\n",
    "contents = path.read_text()\n",
    "\n",
    "lines = contents.splitlines()\n",
    "\n",
    "learning_string = ''\n",
    "\n",
    "for line in lines:\n",
    "    learning_string += line\n",
    "\n",
    "print(contents)\n",
    "print(learning_string)\n",
    "\n",
    "\n",
    "\n"
   ]
  },
  {
   "cell_type": "code",
   "execution_count": 10,
   "metadata": {},
   "outputs": [
    {
     "name": "stdout",
     "output_type": "stream",
     "text": [
      "In C you can create and run functions that take in arguments and return values.In C you can modify strings. In C you can import and export modules. In C you can perform mathematical operation. \n"
     ]
    }
   ],
   "source": [
    "#Exercise 10.2 Learning C:\n",
    "\"\"\"\n",
    "You can use the replace() method to replace any word in a string with a different word.\n",
    "Read in each line from the file you just created, learning_python.txt and replace the word Python with C. \n",
    "Print each modified line  on the screen\n",
    "\"\"\"\n",
    "from pathlib import Path\n",
    "\n",
    "path = Path('./learning_python.txt')\n",
    "contents = path.read_text()\n",
    "\n",
    "lines = contents.splitlines()\n",
    "\n",
    "learning = ''\n",
    "\n",
    "for line in lines:\n",
    "    learning += line.replace('Python', 'C')\n",
    "\n",
    "print(learning)"
   ]
  },
  {
   "cell_type": "code",
   "execution_count": 11,
   "metadata": {},
   "outputs": [
    {
     "name": "stdout",
     "output_type": "stream",
     "text": [
      "In C you can create and run functions that take in arguments and return values.\n",
      "\n",
      "\n",
      "\n",
      "In C you can modify strings. \n",
      "\n",
      "\n",
      "\n",
      "In C you can import and export modules. \n",
      "\n",
      "\n",
      "\n",
      "In C you can perform mathematical operation. \n",
      "\n"
     ]
    }
   ],
   "source": [
    "#Exercise 10.3 Simpler Code:\n",
    "\"\"\"\n",
    "Skip the lines variable and loop directly over the list that splitlines() returns. \n",
    "\"\"\"\n",
    "from pathlib import Path\n",
    "\n",
    "path = Path('./learning_python.txt')\n",
    "\n",
    "learning = []\n",
    "\n",
    "for line in path.read_text().splitlines():\n",
    "    learning.append(line.replace('Python', 'C'))\n",
    "\n",
    "for learning_point in learning:\n",
    "    print(f'{learning_point}\\n')"
   ]
  },
  {
   "cell_type": "markdown",
   "metadata": {},
   "source": [
    "## Writing to a File"
   ]
  },
  {
   "cell_type": "markdown",
   "metadata": {},
   "source": [
    "One of the simplest ways to save data is to write it to a file. When you write text to a file, the output will still be available after you close the terminal containing your program's output."
   ]
  },
  {
   "cell_type": "markdown",
   "metadata": {},
   "source": [
    "### Writing a Single Line"
   ]
  },
  {
   "cell_type": "markdown",
   "metadata": {},
   "source": [
    "Once you have a path defined, you can write to a file using the write_text() method. To see how this works, let's write a simple message and store it in a file instead of printing it to the screen:"
   ]
  },
  {
   "cell_type": "code",
   "execution_count": 12,
   "metadata": {},
   "outputs": [
    {
     "data": {
      "text/plain": [
       "18"
      ]
     },
     "execution_count": 12,
     "metadata": {},
     "output_type": "execute_result"
    }
   ],
   "source": [
    "from pathlib import Path\n",
    "\n",
    "path = Path('programming.txt')\n",
    "path.write_text(\"I love programming\")"
   ]
  },
  {
   "cell_type": "markdown",
   "metadata": {},
   "source": [
    "Note: Python can only write strings to a text file. If you want to store numerical data in a text file you will have to convert the data to string format first using the str() funciton."
   ]
  },
  {
   "cell_type": "markdown",
   "metadata": {},
   "source": [
    "### Writing Multiple Lines"
   ]
  },
  {
   "cell_type": "markdown",
   "metadata": {},
   "source": [
    "The write_text() method does a few things behind the scenes. \n",
    " - If the file that path points to doesn't exist, it creates that file. \n",
    " - After writing the string to the file, it makes sure the file is closed properly. \n",
    " - Files that are not closed properly can lead to missing or corrupted data. \n"
   ]
  },
  {
   "cell_type": "markdown",
   "metadata": {},
   "source": [
    "To write more than one line to a file, you need to build a string containing the entire contents and then write that string by calling the write_text() method. \n"
   ]
  },
  {
   "cell_type": "code",
   "execution_count": 13,
   "metadata": {},
   "outputs": [
    {
     "data": {
      "text/plain": [
       "81"
      ]
     },
     "execution_count": 13,
     "metadata": {},
     "output_type": "execute_result"
    }
   ],
   "source": [
    "from pathlib import Path\n",
    "\n",
    "contents = \"I love programming. \\n\"\n",
    "contents += \"I love creating new games. \\n\"\n",
    "contents += \"I also love working with data. \\n\"\n",
    "\n",
    "path = Path('programming.txt')\n",
    "path.write_text(contents)"
   ]
  },
  {
   "cell_type": "markdown",
   "metadata": {},
   "source": [
    "Note: write_text() will erase any existing files and contents if they already exist."
   ]
  },
  {
   "cell_type": "code",
   "execution_count": 14,
   "metadata": {},
   "outputs": [
    {
     "data": {
      "text/plain": [
       "2"
      ]
     },
     "execution_count": 14,
     "metadata": {},
     "output_type": "execute_result"
    }
   ],
   "source": [
    "#Exercise 10.4: Guest\n",
    "\"\"\"\n",
    "write a program that prompts the user for their name.\n",
    "Whey they respond, write their name to a file called guest.txt.\n",
    "\"\"\"\n",
    "\n",
    "from pathlib import Path\n",
    "\n",
    "guest = input('What is your name?')\n",
    "\n",
    "Path('guest.txt').write_text(guest)"
   ]
  },
  {
   "cell_type": "code",
   "execution_count": 15,
   "metadata": {},
   "outputs": [],
   "source": [
    "#Exercise 10.5: Guest Book:\n",
    "\"\"\"\n",
    "Write a while loop that prompts users for their name. \n",
    "Collect all the names that are entered and then write these names to a file called guest_book.txt. \n",
    "Makes sure each entry appears on a new line in the file. \n",
    "\"\"\"\n",
    "from pathlib import Path\n",
    "\n",
    "guests = []\n",
    "\n",
    "guests_input_active = True\n",
    "\n",
    "while guests_input_active:\n",
    "    name = input(\"What is the guest name?\")\n",
    "    guests.append(name)\n",
    "\n",
    "    repeat = input(\"Will anyone else be staying? Type 'no' to exit.\")\n",
    "    if repeat == 'no':\n",
    "        guests_input_active = False\n",
    "        guest_entries = ''\n",
    "        for guest in guests:\n",
    "            guest_entries += f'{guest}\\n'\n",
    "        Path('guest_book.txt').write_text(guest_entries)\n",
    "\n"
   ]
  },
  {
   "cell_type": "markdown",
   "metadata": {},
   "source": [
    "## Exceptions"
   ]
  },
  {
   "cell_type": "markdown",
   "metadata": {},
   "source": [
    "Python uses special object called exceptions to handle errors that might arise during a program's execution.\n",
    "\n",
    "Whenever an error occurs that makes Python unsure of what to do next, it raises an exception. \n",
    "\n",
    "If you write code that handles the exception, the program will continue running. \n",
    "\n",
    "If you don't handle the exception, the program will halt and show a traceback, which includes a report of the exception that was raised. \n"
   ]
  },
  {
   "cell_type": "markdown",
   "metadata": {},
   "source": [
    "Exceptions are  handled with try-except blocks. A try-except block asks Python to do something, but it also tells Python what to do if an exception is raised. When you use try-except blocks, your programs will continue running even if things start to go wrong. \n"
   ]
  },
  {
   "cell_type": "markdown",
   "metadata": {},
   "source": [
    "### Handling the ZeroDivisionError Exception"
   ]
  },
  {
   "cell_type": "code",
   "execution_count": 16,
   "metadata": {},
   "outputs": [
    {
     "ename": "ZeroDivisionError",
     "evalue": "division by zero",
     "output_type": "error",
     "traceback": [
      "\u001b[0;31m---------------------------------------------------------------------------\u001b[0m",
      "\u001b[0;31mZeroDivisionError\u001b[0m                         Traceback (most recent call last)",
      "Cell \u001b[0;32mIn[16], line 1\u001b[0m\n\u001b[0;32m----> 1\u001b[0m \u001b[38;5;28mprint\u001b[39m(\u001b[38;5;241m5\u001b[39m\u001b[38;5;241m/\u001b[39m\u001b[38;5;241m0\u001b[39m)\n",
      "\u001b[0;31mZeroDivisionError\u001b[0m: division by zero"
     ]
    }
   ],
   "source": [
    "print(5/0)"
   ]
  },
  {
   "cell_type": "markdown",
   "metadata": {},
   "source": [
    "It's impossible to divide a number by 0, Python knows this so we get a traceback."
   ]
  },
  {
   "cell_type": "markdown",
   "metadata": {},
   "source": [
    "### Using try-except Blocks"
   ]
  },
  {
   "cell_type": "markdown",
   "metadata": {},
   "source": [
    "Whe you think an error might occur, you can write a try-except block to handle the exception that might be raised:"
   ]
  },
  {
   "cell_type": "code",
   "execution_count": null,
   "metadata": {},
   "outputs": [
    {
     "name": "stdout",
     "output_type": "stream",
     "text": [
      "You can't divide by zero!\n"
     ]
    }
   ],
   "source": [
    "try:\n",
    "    print(5/0)\n",
    "except ZeroDivisionError:\n",
    "    print(\"You can't divide by zero!\")"
   ]
  },
  {
   "cell_type": "markdown",
   "metadata": {},
   "source": [
    "### Using Exceptions to Prevent Crashes"
   ]
  },
  {
   "cell_type": "code",
   "execution_count": null,
   "metadata": {},
   "outputs": [
    {
     "name": "stdout",
     "output_type": "stream",
     "text": [
      "Give me two numbers, and I'll divide them.\n",
      "Enter 'q' to quit.\n"
     ]
    },
    {
     "ename": "ZeroDivisionError",
     "evalue": "division by zero",
     "output_type": "error",
     "traceback": [
      "\u001b[0;31m---------------------------------------------------------------------------\u001b[0m",
      "\u001b[0;31mZeroDivisionError\u001b[0m                         Traceback (most recent call last)",
      "Cell \u001b[0;32mIn[20], line 11\u001b[0m\n\u001b[1;32m      9\u001b[0m \u001b[38;5;28;01mif\u001b[39;00m second_number \u001b[38;5;241m==\u001b[39m \u001b[38;5;124m'\u001b[39m\u001b[38;5;124mq\u001b[39m\u001b[38;5;124m'\u001b[39m:\n\u001b[1;32m     10\u001b[0m     \u001b[38;5;28;01mbreak\u001b[39;00m\n\u001b[0;32m---> 11\u001b[0m answer \u001b[38;5;241m=\u001b[39m \u001b[38;5;28;43mint\u001b[39;49m\u001b[43m(\u001b[49m\u001b[43mfirst_number\u001b[49m\u001b[43m)\u001b[49m\u001b[43m \u001b[49m\u001b[38;5;241;43m/\u001b[39;49m\u001b[43m \u001b[49m\u001b[38;5;28;43mint\u001b[39;49m\u001b[43m(\u001b[49m\u001b[43msecond_number\u001b[49m\u001b[43m)\u001b[49m\n\u001b[1;32m     12\u001b[0m \u001b[38;5;28mprint\u001b[39m(answer)\n",
      "\u001b[0;31mZeroDivisionError\u001b[0m: division by zero"
     ]
    }
   ],
   "source": [
    "print(\"Give me two numbers, and I'll divide them.\")\n",
    "print(\"Enter 'q' to quit.\")\n",
    "\n",
    "while True:\n",
    "    first_number = input(\"\\nFirst number: \")\n",
    "    if first_number == 'q':\n",
    "        break\n",
    "    second_number = input(\"\\nSecond number: \")\n",
    "    if second_number == 'q':\n",
    "        break\n",
    "    answer = int(first_number) / int(second_number)\n",
    "    print(answer)"
   ]
  },
  {
   "cell_type": "markdown",
   "metadata": {},
   "source": [
    "It's bad that the program crashed. Users can see the traceback which will make them confused and threat actors can use it to gather information.\n"
   ]
  },
  {
   "cell_type": "markdown",
   "metadata": {},
   "source": [
    "### The else Block"
   ]
  },
  {
   "cell_type": "markdown",
   "metadata": {},
   "source": [
    "We can make the program more error reliant by wrapping the line that might produce errors in a try-except block. "
   ]
  },
  {
   "cell_type": "code",
   "execution_count": null,
   "metadata": {},
   "outputs": [
    {
     "name": "stdout",
     "output_type": "stream",
     "text": [
      "Give me two numbers, and I'll divide them.\n",
      "Enter 'q' to quit.\n",
      "You can't divide by 0!\n"
     ]
    }
   ],
   "source": [
    "print(\"Give me two numbers, and I'll divide them.\")\n",
    "print(\"Enter 'q' to quit.\")\n",
    "\n",
    "while True:\n",
    "    first_number = input(\"\\nFirst number: \")\n",
    "    if first_number == 'q':\n",
    "        break\n",
    "    second_number = input(\"\\nSecond number: \")\n",
    "    if second_number == 'q':\n",
    "        break\n",
    "    try:\n",
    "        answer = int(first_number) / int(second_number)\n",
    "    except ZeroDivisionError:\n",
    "        print(\"You can't divide by 0!\")\n",
    "    else:\n",
    "        print(answer)"
   ]
  },
  {
   "cell_type": "markdown",
   "metadata": {},
   "source": [
    "### Handling the FileNotFoundError Exception"
   ]
  },
  {
   "cell_type": "markdown",
   "metadata": {},
   "source": [
    "One common issue when working with files is handling missing files.\n",
    "You can handle all of these situations with a try-except block."
   ]
  },
  {
   "cell_type": "code",
   "execution_count": null,
   "metadata": {},
   "outputs": [
    {
     "ename": "FileNotFoundError",
     "evalue": "[Errno 2] No such file or directory: 'alice.txt'",
     "output_type": "error",
     "traceback": [
      "\u001b[0;31m---------------------------------------------------------------------------\u001b[0m",
      "\u001b[0;31mFileNotFoundError\u001b[0m                         Traceback (most recent call last)",
      "Cell \u001b[0;32mIn[23], line 4\u001b[0m\n\u001b[1;32m      1\u001b[0m \u001b[38;5;28;01mfrom\u001b[39;00m \u001b[38;5;21;01mpathlib\u001b[39;00m \u001b[38;5;28;01mimport\u001b[39;00m Path\n\u001b[1;32m      3\u001b[0m path \u001b[38;5;241m=\u001b[39m Path(\u001b[38;5;124m'\u001b[39m\u001b[38;5;124malice.txt\u001b[39m\u001b[38;5;124m'\u001b[39m)\n\u001b[0;32m----> 4\u001b[0m contents \u001b[38;5;241m=\u001b[39m \u001b[43mpath\u001b[49m\u001b[38;5;241;43m.\u001b[39;49m\u001b[43mread_text\u001b[49m\u001b[43m(\u001b[49m\u001b[43mencoding\u001b[49m\u001b[38;5;241;43m=\u001b[39;49m\u001b[38;5;124;43m'\u001b[39;49m\u001b[38;5;124;43mutf-8\u001b[39;49m\u001b[38;5;124;43m'\u001b[39;49m\u001b[43m)\u001b[49m\n",
      "File \u001b[0;32m~/mambaforge/lib/python3.10/pathlib.py:1134\u001b[0m, in \u001b[0;36mPath.read_text\u001b[0;34m(self, encoding, errors)\u001b[0m\n\u001b[1;32m   1130\u001b[0m \u001b[38;5;250m\u001b[39m\u001b[38;5;124;03m\"\"\"\u001b[39;00m\n\u001b[1;32m   1131\u001b[0m \u001b[38;5;124;03mOpen the file in text mode, read it, and close the file.\u001b[39;00m\n\u001b[1;32m   1132\u001b[0m \u001b[38;5;124;03m\"\"\"\u001b[39;00m\n\u001b[1;32m   1133\u001b[0m encoding \u001b[38;5;241m=\u001b[39m io\u001b[38;5;241m.\u001b[39mtext_encoding(encoding)\n\u001b[0;32m-> 1134\u001b[0m \u001b[38;5;28;01mwith\u001b[39;00m \u001b[38;5;28;43mself\u001b[39;49m\u001b[38;5;241;43m.\u001b[39;49m\u001b[43mopen\u001b[49m\u001b[43m(\u001b[49m\u001b[43mmode\u001b[49m\u001b[38;5;241;43m=\u001b[39;49m\u001b[38;5;124;43m'\u001b[39;49m\u001b[38;5;124;43mr\u001b[39;49m\u001b[38;5;124;43m'\u001b[39;49m\u001b[43m,\u001b[49m\u001b[43m \u001b[49m\u001b[43mencoding\u001b[49m\u001b[38;5;241;43m=\u001b[39;49m\u001b[43mencoding\u001b[49m\u001b[43m,\u001b[49m\u001b[43m \u001b[49m\u001b[43merrors\u001b[49m\u001b[38;5;241;43m=\u001b[39;49m\u001b[43merrors\u001b[49m\u001b[43m)\u001b[49m \u001b[38;5;28;01mas\u001b[39;00m f:\n\u001b[1;32m   1135\u001b[0m     \u001b[38;5;28;01mreturn\u001b[39;00m f\u001b[38;5;241m.\u001b[39mread()\n",
      "File \u001b[0;32m~/mambaforge/lib/python3.10/pathlib.py:1119\u001b[0m, in \u001b[0;36mPath.open\u001b[0;34m(self, mode, buffering, encoding, errors, newline)\u001b[0m\n\u001b[1;32m   1117\u001b[0m \u001b[38;5;28;01mif\u001b[39;00m \u001b[38;5;124m\"\u001b[39m\u001b[38;5;124mb\u001b[39m\u001b[38;5;124m\"\u001b[39m \u001b[38;5;129;01mnot\u001b[39;00m \u001b[38;5;129;01min\u001b[39;00m mode:\n\u001b[1;32m   1118\u001b[0m     encoding \u001b[38;5;241m=\u001b[39m io\u001b[38;5;241m.\u001b[39mtext_encoding(encoding)\n\u001b[0;32m-> 1119\u001b[0m \u001b[38;5;28;01mreturn\u001b[39;00m \u001b[38;5;28;43mself\u001b[39;49m\u001b[38;5;241;43m.\u001b[39;49m\u001b[43m_accessor\u001b[49m\u001b[38;5;241;43m.\u001b[39;49m\u001b[43mopen\u001b[49m\u001b[43m(\u001b[49m\u001b[38;5;28;43mself\u001b[39;49m\u001b[43m,\u001b[49m\u001b[43m \u001b[49m\u001b[43mmode\u001b[49m\u001b[43m,\u001b[49m\u001b[43m \u001b[49m\u001b[43mbuffering\u001b[49m\u001b[43m,\u001b[49m\u001b[43m \u001b[49m\u001b[43mencoding\u001b[49m\u001b[43m,\u001b[49m\u001b[43m \u001b[49m\u001b[43merrors\u001b[49m\u001b[43m,\u001b[49m\n\u001b[1;32m   1120\u001b[0m \u001b[43m                           \u001b[49m\u001b[43mnewline\u001b[49m\u001b[43m)\u001b[49m\n",
      "\u001b[0;31mFileNotFoundError\u001b[0m: [Errno 2] No such file or directory: 'alice.txt'"
     ]
    }
   ],
   "source": [
    "from pathlib import Path\n",
    "\n",
    "path = Path('alice.txt')\n",
    "contents = path.read_text(encoding='utf-8')"
   ]
  },
  {
   "cell_type": "code",
   "execution_count": null,
   "metadata": {},
   "outputs": [
    {
     "name": "stdout",
     "output_type": "stream",
     "text": [
      "Sorry, the file alice.txt does not exist\n"
     ]
    }
   ],
   "source": [
    "from pathlib import Path\n",
    "\n",
    "path = Path('alice.txt')\n",
    "try:\n",
    "    contents = path.read_text(encoding='utf-8')\n",
    "except FileNotFoundError:\n",
    "    print(f\"Sorry, the file {path} does not exist\")"
   ]
  },
  {
   "cell_type": "markdown",
   "metadata": {},
   "source": [
    "### Analyzing Text"
   ]
  },
  {
   "cell_type": "markdown",
   "metadata": {},
   "source": [
    "You can analyze text files containing entire books.\n",
    "\n",
    "Many classic works of literature are available as simple text files because they are in the public domain. \n",
    "\n",
    "Project Gutenberg (https://gutenberg.org) maintains a collection of literary works that are available in the public domain. "
   ]
  },
  {
   "cell_type": "code",
   "execution_count": 17,
   "metadata": {},
   "outputs": [
    {
     "name": "stdout",
     "output_type": "stream",
     "text": [
      "The file alice.txt has about 29564 words.\n"
     ]
    }
   ],
   "source": [
    "from pathlib import Path\n",
    "\n",
    "path = Path('alice.txt')\n",
    "\n",
    "try:\n",
    "    contents = path.read_text(encoding='utf-8')\n",
    "except FileNotFoundError:\n",
    "    print(f\"Sorry, the file {path} does not exist\")\n",
    "else:\n",
    "    # Count the approximate number of words in the file\n",
    "    words = contents.split()\n",
    "    num_words = len(words)\n",
    "    print(f\"The file {path} has about {num_words} words.\")"
   ]
  },
  {
   "cell_type": "markdown",
   "metadata": {},
   "source": [
    "### Working with Multiple Files"
   ]
  },
  {
   "cell_type": "markdown",
   "metadata": {},
   "source": [
    "Let's add more books for the program to analyze. \n",
    "\n",
    "Lets move the program to a function called count_words(). This will make it easier to run the analysis for multiple books:\n"
   ]
  },
  {
   "cell_type": "code",
   "execution_count": 20,
   "metadata": {},
   "outputs": [
    {
     "name": "stdout",
     "output_type": "stream",
     "text": [
      "The file alice.txt has about 29564 words.\n"
     ]
    }
   ],
   "source": [
    "from pathlib import Path\n",
    "\n",
    "def count_words(path):\n",
    "    \"\"\"Count the approximate number of words in a file.\"\"\"\n",
    "    try:\n",
    "        contents = path.read_text(encoding='utf-8')\n",
    "    except FileNotFoundError:\n",
    "        print(f\"Sorry, the file {path} does not exist.\")\n",
    "    else:\n",
    "        # Count the approximate number of words in the file:\n",
    "        words = contents.split()\n",
    "        num_words = len(words)\n",
    "        print(f\"The file {path} has about {num_words} words.\")\n",
    "\n",
    "\n",
    "path = Path('alice.txt')\n",
    "count_words(path)"
   ]
  },
  {
   "cell_type": "code",
   "execution_count": 21,
   "metadata": {},
   "outputs": [
    {
     "name": "stdout",
     "output_type": "stream",
     "text": [
      "The file alice.txt has about 29564 words.\n",
      "Sorry, the file siddhartha.txt does not exist.\n",
      "The file moby_dick.txt has about 215831 words.\n",
      "The file little_women.txt has about 195624 words.\n"
     ]
    }
   ],
   "source": [
    "filenames = ['alice.txt', 'siddhartha.txt', 'moby_dick.txt', 'little_women.txt']\n",
    "\n",
    "for filename in filenames:\n",
    "    path = Path(filename)\n",
    "    count_words(path)"
   ]
  },
  {
   "cell_type": "markdown",
   "metadata": {},
   "source": [
    "### Failing Silently"
   ]
  },
  {
   "cell_type": "markdown",
   "metadata": {},
   "source": [
    "Sometimes you want o fail silently when an exception occurs and continue as if nothing happened. To make a program fail silently, you write a try block as usual, but you explicitly tell Python to do nothing in the except block. "
   ]
  },
  {
   "cell_type": "code",
   "execution_count": 1,
   "metadata": {},
   "outputs": [
    {
     "name": "stdout",
     "output_type": "stream",
     "text": [
      "The file alice.txt has about 29564 words.\n"
     ]
    }
   ],
   "source": [
    "from pathlib import Path\n",
    "\n",
    "def count_words(path):\n",
    "    \"\"\"Count the approximate number of words in a file.\"\"\"\n",
    "    try:\n",
    "        contents = path.read_text(encoding='utf-8')\n",
    "    except FileNotFoundError:\n",
    "        pass\n",
    "    else:\n",
    "        # Count the approximate number of words in the file:\n",
    "        words = contents.split()\n",
    "        num_words = len(words)\n",
    "        print(f\"The file {path} has about {num_words} words.\")\n",
    "\n",
    "\n",
    "path = Path('alice.txt')\n",
    "count_words(path)"
   ]
  },
  {
   "cell_type": "markdown",
   "metadata": {},
   "source": [
    "The pass statement also acts as a placeholder. It's a reminder you're choosing to do nothing at a specific point in your program's execution. "
   ]
  },
  {
   "cell_type": "markdown",
   "metadata": {},
   "source": [
    "## Deciding Which Errors to Report"
   ]
  },
  {
   "cell_type": "markdown",
   "metadata": {},
   "source": [
    "If users know which texts are supposed to be analyzed, they might appreciate a message informing them why some texts were not analyzed. \n",
    "\n",
    "If users expect to see some results but don;t know which books are supposed to be analyzed, they might not need to know which texts were unavailable. \n",
    "\n",
    "Giving users information that they are not looking for may decrease usability.\n",
    "\n",
    "Well-written, properly tested code is not very prone to internal errors, such as syntax or logical errors. \n",
    "\n",
    "Every time your program depends of:\n",
    " - a user input\n",
    " - the existence of a file\n",
    " - availability of a network connection \n",
    "\n",
    "there is a possibility of an exception being raised. \n"
   ]
  },
  {
   "cell_type": "code",
   "execution_count": 10,
   "metadata": {},
   "outputs": [
    {
     "name": "stdout",
     "output_type": "stream",
     "text": [
      "Could not add 5 with four. Please input numbers instead\n"
     ]
    }
   ],
   "source": [
    "#Exercise 10.6 Addition: \n",
    "\"\"\"\n",
    "Write a program that prompts for two numbers.\n",
    "Add them together and print the result. \n",
    "Catch the ValueError if either input value is not a number and\n",
    "print a friendly error message. \n",
    "Test your program by entering two numbers and then by entering some text instead of a number.\n",
    "\"\"\"\n",
    "\n",
    "def adder():\n",
    "    \"\"\"Takes two numbers, adds them up and prints the results\"\"\"\n",
    "    first_number = input(\"What is the first number?\")  \n",
    "    second_number = input(\"What is the second number?\")\n",
    "\n",
    "    try:\n",
    "        result = int(first_number) + int(second_number)\n",
    "        print(f\"{first_number} + {second_number} = {result}\")\n",
    "    except ValueError:\n",
    "        print(f\"Could not add {first_number} with {second_number}. Please input numbers instead\")\n",
    "\n",
    "adder()"
   ]
  },
  {
   "cell_type": "code",
   "execution_count": 16,
   "metadata": {},
   "outputs": [
    {
     "name": "stdout",
     "output_type": "stream",
     "text": [
      "The cats in the file are: \n",
      "\n",
      "- Jc\n",
      "- Sookie\n",
      "- Willow\n",
      "The file dogs.txt does not exist\n"
     ]
    }
   ],
   "source": [
    "#Exercise 10.8 Cats and Dogs:\n",
    "\"\"\"\n",
    "Make two files: \n",
    " - cats.txt\n",
    " - dogs.txt\n",
    "Store at least three names of cats in the first file. \n",
    "Store three names of dogs in the second file. \n",
    "Wrap your code in a try-except block to catch the FileNotFound error.\n",
    "Print a friendly message if file is missing. \n",
    "Move one of the files to a different location on your system and make sure the code in the except block executes properly.\n",
    "\"\"\"\n",
    "\n",
    "from pathlib import Path\n",
    "\n",
    "cats_path = Path('./cats.txt')\n",
    "dogs_path = Path('./dogs.txt')\n",
    "\n",
    "\n",
    "try:\n",
    "    cats_contents = cats_path.read_text().splitlines()\n",
    "    print(\"The cats in the file are: \\n\")\n",
    "    for cat in cats_contents:\n",
    "        print(f\"- {cat.title()}\")\n",
    "except FileNotFoundError:\n",
    "    print(f\"The file {cats_path} does not exist.\")\n",
    "\n",
    "try:\n",
    "    dogs_contents = dogs_path.read_text().splitlines()\n",
    "    print(\"The dogs in the file are: \\n\")\n",
    "    for dog in dogs_contents:\n",
    "        print(f\"-{dog.title()}\")\n",
    "except FileNotFoundError:\n",
    "    print(f\"The file {dogs_path} does not exist\")"
   ]
  },
  {
   "cell_type": "code",
   "execution_count": 17,
   "metadata": {},
   "outputs": [
    {
     "name": "stdout",
     "output_type": "stream",
     "text": [
      "The cats in the file are: \n",
      "\n",
      "- Jc\n",
      "- Sookie\n",
      "- Willow\n"
     ]
    }
   ],
   "source": [
    "#Exercise 10.9: Silent Cats and Dogs:\n",
    "\"\"\"\n",
    "Modify the except block in exercise 10.8 to fail silently if either file is missing.\n",
    "\"\"\"\n",
    "\n",
    "from pathlib import Path\n",
    "\n",
    "cats_path = Path('./cats.txt')\n",
    "dogs_path = Path('./dogs.txt')\n",
    "\n",
    "\n",
    "try:\n",
    "    cats_contents = cats_path.read_text().splitlines()\n",
    "    print(\"The cats in the file are: \\n\")\n",
    "    for cat in cats_contents:\n",
    "        print(f\"- {cat.title()}\")\n",
    "except FileNotFoundError:\n",
    "    pass\n",
    "\n",
    "try:\n",
    "    dogs_contents = dogs_path.read_text().splitlines()\n",
    "    print(\"The dogs in the file are: \\n\")\n",
    "    for dog in dogs_contents:\n",
    "        print(f\"-{dog.title()}\")\n",
    "except FileNotFoundError:\n",
    "    pass"
   ]
  },
  {
   "cell_type": "code",
   "execution_count": 30,
   "metadata": {},
   "outputs": [
    {
     "name": "stdout",
     "output_type": "stream",
     "text": [
      "The file ./Exercise10.10/little_women.txt does not exist.\n",
      "The file ./Exercise10.10/the_great_gatsby.txt contains 2369 instances of the word 'the'. \n",
      "The file ./Exercise10.10/the_prince.txt contains 2958 instances of the word 'the'. \n"
     ]
    }
   ],
   "source": [
    "#Exercise 10.10 Common Words:\n",
    "\"\"\"\n",
    "Visit Project Gutenberg (https://gutenberg.org) nad find a few texts you'd like to analyze.\n",
    "Download the text files of these works or copy the raw text from the browser into a text file.\n",
    "\n",
    "You can use the count() method to find out how many times a word or phrase appears in a string.\n",
    "\n",
    "Write a program that reads the files you found at Project Gutenberg and determines how many times the word 'the' appears in each text. \n",
    "This will be an approximation because it will also count words such as then. \n",
    "Try counting \" the \" and see how much lower the count is. \n",
    "\"\"\"\n",
    "\n",
    "from pathlib import Path\n",
    "\n",
    "books = ['little_women.txt', 'the_great_gatsby.txt', 'the_prince.txt']\n",
    "\n",
    "def read_books(path):\n",
    "    \"\"\"A function that returns the number of instances of the word \"the\". \"\"\"\n",
    "    try:\n",
    "        contents = Path(path).read_text(encoding ='utf-8')\n",
    "    except FileNotFoundError:\n",
    "        print(f\"The file {path} does not exist.\")\n",
    "    else:\n",
    "        #Count the number of \"the\" instances\n",
    "        words = contents.split()\n",
    "        the_count = 0\n",
    "        for word in words:\n",
    "            if word == \"the\":\n",
    "                the_count += 1\n",
    "        print(f\"The file {path} contains {the_count} instances of the word 'the'. \") \n",
    "\n",
    "for book in books:\n",
    "    book_path = f\"./Exercise10.10/{book}\"\n",
    "    read_books(book_path)\n",
    "           "
   ]
  },
  {
   "cell_type": "markdown",
   "metadata": {},
   "source": [
    "## Storing Data"
   ]
  },
  {
   "cell_type": "markdown",
   "metadata": {},
   "source": [
    "The json module allows you to convert simple Python data structures into JSON formatted strings, and then load the data from that file the next time the program runs."
   ]
  },
  {
   "cell_type": "markdown",
   "metadata": {},
   "source": [
    "### Using json.dumps() and json.loads()"
   ]
  },
  {
   "cell_type": "markdown",
   "metadata": {},
   "source": [
    "The json.dumps() function takes one argument: a piece of data that should be converted to the JSON format. "
   ]
  },
  {
   "cell_type": "code",
   "execution_count": 31,
   "metadata": {},
   "outputs": [
    {
     "data": {
      "text/plain": [
       "20"
      ]
     },
     "execution_count": 31,
     "metadata": {},
     "output_type": "execute_result"
    }
   ],
   "source": [
    "from pathlib import Path\n",
    "import json \n",
    "\n",
    "numbers = [2,3,5,6,11,13]\n",
    "\n",
    "path = Path('numbers.json')\n",
    "contents = json.dumps(numbers)\n",
    "path.write_text(contents)"
   ]
  },
  {
   "cell_type": "code",
   "execution_count": 33,
   "metadata": {},
   "outputs": [
    {
     "name": "stdout",
     "output_type": "stream",
     "text": [
      "[2, 3, 5, 6, 11, 13]\n"
     ]
    }
   ],
   "source": [
    "#Now we'll write a separate program that uses json.loads() to read the list back into memory:\n",
    "from pathlib import Path\n",
    "import json\n",
    "\n",
    "path = Path('numbers.json')\n",
    "contents = path.read_text()\n",
    "numbers = json.loads(contents)\n",
    "\n",
    "print(numbers)"
   ]
  },
  {
   "cell_type": "markdown",
   "metadata": {},
   "source": [
    "### Saving and Reading User-Generated Data"
   ]
  },
  {
   "cell_type": "markdown",
   "metadata": {},
   "source": [
    "Let's start by storing the user's name"
   ]
  },
  {
   "cell_type": "code",
   "execution_count": 36,
   "metadata": {},
   "outputs": [
    {
     "name": "stdout",
     "output_type": "stream",
     "text": [
      "We'll remember when you come back, Albert!\n"
     ]
    }
   ],
   "source": [
    "from pathlib import Path \n",
    "import json\n",
    "\n",
    "username = input(\"What is your name?\")\n",
    "\n",
    "path = Path('username.json')\n",
    "contents = json.dumps(username)\n",
    "path.write_text(contents)\n",
    "\n",
    "print(f\"We'll remember when you come back, {username}!\")"
   ]
  },
  {
   "cell_type": "markdown",
   "metadata": {},
   "source": [
    "Let's write a program that greets a user whose name has already been stored:"
   ]
  },
  {
   "cell_type": "code",
   "execution_count": 37,
   "metadata": {},
   "outputs": [
    {
     "name": "stdout",
     "output_type": "stream",
     "text": [
      "Welcome back, Albert!\n"
     ]
    }
   ],
   "source": [
    "from pathlib import Path \n",
    "\n",
    "import json\n",
    "path = Path('username.json')\n",
    "contents = path.read_text()\n",
    "username = json.loads(contents)\n",
    "\n",
    "print(f\"Welcome back, {username}!\")"
   ]
  },
  {
   "cell_type": "markdown",
   "metadata": {},
   "source": [
    "We can combine these two programs into one file. When someone runs remember_me.py, we want to retrieve their username and store it in username.json for next time. We could write a try-except block here to respond appropriately if username.json doesn't exist. "
   ]
  },
  {
   "cell_type": "code",
   "execution_count": 38,
   "metadata": {},
   "outputs": [
    {
     "name": "stdout",
     "output_type": "stream",
     "text": [
      "Welcome back, Albert!\n"
     ]
    }
   ],
   "source": [
    "from pathlib import Path\n",
    "import json \n",
    "\n",
    "path = Path('username.json')\n",
    "if path.exists():\n",
    "    contents = path.read_text()\n",
    "    username = json.loads(contents)\n",
    "    print(f\"Welcome back, {username}!\")\n",
    "else:\n",
    "    username = input(\"What is your name?\")\n",
    "    contents = json.dumps(username)\n",
    "    path.write_text(contents)\n",
    "    print(f\"We'll remember you when you come back, {username}!\")"
   ]
  },
  {
   "cell_type": "markdown",
   "metadata": {},
   "source": [
    "the exists() method returns True if a file or folder exists and False if it doesn't\n",
    "\n",
    "Here we use path.exists() to find out if a username has already been stored. If username.json exists, we load the username and print a personalized greeting to the user."
   ]
  },
  {
   "cell_type": "markdown",
   "metadata": {},
   "source": []
  }
 ],
 "metadata": {
  "kernelspec": {
   "display_name": "base",
   "language": "python",
   "name": "python3"
  },
  "language_info": {
   "codemirror_mode": {
    "name": "ipython",
    "version": 3
   },
   "file_extension": ".py",
   "mimetype": "text/x-python",
   "name": "python",
   "nbconvert_exporter": "python",
   "pygments_lexer": "ipython3",
   "version": "3.11.5"
  }
 },
 "nbformat": 4,
 "nbformat_minor": 2
}
