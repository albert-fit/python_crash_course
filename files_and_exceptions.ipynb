{
 "cells": [
  {
   "cell_type": "markdown",
   "metadata": {},
   "source": [
    "# Files and Exceptions"
   ]
  },
  {
   "cell_type": "markdown",
   "metadata": {},
   "source": [
    "## Reading from a file"
   ]
  },
  {
   "cell_type": "markdown",
   "metadata": {},
   "source": [
    "When you want to work  with the information in a text file, the first step is to read the file into memory."
   ]
  },
  {
   "cell_type": "markdown",
   "metadata": {},
   "source": [
    "### Reading the Contents of a File"
   ]
  },
  {
   "cell_type": "markdown",
   "metadata": {},
   "source": [
    "Create a file with pi to 30 decimal places and call it pi_digits.txt"
   ]
  },
  {
   "cell_type": "markdown",
   "metadata": {},
   "source": [
    "Here's a program that opens this file, reads it, and prints the contents of the file to the screen:"
   ]
  },
  {
   "cell_type": "code",
   "execution_count": 1,
   "metadata": {},
   "outputs": [
    {
     "name": "stdout",
     "output_type": "stream",
     "text": [
      "3.1415926535\n",
      "  8979323846\n",
      "  2643383279\n"
     ]
    }
   ],
   "source": [
    "from pathlib import Path\n",
    "\n",
    "#To work with the contents of a file, we need to tell Python the path to the file. \n",
    "#A path is the exact location of a file or folder on a system. \n",
    "#Python provides a module called pathlib that makes it easier to work with files and directories.\n",
    "path = Path('pi_digits.txt')\n",
    "contents = path.read_text()\n",
    "\n",
    "print(contents)"
   ]
  },
  {
   "cell_type": "markdown",
   "metadata": {},
   "source": [
    "The only difference between the output and the original file uis the extra blank line at the end of the output.\n",
    "The blank line appears because read_text() returns an empty string when it reaches the end of the file; this empty string shows up as a blank line. If you want to remove the extra blank line, you can use rstrip() in the print statement:"
   ]
  },
  {
   "cell_type": "code",
   "execution_count": 2,
   "metadata": {},
   "outputs": [
    {
     "name": "stdout",
     "output_type": "stream",
     "text": [
      "3.1415926535\n",
      "  8979323846\n",
      "  2643383279\n"
     ]
    }
   ],
   "source": [
    "# The rstrip() method removes any whitespace characters from the right side of a string.  \n",
    "contents = contents.rstrip()\n",
    "print(contents)"
   ]
  },
  {
   "cell_type": "code",
   "execution_count": 3,
   "metadata": {},
   "outputs": [],
   "source": [
    "#we can also use method chanining:\n",
    "contents = path.read_text().rstrip()\n"
   ]
  },
  {
   "cell_type": "markdown",
   "metadata": {},
   "source": [
    "## Relative and Absolute File Paths"
   ]
  },
  {
   "cell_type": "markdown",
   "metadata": {},
   "source": [
    "There are two main ways to specify paths in programming. A relative file path tells Python to look for a given location relative to the directory where the currently running program file is stored. \n",
    "\n",
    "An absolute path tells Python to look for a given location on your computer, regardless of where the program that's being executed is stored."
   ]
  },
  {
   "cell_type": "markdown",
   "metadata": {},
   "source": [
    "Note: Windows systems use a backslash(\\\\\\) instead of a forward slash (/) to separate the directories in a file path. If you're using Windows, make sure the file path you're entering in your program uses backslashes. \n",
    "\n",
    "The pathlib library will automatically use the correct representation of the path when it interacts with your system, or any user's system. "
   ]
  },
  {
   "cell_type": "markdown",
   "metadata": {},
   "source": [
    "## Accessing a File's Lines"
   ]
  },
  {
   "cell_type": "markdown",
   "metadata": {},
   "source": [
    "You can use the  splitline() method to turn a long string into a set of lines, and then use a for loop to examine each line from a file, one at the time:"
   ]
  },
  {
   "cell_type": "code",
   "execution_count": 4,
   "metadata": {},
   "outputs": [
    {
     "name": "stdout",
     "output_type": "stream",
     "text": [
      "3.1415926535\n",
      "  8979323846\n",
      "  2643383279\n"
     ]
    }
   ],
   "source": [
    "from pathlib import Path\n",
    "\n",
    "path = Path('pi_digits.txt')\n",
    "contents = path.read_text()\n",
    "\n",
    "lines = contents.splitlines()\n",
    "for line in lines:\n",
    "    print(line)"
   ]
  },
  {
   "cell_type": "markdown",
   "metadata": {},
   "source": [
    "## Working with a File's Contents"
   ]
  },
  {
   "cell_type": "markdown",
   "metadata": {},
   "source": [
    "After you've read the contents of a file into memory, you can do whatever you want with that data. So let's briefly explore the digits of pi. "
   ]
  },
  {
   "cell_type": "code",
   "execution_count": 5,
   "metadata": {},
   "outputs": [
    {
     "name": "stdout",
     "output_type": "stream",
     "text": [
      "3.1415926535  8979323846  2643383279\n",
      "36\n"
     ]
    }
   ],
   "source": [
    "from math import pi\n",
    "from pathlib import Path\n",
    "\n",
    "path = Path('pi_digits.txt')\n",
    "contents = path.read_text()\n",
    "\n",
    "pi_string = ''\n",
    "\n",
    "lines = contents.splitlines()\n",
    "for line in lines:\n",
    "    pi_string += line\n",
    "\n",
    "print(pi_string)\n",
    "print(len(pi_string))"
   ]
  },
  {
   "cell_type": "markdown",
   "metadata": {},
   "source": [
    "The variable pi_string contains the whitespace that was on the left side of the digits in each line, but we can get rid of that by using lstrip() on each line:"
   ]
  },
  {
   "cell_type": "code",
   "execution_count": 3,
   "metadata": {},
   "outputs": [
    {
     "name": "stdout",
     "output_type": "stream",
     "text": [
      "3.141592653589793238462643383279\n",
      "32\n"
     ]
    }
   ],
   "source": [
    "from pathlib import Path\n",
    "\n",
    "path = Path('pi_digits.txt')\n",
    "contents = path.read_text()\n",
    "pi_string = ''\n",
    "\n",
    "lines = contents.splitlines()\n",
    "for line in lines:\n",
    "    pi_string += line.lstrip()\n",
    "\n",
    "print(pi_string)\n",
    "print(len(pi_string))"
   ]
  },
  {
   "cell_type": "markdown",
   "metadata": {},
   "source": [
    "Note: When python reads a text file, it interprets all the text in the file as a string. \n",
    "\n",
    "If you want to work with a value in a numerical context, you have to convert it to an integer using the int() function or a float using the float() function. \n"
   ]
  },
  {
   "cell_type": "markdown",
   "metadata": {},
   "source": [
    "## Large Files: One Million Digits"
   ]
  },
  {
   "cell_type": "code",
   "execution_count": 1,
   "metadata": {},
   "outputs": [
    {
     "name": "stdout",
     "output_type": "stream",
     "text": [
      "3.14159265358979323846264338327950288419716939937510...\n",
      "1000002\n"
     ]
    }
   ],
   "source": [
    "from pathlib import Path\n",
    "\n",
    "path = Path('./pcc_3e-main/chapter_10/reading_from_a_file/pi_million_digits.txt')\n",
    "contents = path.read_text() \n",
    "\n",
    "lines = contents.splitlines()\n",
    "\n",
    "pi_string = ''\n",
    "\n",
    "for line in lines:\n",
    "    pi_string += line.strip()\n",
    "\n",
    "print(f\"{pi_string[:52]}...\")\n",
    "print(len(pi_string))\n"
   ]
  },
  {
   "cell_type": "markdown",
   "metadata": {},
   "source": [
    "## Is Your Birthday Contained in Pi?"
   ]
  },
  {
   "cell_type": "code",
   "execution_count": 3,
   "metadata": {},
   "outputs": [
    {
     "name": "stdout",
     "output_type": "stream",
     "text": [
      "Your birthday does not appear in the first million digits of pi.\n",
      "3.14159265358979323846264338327950288419716939937510...\n",
      "1000002\n"
     ]
    }
   ],
   "source": [
    "from pathlib import Path\n",
    "\n",
    "path = Path('./pcc_3e-main/chapter_10/reading_from_a_file/pi_million_digits.txt')\n",
    "contents = path.read_text() \n",
    "\n",
    "lines = contents.splitlines()\n",
    "\n",
    "pi_string = ''\n",
    "\n",
    "for line in lines:\n",
    "    pi_string += line.strip()\n",
    "\n",
    "birthday = input(\"Enter your birthday, in the form mmddyy:\")\n",
    "\n",
    "if birthday in pi_string:\n",
    "    print(\"Your birthday appears in the first million digits of pi!\")\n",
    "else:\n",
    "    print(\"Your birthday does not appear in the first million digits of pi.\")\n",
    "\n",
    "\n",
    "print(f\"{pi_string[:52]}...\")\n",
    "print(len(pi_string))\n"
   ]
  },
  {
   "cell_type": "code",
   "execution_count": 5,
   "metadata": {},
   "outputs": [
    {
     "name": "stdout",
     "output_type": "stream",
     "text": [
      "In Python you can create and run functions that take in arguments and return values.\n",
      "\n",
      "In Python you can modify strings. \n",
      "\n",
      "In Python you can import and export modules. \n",
      "\n",
      "In Python you can perform mathematical operation. \n",
      "In Python you can create and run functions that take in arguments and return values.In Python you can modify strings. In Python you can import and export modules. In Python you can perform mathematical operation. \n"
     ]
    }
   ],
   "source": [
    "#Exercise 10.1 Learning Python:\n",
    "\"\"\"\n",
    "Open a blank file in your text editor and write a few lines summarizing what you have learned about Python so far.\n",
    "Start each line with \"In Python you can ... \"\n",
    "Save the file as learning_python.txt in the same directory as your exercises from this chapter. \n",
    "Write a program tha reads the file and prints what you wrote two times:\n",
    "print the contents once by reading the entire file, \n",
    "and once by storing the lines in a list and the looping over each line. \n",
    "\"\"\"\n",
    "from pathlib import Path\n",
    "\n",
    "path = Path('./learning_python.txt')\n",
    "\n",
    "contents = path.read_text()\n",
    "\n",
    "lines = contents.splitlines()\n",
    "\n",
    "learning_string = ''\n",
    "\n",
    "for line in lines:\n",
    "    learning_string += line\n",
    "\n",
    "print(contents)\n",
    "print(learning_string)\n",
    "\n",
    "\n",
    "\n"
   ]
  },
  {
   "cell_type": "code",
   "execution_count": 7,
   "metadata": {},
   "outputs": [
    {
     "name": "stdout",
     "output_type": "stream",
     "text": [
      "In C you can create and run functions that take in arguments and return values.In C you can modify strings. In C you can import and export modules. In C you can perform mathematical operation. \n"
     ]
    }
   ],
   "source": [
    "#Exercise 10.2 Learning C:\n",
    "\"\"\"\n",
    "You can use the replace() method to replace any word in a string with a different word.\n",
    "Read in each line from the file you just created, learning_python.txt and replace the word Python with C. \n",
    "Print each modified line  on the screen\n",
    "\"\"\"\n",
    "from pathlib import Path\n",
    "\n",
    "path = Path('./learning_python.txt')\n",
    "contents = path.read_text()\n",
    "\n",
    "lines = contents.splitlines()\n",
    "\n",
    "learning = ''\n",
    "\n",
    "for line in lines:\n",
    "    learning += line.replace('Python', 'C')\n",
    "\n",
    "print(learning)"
   ]
  },
  {
   "cell_type": "code",
   "execution_count": 9,
   "metadata": {},
   "outputs": [
    {
     "name": "stdout",
     "output_type": "stream",
     "text": [
      "In C you can create and run functions that take in arguments and return values.\n",
      "\n",
      "\n",
      "\n",
      "In C you can modify strings. \n",
      "\n",
      "\n",
      "\n",
      "In C you can import and export modules. \n",
      "\n",
      "\n",
      "\n",
      "In C you can perform mathematical operation. \n",
      "\n"
     ]
    }
   ],
   "source": [
    "#Exercise 10.3 Simpler Code:\n",
    "\"\"\"\n",
    "Skip the lines variable and loop directly over the list that splitlines() returns. \n",
    "\"\"\"\n",
    "from pathlib import Path\n",
    "\n",
    "path = Path('./learning_python.txt')\n",
    "\n",
    "learning = []\n",
    "\n",
    "for line in path.read_text().splitlines():\n",
    "    learning.append(line.replace('Python', 'C'))\n",
    "\n",
    "for learning_point in learning:\n",
    "    print(f'{learning_point}\\n')"
   ]
  },
  {
   "cell_type": "markdown",
   "metadata": {},
   "source": [
    "## Writing to a File"
   ]
  },
  {
   "cell_type": "markdown",
   "metadata": {},
   "source": [
    "One of the simplest ways to save data is to write it to a file. When you write text to a file, the output will still be available after you close the terminal containing your program's output."
   ]
  },
  {
   "cell_type": "markdown",
   "metadata": {},
   "source": [
    "### Writing a Single Line"
   ]
  },
  {
   "cell_type": "markdown",
   "metadata": {},
   "source": [
    "Once you have a path defined, you can write to a file using the write_text() method. To see how this works, let's write a simple message and store it in a file instead of printing it to the screen:"
   ]
  },
  {
   "cell_type": "code",
   "execution_count": 11,
   "metadata": {},
   "outputs": [
    {
     "data": {
      "text/plain": [
       "18"
      ]
     },
     "execution_count": 11,
     "metadata": {},
     "output_type": "execute_result"
    }
   ],
   "source": [
    "from pathlib import Path\n",
    "\n",
    "path = Path('programming.txt')\n",
    "path.write_text(\"I love programming\")"
   ]
  },
  {
   "cell_type": "markdown",
   "metadata": {},
   "source": [
    "Note: Python can only write strings to a text file. If you want to store numerical data in a text file you will have to convert the data to string format first using the str() funciton."
   ]
  },
  {
   "cell_type": "markdown",
   "metadata": {},
   "source": [
    "### Writing Multiple Lines"
   ]
  },
  {
   "cell_type": "markdown",
   "metadata": {},
   "source": [
    "The write_text() method does a few things behind the scenes. \n",
    " - If the file that path points to doesn't exist, it creates that file. \n",
    " - After writing the string to the file, it makes sure the file is closed properly. \n",
    " - Files that are not closed properly can lead to missing or corrupted data. \n"
   ]
  },
  {
   "cell_type": "markdown",
   "metadata": {},
   "source": [
    "To write more than one line to a file, you need to build a string containing the entire contents and then write that string by calling the write_text() method. \n"
   ]
  },
  {
   "cell_type": "code",
   "execution_count": 12,
   "metadata": {},
   "outputs": [
    {
     "data": {
      "text/plain": [
       "81"
      ]
     },
     "execution_count": 12,
     "metadata": {},
     "output_type": "execute_result"
    }
   ],
   "source": [
    "from pathlib import Path\n",
    "\n",
    "contents = \"I love programming. \\n\"\n",
    "contents += \"I love creating new games. \\n\"\n",
    "contents += \"I also love working with data. \\n\"\n",
    "\n",
    "path = Path('programming.txt')\n",
    "path.write_text(contents)"
   ]
  },
  {
   "cell_type": "markdown",
   "metadata": {},
   "source": [
    "Note: write_text() will erase any existing files and contents if they already exist."
   ]
  },
  {
   "cell_type": "code",
   "execution_count": 14,
   "metadata": {},
   "outputs": [
    {
     "data": {
      "text/plain": [
       "6"
      ]
     },
     "execution_count": 14,
     "metadata": {},
     "output_type": "execute_result"
    }
   ],
   "source": [
    "#Exercise 10.4: Guest\n",
    "\"\"\"\n",
    "write a program that prompts the user for their name.\n",
    "Whey they respond, write their name to a file called guest.txt.\n",
    "\"\"\"\n",
    "\n",
    "from pathlib import Path\n",
    "\n",
    "guest = input('What is your name?')\n",
    "\n",
    "Path('guest.txt').write_text(guest)"
   ]
  },
  {
   "cell_type": "code",
   "execution_count": 17,
   "metadata": {},
   "outputs": [],
   "source": [
    "#Exercise 10.5: Guest Book:\n",
    "\"\"\"\n",
    "Write a while loop that prompts users for their name. \n",
    "Collect all the names that are entered and then write these names to a file called guest_book.txt. \n",
    "Makes sure each entry appears on a new line in the file. \n",
    "\"\"\"\n",
    "from pathlib import Path\n",
    "\n",
    "guests = []\n",
    "\n",
    "guests_input_active = True\n",
    "\n",
    "while guests_input_active:\n",
    "    name = input(\"What is the guest name?\")\n",
    "    guests.append(name)\n",
    "\n",
    "    repeat = input(\"Will anyone else be staying? Type 'no' to exit.\")\n",
    "    if repeat == 'no':\n",
    "        guests_input_active = False\n",
    "        guest_entries = ''\n",
    "        for guest in guests:\n",
    "            guest_entries += f'{guest}\\n'\n",
    "        Path('guest_book.txt').write_text(guest_entries)\n",
    "\n"
   ]
  },
  {
   "cell_type": "code",
   "execution_count": null,
   "metadata": {},
   "outputs": [],
   "source": []
  }
 ],
 "metadata": {
  "kernelspec": {
   "display_name": "base",
   "language": "python",
   "name": "python3"
  },
  "language_info": {
   "codemirror_mode": {
    "name": "ipython",
    "version": 3
   },
   "file_extension": ".py",
   "mimetype": "text/x-python",
   "name": "python",
   "nbconvert_exporter": "python",
   "pygments_lexer": "ipython3",
   "version": "3.10.12"
  }
 },
 "nbformat": 4,
 "nbformat_minor": 2
}
