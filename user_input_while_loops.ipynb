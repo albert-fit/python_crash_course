{
 "cells": [
  {
   "cell_type": "markdown",
   "metadata": {},
   "source": [
    "# User Input and While Loops\n",
    "\n",
    "## How the input() Function Works"
   ]
  },
  {
   "cell_type": "code",
   "execution_count": null,
   "metadata": {},
   "outputs": [
    {
     "name": "stdout",
     "output_type": "stream",
     "text": [
      "Hi there!\n"
     ]
    }
   ],
   "source": [
    "#Teh following program asks the user to enter some text, then displays that message back to the user:\n",
    "message = input(\"Tell me something, and I will repeat it back to you:\")\n",
    "print(message)"
   ]
  },
  {
   "cell_type": "markdown",
   "metadata": {},
   "source": [
    "### Writing Clear Prompts"
   ]
  },
  {
   "cell_type": "code",
   "execution_count": 2,
   "metadata": {},
   "outputs": [
    {
     "name": "stdout",
     "output_type": "stream",
     "text": [
      "\n",
      "Hello, Albert!\n"
     ]
    }
   ],
   "source": [
    "name = input(\"Please enter your name:\")\n",
    "print(f\"\\nHello, {name}!\")\n",
    "\n"
   ]
  },
  {
   "cell_type": "code",
   "execution_count": 5,
   "metadata": {},
   "outputs": [
    {
     "name": "stdout",
     "output_type": "stream",
     "text": [
      "\n",
      "Hello, A!\n"
     ]
    }
   ],
   "source": [
    "# You can assign a prompt to a variable and pass that variable to the input() function.\n",
    "from regex import F\n",
    "\n",
    "\n",
    "prompt = \"If you share your name, we can personalize the messages you see.\"\n",
    "prompt += \"\\nWhat is your first name?\"\n",
    "\n",
    "name = input(prompt)\n",
    "print(f\"\\nHello, {name}!\")"
   ]
  },
  {
   "cell_type": "markdown",
   "metadata": {},
   "source": [
    "## Using int() to Accept Numerical Input"
   ]
  },
  {
   "cell_type": "code",
   "execution_count": 7,
   "metadata": {},
   "outputs": [
    {
     "data": {
      "text/plain": [
       "str"
      ]
     },
     "execution_count": 7,
     "metadata": {},
     "output_type": "execute_result"
    }
   ],
   "source": [
    "age = input(\"How old are you?\")\n",
    "type(age)"
   ]
  },
  {
   "cell_type": "code",
   "execution_count": 8,
   "metadata": {},
   "outputs": [
    {
     "data": {
      "text/plain": [
       "int"
      ]
     },
     "execution_count": 8,
     "metadata": {},
     "output_type": "execute_result"
    }
   ],
   "source": [
    "age = input(\"How old are you?\")\n",
    "age = int(age)\n",
    "type(age)"
   ]
  },
  {
   "cell_type": "code",
   "execution_count": 9,
   "metadata": {},
   "outputs": [
    {
     "name": "stdout",
     "output_type": "stream",
     "text": [
      "\n",
      "You'll be able to ride when you are a little older.\n"
     ]
    }
   ],
   "source": [
    "height = input(\"How tall are you?\")\n",
    "height = int(height)\n",
    "\n",
    "if height >= 48:\n",
    "    print(\"\\nYou're tall enough to ride!\")\n",
    "else: \n",
    "    print(\"\\nYou'll be able to ride when you are a little older.\")"
   ]
  },
  {
   "cell_type": "markdown",
   "metadata": {},
   "source": [
    "## The Modulo Operator"
   ]
  },
  {
   "cell_type": "code",
   "execution_count": 11,
   "metadata": {},
   "outputs": [
    {
     "data": {
      "text/plain": [
       "1"
      ]
     },
     "execution_count": 11,
     "metadata": {},
     "output_type": "execute_result"
    }
   ],
   "source": [
    "# A useful tool for working with numerical inforation is the modulo operator (%), \n",
    "#which divides one number by another number and returns the remainder.\n",
    "\n",
    "4%3"
   ]
  },
  {
   "cell_type": "code",
   "execution_count": 12,
   "metadata": {},
   "outputs": [
    {
     "data": {
      "text/plain": [
       "2"
      ]
     },
     "execution_count": 12,
     "metadata": {},
     "output_type": "execute_result"
    }
   ],
   "source": [
    "5%3"
   ]
  },
  {
   "cell_type": "code",
   "execution_count": 13,
   "metadata": {},
   "outputs": [
    {
     "data": {
      "text/plain": [
       "0"
      ]
     },
     "execution_count": 13,
     "metadata": {},
     "output_type": "execute_result"
    }
   ],
   "source": [
    "4%4"
   ]
  },
  {
   "cell_type": "code",
   "execution_count": 14,
   "metadata": {},
   "outputs": [
    {
     "name": "stdout",
     "output_type": "stream",
     "text": [
      "\n",
      "The number 12 is even.\n"
     ]
    }
   ],
   "source": [
    "number = input(\"Enter a number, and I'll tell you if it's even or odd:\")\n",
    "number = int(number)\n",
    "\n",
    "if number % 2 == 0:\n",
    "    print(f\"\\nThe number {number} is even.\")\n",
    "else:\n",
    "    print(f\"\\n the number {number} is odd.\")"
   ]
  },
  {
   "cell_type": "code",
   "execution_count": 15,
   "metadata": {},
   "outputs": [
    {
     "name": "stdout",
     "output_type": "stream",
     "text": [
      "Let me see if I can find you a Toyota\n"
     ]
    }
   ],
   "source": [
    "# Excercise 7.1\n",
    "car = input(\"What car would you like?\")\n",
    "print(f\"Let me see if I can find you a {car.title()}.\")"
   ]
  },
  {
   "cell_type": "code",
   "execution_count": 18,
   "metadata": {},
   "outputs": [
    {
     "name": "stdout",
     "output_type": "stream",
     "text": [
      "You will have to wait for a table.\n"
     ]
    }
   ],
   "source": [
    "#Excercise 7.2 \n",
    "guests = input(\"How many peopleare in your dinner group?\")\n",
    "guests = int(guests)\n",
    "\n",
    "if guests >= 8:\n",
    "    print(\"You will have to wait for a table.\")\n",
    "else:\n",
    "    print(\"Your table is ready now.\")"
   ]
  },
  {
   "cell_type": "code",
   "execution_count": 22,
   "metadata": {},
   "outputs": [
    {
     "name": "stdout",
     "output_type": "stream",
     "text": [
      "1 is not a multiple of 10.\n"
     ]
    }
   ],
   "source": [
    "#Excercise 7.3 \n",
    "number = input(\"What is the number?\")\n",
    "number = int(number)\n",
    "if number % 10 == 0:\n",
    "    print(f\"{number} if a multiple of 10.\")\n",
    "else:\n",
    "    print(f\"{number} is not a multiple of 10.\")\n"
   ]
  },
  {
   "cell_type": "markdown",
   "metadata": {},
   "source": [
    "## Introducing While Loops"
   ]
  },
  {
   "cell_type": "code",
   "execution_count": 24,
   "metadata": {},
   "outputs": [
    {
     "name": "stdout",
     "output_type": "stream",
     "text": [
      "1\n",
      "2\n",
      "3\n",
      "4\n",
      "5\n"
     ]
    }
   ],
   "source": [
    "#A while loop runs while a condition is true\n",
    "current_number = 1\n",
    "while current_number <= 5:\n",
    "    print(current_number)\n",
    "    current_number += 1"
   ]
  },
  {
   "cell_type": "markdown",
   "metadata": {},
   "source": [
    "## Letting the user choose when to quit"
   ]
  },
  {
   "cell_type": "code",
   "execution_count": 25,
   "metadata": {},
   "outputs": [
    {
     "name": "stdout",
     "output_type": "stream",
     "text": [
      "good\n",
      "god\n",
      "make \n",
      "it\n",
      "quit\n"
     ]
    }
   ],
   "source": [
    "prompt = \"\\nTell me something , and I will repeat it back to you:\"\n",
    "prompt += \"\\nEnter 'quit' to end the program\"\n",
    "\n",
    "message = \"\"\n",
    "while message != 'quit':\n",
    "    message = input(prompt)\n",
    "    print(message)"
   ]
  },
  {
   "cell_type": "markdown",
   "metadata": {},
   "source": [
    "## Using a flag"
   ]
  },
  {
   "cell_type": "code",
   "execution_count": 26,
   "metadata": {},
   "outputs": [
    {
     "name": "stdout",
     "output_type": "stream",
     "text": [
      "tell\n",
      "me\n",
      "some\n",
      "joke\n"
     ]
    }
   ],
   "source": [
    "#let's add a flag to the parrot program:\n",
    "prompt = \"\\nTell me something , and I will repeat it back to you:\"\n",
    "prompt += \"\\nEnter 'quit' to end the program\"\n",
    "\n",
    "active = True\n",
    "\n",
    "while active:\n",
    "    message = input(prompt)\n",
    "    if message == 'quit':\n",
    "        active = False\n",
    "    else:\n",
    "        print(message)"
   ]
  },
  {
   "cell_type": "markdown",
   "metadata": {},
   "source": [
    "## Using a break to Exit a Loop"
   ]
  },
  {
   "cell_type": "code",
   "execution_count": 1,
   "metadata": {},
   "outputs": [
    {
     "name": "stdout",
     "output_type": "stream",
     "text": [
      "I'd love to go to Barcelona!\n",
      "I'd love to go to Madrid!\n",
      "I'd love to go to La!\n",
      "I'd love to go to Exit!\n"
     ]
    }
   ],
   "source": [
    "# To exit a while loop without running any remining ode in the loop, \n",
    "# regardless of the results of any conditional test, use the break statement\n",
    "prompt = \"\\nPlease enter the name of a city you have visited:\"\n",
    "prompt += \"\\n(Enter 'quit' when you are finished.)\"\n",
    "\n",
    "while True:\n",
    "    city = input(prompt)\n",
    "\n",
    "    if city == 'quit':\n",
    "        break\n",
    "    else:\n",
    "        print(f\"I'd love to go to {city.title()}!\")"
   ]
  },
  {
   "cell_type": "markdown",
   "metadata": {},
   "source": [
    "A loop that starts with while True will run forever unles it reaches a break statement.\n",
    "\n",
    "You can use the break statement in any of Python's loops. For example, you could use break to quit a for loop that's working through a list or a dictionary.\n"
   ]
  },
  {
   "cell_type": "markdown",
   "metadata": {},
   "source": [
    "## Using continue in a Loop"
   ]
  },
  {
   "cell_type": "markdown",
   "metadata": {},
   "source": [
    "Rather than breaking out of a loop entierly without executing the rest of the code, you can use the continue statement to return to the beginning of the loop based on the result of a conditional test."
   ]
  },
  {
   "cell_type": "code",
   "execution_count": 2,
   "metadata": {},
   "outputs": [
    {
     "name": "stdout",
     "output_type": "stream",
     "text": [
      "1\n",
      "3\n",
      "5\n",
      "7\n",
      "9\n"
     ]
    }
   ],
   "source": [
    "current_number = 0 \n",
    "while current_number < 10:\n",
    "    current_number += 1\n",
    "    if current_number % 2 == 0:\n",
    "        continue\n",
    "    \n",
    "    print(current_number)"
   ]
  },
  {
   "cell_type": "markdown",
   "metadata": {},
   "source": [
    "## Avoiding Infinite Loops"
   ]
  },
  {
   "cell_type": "code",
   "execution_count": 3,
   "metadata": {},
   "outputs": [
    {
     "name": "stdout",
     "output_type": "stream",
     "text": [
      "1\n",
      "2\n",
      "3\n",
      "4\n",
      "5\n"
     ]
    }
   ],
   "source": [
    "#this loop counts to 5\n",
    "x = 1\n",
    "while x <= 5:\n",
    "    print(x)\n",
    "    x += 1"
   ]
  },
  {
   "cell_type": "code",
   "execution_count": 5,
   "metadata": {},
   "outputs": [],
   "source": [
    "#This loop runs forever!\n",
    "# x = 1\n",
    "# while x <= 5:\n",
    "#     print(x)"
   ]
  },
  {
   "cell_type": "code",
   "execution_count": 6,
   "metadata": {},
   "outputs": [
    {
     "name": "stdout",
     "output_type": "stream",
     "text": [
      "\n",
      "You have sellected Cheese for your pizza.\n",
      "\n",
      "You have sellected Salami for your pizza.\n",
      "\n",
      "You have sellected Mushrooms for your pizza.\n"
     ]
    }
   ],
   "source": [
    "# Excercise 7.4\n",
    "prompt = \"\\nPlease enter a pizza topping:\"\n",
    "prompt += \"\\n(Type 'quit' to exit)\"\n",
    "\n",
    "while True:\n",
    "    topping = input(prompt)\n",
    "    if topping == 'quit':\n",
    "        break\n",
    "    else:\n",
    "        print(f\"\\nYou have sellected {topping.title()} for your pizza.\")\n"
   ]
  },
  {
   "cell_type": "code",
   "execution_count": 7,
   "metadata": {},
   "outputs": [
    {
     "name": "stdout",
     "output_type": "stream",
     "text": [
      "Your ticket is $15.\n"
     ]
    }
   ],
   "source": [
    "# Excercise 7.5\n",
    "prompt = \"\\nWhat is your age?\"\n",
    "\n",
    "while True:\n",
    "    age = int(input(prompt))\n",
    "    if age < 3:\n",
    "        print (\"Your ticket is free!\")\n",
    "        break\n",
    "    elif age > 3 and age < 12:\n",
    "        print (\"Your ticket is $10\")\n",
    "        break\n",
    "    else:\n",
    "        print (\"Your ticket is $15.\")\n",
    "        break"
   ]
  },
  {
   "cell_type": "markdown",
   "metadata": {},
   "source": [
    "## Using a while Loop with Lists and Dictionaries\n"
   ]
  },
  {
   "cell_type": "code",
   "execution_count": null,
   "metadata": {},
   "outputs": [],
   "source": []
  }
 ],
 "metadata": {
  "kernelspec": {
   "display_name": "base",
   "language": "python",
   "name": "python3"
  },
  "language_info": {
   "codemirror_mode": {
    "name": "ipython",
    "version": 3
   },
   "file_extension": ".py",
   "mimetype": "text/x-python",
   "name": "python",
   "nbconvert_exporter": "python",
   "pygments_lexer": "ipython3",
   "version": "3.11.5"
  }
 },
 "nbformat": 4,
 "nbformat_minor": 2
}
