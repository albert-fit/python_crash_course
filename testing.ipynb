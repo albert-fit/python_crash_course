{
 "cells": [
  {
   "cell_type": "markdown",
   "metadata": {},
   "source": [
    "# Testing Your Code"
   ]
  },
  {
   "cell_type": "markdown",
   "metadata": {},
   "source": [
    "The pytest library is a collection of tools that will help write your tests quickly and simply, while supporting your tests as they grow in  complexity along with your projects."
   ]
  },
  {
   "cell_type": "markdown",
   "metadata": {},
   "source": [
    "### Installing pytest with pip"
   ]
  },
  {
   "cell_type": "markdown",
   "metadata": {},
   "source": [
    "Many packages are kept out of the standard library sos they can be developed on a timeline independent of the language itself. "
   ]
  },
  {
   "cell_type": "markdown",
   "metadata": {},
   "source": [
    "### Updating pip"
   ]
  },
  {
   "cell_type": "markdown",
   "metadata": {},
   "source": [
    "Python includes a tool called pip that's used to install third-party packages. Because pip helps install packages from external resources, it's updated often to address potential security issues.\n",
    "\n",
    "To update pip:\n",
    "    open a new terminal window and issue the following command:\n",
    "\n",
    "    $ python -m  pip install --upgrade pip\n",
    "\n",
    "Use the following command to update any third-party package installed on your system:\n",
    "\n",
    "    $ python -m install -upgrade package_name"
   ]
  },
  {
   "cell_type": "markdown",
   "metadata": {},
   "source": [
    "## Installing pytest\n",
    "\n",
    "    $ python -m pip install --user pytest"
   ]
  },
  {
   "cell_type": "markdown",
   "metadata": {},
   "source": [
    "## Testing a function"
   ]
  },
  {
   "cell_type": "code",
   "execution_count": 2,
   "metadata": {},
   "outputs": [],
   "source": [
    "def get_formatted_name(first, last):\n",
    "    \"\"\"Generate a neatly formatted full name.\"\"\"\n",
    "    full_name = f\"{first} {last}\"\n",
    "    return full_name.title()"
   ]
  },
  {
   "cell_type": "markdown",
   "metadata": {},
   "source": [
    "To check the function works, let's make a program that uses that function."
   ]
  },
  {
   "cell_type": "code",
   "execution_count": 3,
   "metadata": {},
   "outputs": [
    {
     "name": "stdout",
     "output_type": "stream",
     "text": [
      "Enter 'q' at any time to quit.\n",
      "\tNeatly formatted name: A Fit\n"
     ]
    }
   ],
   "source": [
    "from arrow import get\n",
    "\n",
    "\n",
    "print(\"Enter 'q' at any time to quit.\")\n",
    "while True:\n",
    "    first = input(\"\\nPlease give me a first name:\")\n",
    "    if first == 'q':\n",
    "        break\n",
    "    last = input(\"Please give me a last name:\")\n",
    "    if last == 'q':\n",
    "        break\n",
    "\n",
    "    formatted_name = get_formatted_name(first, last)\n",
    "    print(f\"\\tNeatly formatted name: {formatted_name}\")\n",
    "\n",
    "\n"
   ]
  },
  {
   "cell_type": "markdown",
   "metadata": {},
   "source": [
    "## Unit Tests and Test Cases"
   ]
  },
  {
   "cell_type": "markdown",
   "metadata": {},
   "source": [
    "A unit test verifies that one specific aspect of a function's behavior is correct. A test case is a collection of unit tests that together prove that a function's behavior is correct. "
   ]
  },
  {
   "cell_type": "markdown",
   "metadata": {},
   "source": [
    "It's often good enough to write tests for your code's critical behaviors and then aim for full coverage only if the project starts to see widespread use."
   ]
  },
  {
   "cell_type": "markdown",
   "metadata": {},
   "source": [
    "## A Passing Test"
   ]
  },
  {
   "cell_type": "markdown",
   "metadata": {},
   "source": [
    "The test function will call the function we're testing, and we'll make an assertion about the value that's returned."
   ]
  },
  {
   "cell_type": "code",
   "execution_count": 4,
   "metadata": {},
   "outputs": [],
   "source": [
    "def test_first_last_name():\n",
    "    \"\"\"Do names like 'Janis Joplin' work?\"\"\"\n",
    "    formatted_name = get_formatted_name('janis', 'joplin')\n",
    "    assert formatted_name == 'Janis Joplin'\n"
   ]
  },
  {
   "cell_type": "markdown",
   "metadata": {},
   "source": [
    " The name of a test file must start with test_.\n",
    "\n",
    "\n",
    "When we ask pytest to run the tests we've written, it will look for any file that begins with test_, and run all of the tests it finds in that file."
   ]
  },
  {
   "cell_type": "markdown",
   "metadata": {},
   "source": [
    "Test function names should be long enough that if you see the function name in a test report you'll have a good sense of what behavior was being tested. "
   ]
  },
  {
   "cell_type": "markdown",
   "metadata": {},
   "source": [
    "Finally, we make an assertion. An assertion is a claim about a condition."
   ]
  },
  {
   "cell_type": "markdown",
   "metadata": {},
   "source": [
    "## Running a Test"
   ]
  },
  {
   "cell_type": "markdown",
   "metadata": {},
   "source": [
    "In the terminal, enter the command:\n",
    "    $ pytest"
   ]
  },
  {
   "cell_type": "markdown",
   "metadata": {},
   "source": [
    "## A Failing Test"
   ]
  },
  {
   "cell_type": "code",
   "execution_count": 1,
   "metadata": {},
   "outputs": [],
   "source": [
    "# Let's modify get_formatted-name() so it requires a middle name argument. "
   ]
  },
  {
   "cell_type": "markdown",
   "metadata": {},
   "source": [
    "\n",
    "test_name_function.py F                                                                                                           [100%]\n",
    "\n",
    "=============================================================== FAILURES ================================================================\n",
    "_________________________________________________________ test_first_last_name __________________________________________________________\n",
    "\n",
    "    def test_first_last_name():\n",
    "        \"\"\"Do names like 'Janis Joplin' work?\"\"\"\n",
    ">       formatted_name = get_formatted_name('janis', 'joplin')\n",
    "E       TypeError: get_formatted_name() missing 1 required positional argument: 'last'\n",
    "\n",
    "test_name_function.py:6: TypeError\n",
    "======================================================== short test summary info ========================================================\n",
    "FAILED test_name_function.py::test_first_last_name - TypeError: get_formatted_name() missing 1 required positional argument: 'last'\n",
    "=========================================================== 1 failed in 0.03s ===========================================================\n"
   ]
  },
  {
   "cell_type": "markdown",
   "metadata": {},
   "source": [
    "## Responding to a Failed Test"
   ]
  },
  {
   "cell_type": "markdown",
   "metadata": {},
   "source": [
    "When the test fails, don't change the test. If you do, the tests might pass, but any code that calls your function like the test does will suddenly stop working.\n",
    "\n",
    "Instead, fix the code that's causing the test to fail.\n",
    "\n",
    "In this case, get_formatted_name() used to require only two parameters.\n",
    "\n",
    "The addition of a mandatory middle name broke the original behavior.\n",
    "\n",
    "We can modify get_formatted_name() to accept a middle name as optional."
   ]
  },
  {
   "cell_type": "code",
   "execution_count": 2,
   "metadata": {},
   "outputs": [],
   "source": [
    "def get_formatted_name(first, last, middle=''):\n",
    "    \"\"\"Generate a neatly formatted name\"\"\"\n",
    "\n",
    "    if middle:\n",
    "        full_name = f\"{first} {middle} {last}\"\n",
    "    else:\n",
    "        full_name = f\"{first} {last}\"\n",
    "\n",
    "    return full_name.title()"
   ]
  },
  {
   "cell_type": "markdown",
   "metadata": {},
   "source": [
    "## Adding New Tests"
   ]
  },
  {
   "cell_type": "markdown",
   "metadata": {},
   "source": [
    "We can add another test function to test the file test_name_function.py:"
   ]
  },
  {
   "cell_type": "code",
   "execution_count": 3,
   "metadata": {},
   "outputs": [],
   "source": [
    "from webbrowser import get\n",
    "from name_function import get_formatted_name\n",
    "\n",
    "def test_first_last_name():\n",
    "    \"\"\"Do names like 'Janis Joplin' work?\"\"\"\n",
    "    formatted_name = get_formatted_name('janis', 'joplin')\n",
    "    assert formatted_name == 'Janis Joplin'\n",
    "\n",
    "def test_first_last_middle_name():\n",
    "    \"\"\"Do names like 'Wolfgang Amadeus Mozart' work?\"\"\"\n",
    "    formatted_name = get_formatted_name('wolfgang', 'mozart', 'amadeus')\n",
    "    assert formatted_name == 'Wolfgang Amadeus Mozart'"
   ]
  },
  {
   "cell_type": "markdown",
   "metadata": {},
   "source": [
    "Exercise 11.1 City, Country:\n",
    "Write a function that accepts two parameters: city and country\n",
    "The function should return a single string of the form City, Country\n",
    "Store the function in a module called city_functions.py\n",
    "Save this file in a new folder so pytest won't try to run the tests we've already written.\n",
    "\n",
    "Create a file called test_citites.py that tests the function you just wrote.\n",
    "Write a function called test_city_country() to verify that calling your function with values such as 'santiago' and 'chile' results in the correct string."
   ]
  },
  {
   "cell_type": "markdown",
   "metadata": {},
   "source": [
    "Exercise 11.2 Population: Modify your function so it requires a third parameter, population.\n",
    "It should return a single string of the form City, Country - population xxx\n",
    "run the test again and make sure the test fails.\n",
    "\n",
    "Modify the function fo the population parameter is optional. Run the test again and make sure it passes.\n",
    "\n",
    "Write a second test called test_city_country_population() that verifies you can call your function with the values 'santiago', 'chile', 'population=50000'."
   ]
  },
  {
   "cell_type": "code",
   "execution_count": 5,
   "metadata": {},
   "outputs": [],
   "source": [
    "#city_functions.py\n",
    "def format_city_country(city, country, population=''):\n",
    "    \"\"\"A function that formats the city and country into a string\"\"\"\n",
    "    city_country = f\"{city}, {country}\".title()\n",
    "    if population:\n",
    "        population = f\"population {population}\"\n",
    "        return f\"{city_country} - {population}\"\n",
    "    else:\n",
    "        return city_country\n",
    "    \n",
    "#test_cities.py\n",
    "import sys\n",
    "sys.path.insert(0,'./Exercise_11.1_City_Country')\n",
    "from city_functions import format_city_country\n",
    "\n",
    "def test_city_country():\n",
    "    \"\"\"A function to test format_city_country\"\"\"\n",
    "    city_country = format_city_country('santiago','chile')\n",
    "    assert city_country == 'Santiago, Chile'\n",
    "\n",
    "def test_city_country_population():\n",
    "    \"\"\"A function to test format_city_country with population\"\"\"\n",
    "    city_country = format_city_country('santiago','chile', population='500000')\n",
    "    assert city_country == 'Santiago, Chile - population 500000'"
   ]
  },
  {
   "cell_type": "markdown",
   "metadata": {},
   "source": [
    "## A variety of Assertions"
   ]
  },
  {
   "cell_type": "markdown",
   "metadata": {},
   "source": [
    "When writing a test, you can make any claim that can be expressed as a conditional statement."
   ]
  },
  {
   "cell_type": "markdown",
   "metadata": {},
   "source": [
    "| Assertion | Claim |\n",
    "| ----------| ------|\n",
    "| assert a == b | Assert that two values are equal |\n",
    "| assert a != b | Assert that two values are not equal |\n",
    "| assert a | Assert that a evaluates to True.\n",
    "| assert not a | Assert that a does not evaluate to True.\n",
    "| assert element in list | Assert that an element is in a list.\n",
    "| assert element not in list | Assert that an element is not in a list."
   ]
  },
  {
   "cell_type": "markdown",
   "metadata": {},
   "source": [
    "## A Class to Test"
   ]
  },
  {
   "cell_type": "markdown",
   "metadata": {},
   "source": [
    "Let's write a class to test:"
   ]
  },
  {
   "cell_type": "code",
   "execution_count": 4,
   "metadata": {},
   "outputs": [],
   "source": [
    "# survey.py\n",
    "\n",
    "class AnonymousSurvey:\n",
    "    \"\"\"Collect anonymous answers to a survey question.\"\"\"    \n",
    "\n",
    "    def __init__(self, question):\n",
    "        \"\"\"Stores a question, and prepare to store responses.\"\"\"\n",
    "        self.question = question\n",
    "        self.responses = []\n",
    "\n",
    "    def show_question(self):\n",
    "        \"\"\"Show the survey question\"\"\"\n",
    "        print(self.question)\n",
    "\n",
    "    def store_response(self, new_response):\n",
    "        \"\"\"Store a single response to the survey.\"\"\"\n",
    "        self.responses.append(new_response)\n",
    "\n",
    "    def show_results(self):\n",
    "        \"\"\"Show all the responses that have been given.\"\"\"\n",
    "        print(\"Survey results:\")\n",
    "        for response in self.responses:\n",
    "            print(f\"- {response}\")"
   ]
  },
  {
   "cell_type": "code",
   "execution_count": 5,
   "metadata": {},
   "outputs": [
    {
     "name": "stdout",
     "output_type": "stream",
     "text": [
      "Enter 'q' at any time to quit.\n"
     ]
    }
   ],
   "source": [
    "#language_survey.py\n",
    "from survey import AnonymousSurvey\n",
    "\n",
    "# Define a question, and make a survey.\n",
    "\n",
    "question = \"What language did you first learn to speak?\"\n",
    "language_survey = AnonymousSurvey(question)\n",
    "\n",
    "# Show the question and store the responses to the question.\n",
    "print(\"Enter 'q' at any time to quit.\")\n",
    "while True:\n",
    "    response = input(\"Language: \")\n",
    "    if response == 'q':\n",
    "        break\n",
    "    language_survey.store_response(response)\n",
    "\n",
    "#Show the survey results:\n",
    "    print(\"\\n Thank you to everyone who participated in the survey!\")\n",
    "    language_survey.show_results()"
   ]
  },
  {
   "cell_type": "markdown",
   "metadata": {},
   "source": [
    "## Testing the AnonymousSurvey Class"
   ]
  },
  {
   "cell_type": "code",
   "execution_count": 1,
   "metadata": {},
   "outputs": [],
   "source": [
    "from survey import AnonymousSurvey\n",
    "\n",
    "def test_store_single_response():\n",
    "    \"\"\"Test that a single response is stored properly.\"\"\"\n",
    "    question = \"What language did you first learn to speak?\"\n",
    "    language_survey = AnonymousSurvey(question)\n",
    "    language_survey.store_response('English')\n",
    "    assert 'English' in language_survey.responses\n",
    "\n",
    "def test_store_three_responses():\n",
    "    \"\"\"Test that three individual responses are stored properly.\"\"\"\n",
    "    question = \"What language did you first learn to speak?\"\n",
    "    language_survey = AnonymousSurvey(question)\n",
    "    responses = ['English', 'Spanish', 'Mandarin']\n",
    "    for response in responses:\n",
    "        language_survey.store_response(response)\n",
    "    \n",
    "    for response in responses:\n",
    "        assert response in language_survey.responses"
   ]
  },
  {
   "cell_type": "markdown",
   "metadata": {},
   "source": [
    "To run pytest on a specific file:\n",
    "\n",
    " $ pytest test_survey"
   ]
  },
  {
   "cell_type": "markdown",
   "metadata": {},
   "source": [
    "## Using Fixtures"
   ]
  },
  {
   "cell_type": "markdown",
   "metadata": {},
   "source": [
    "In testing, a fixture helps set up a test environment. Often, this means creating a resource that's used by more than one test.\n",
    "\n",
    "We create a fixture in Python by writing a function with the decorator @pytest.fixture.\n",
    "\n",
    "A decorator is a directive placed just before a function definition. Python applies this directive to the function before it runs to alter how to function code behaves."
   ]
  },
  {
   "cell_type": "code",
   "execution_count": 2,
   "metadata": {},
   "outputs": [],
   "source": [
    "import sys\n",
    "sys.path.insert(0,'./testing')\n",
    "\n",
    "#test_survey.py\n",
    "import pytest\n",
    "from survey import AnonymousSurvey\n",
    "\n",
    "@pytest.fixture\n",
    "def language_survey():\n",
    "    \"\"\"A survey that will be available to test functions\"\"\"\n",
    "    question = \"What language did you first learn to speak?\"\n",
    "    language_survey = AnonymousSurvey(question)\n",
    "    return language_survey\n",
    "\n",
    "def test_store_single_response(language_survey):\n",
    "    \"\"\"Test that a single response is stored properly.\"\"\"\n",
    "    language_survey.store_response('English')\n",
    "    assert 'English' in language_survey.responses\n",
    "\n",
    "def test_store_three_responses(language_survey):\n",
    "    \"\"\"Test that three individual responses are stored properly.\"\"\"\n",
    "    responses = ['English', 'Spanish', 'Mandarin']\n",
    "    for response in responses:\n",
    "        language_survey.store_response(response)\n",
    "    \n",
    "    for response in responses:\n",
    "        assert response in language_survey.responses"
   ]
  },
  {
   "cell_type": "markdown",
   "metadata": {},
   "source": [
    "When a parameter in a test function matches the name of a function with the @pytest.fixture decorator, the fixture will be run automatically and the return value will be passed to the test function."
   ]
  },
  {
   "cell_type": "markdown",
   "metadata": {},
   "source": [
    "When you have written enough tests that the repetition is getting in the way, a well established way to deal with it is to use fixtures."
   ]
  },
  {
   "cell_type": "markdown",
   "metadata": {},
   "source": [
    "When you want to write a fixture:\n",
    " - write a function that generates the resource that's used by multiple test functions.\n",
    " - Add @pytest.fixture decorator to the new function\n",
    " - Add the name of this function as a parameter for each test function that uses this resource"
   ]
  },
  {
   "cell_type": "code",
   "execution_count": null,
   "metadata": {},
   "outputs": [],
   "source": [
    "#Exercise 11.3 Employee:\n",
    "\"\"\"\n",
    "Write a class called Employee. \n",
    "\n",
    "The __init__() method should take in a first name, a last name and an annual salary\n",
    "\n",
    "Write a method called give_raise() that adds $5,000 to the annual salary by default \n",
    "but also accepts a different raise amount.\n",
    "\n",
    "\"\"\"\n",
    "\n"
   ]
  }
 ],
 "metadata": {
  "kernelspec": {
   "display_name": "base",
   "language": "python",
   "name": "python3"
  },
  "language_info": {
   "codemirror_mode": {
    "name": "ipython",
    "version": 3
   },
   "file_extension": ".py",
   "mimetype": "text/x-python",
   "name": "python",
   "nbconvert_exporter": "python",
   "pygments_lexer": "ipython3",
   "version": "3.11.5"
  }
 },
 "nbformat": 4,
 "nbformat_minor": 2
}
