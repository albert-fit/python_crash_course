{
 "cells": [
  {
   "cell_type": "markdown",
   "metadata": {},
   "source": [
    "# Functions"
   ]
  },
  {
   "cell_type": "markdown",
   "metadata": {},
   "source": [
    "## Defining a function\n"
   ]
  },
  {
   "cell_type": "code",
   "execution_count": 2,
   "metadata": {},
   "outputs": [
    {
     "name": "stdout",
     "output_type": "stream",
     "text": [
      "Hello!\n"
     ]
    }
   ],
   "source": [
    "# a simple function that displays a greeting:\n",
    "\n",
    "def greet_user():\n",
    "    #This part is a docstring\n",
    "    \"\"\"Display a simple greeting.\"\"\"\n",
    "    print(\"Hello!\")\n",
    "\n",
    "greet_user()"
   ]
  },
  {
   "cell_type": "markdown",
   "metadata": {},
   "source": [
    "## Passing information to a function"
   ]
  },
  {
   "cell_type": "code",
   "execution_count": 3,
   "metadata": {},
   "outputs": [
    {
     "name": "stdout",
     "output_type": "stream",
     "text": [
      "Hello, Jesse\n"
     ]
    }
   ],
   "source": [
    "#You can greet by username:\n",
    "def greet_user(username):\n",
    "    \"\"\"Display a simple greeting.\"\"\"\n",
    "    print(f\"Hello, {username.title()}\")\n",
    "\n",
    "greet_user('jesse')"
   ]
  },
  {
   "cell_type": "markdown",
   "metadata": {},
   "source": [
    "## Arguments and parameters"
   ]
  },
  {
   "cell_type": "markdown",
   "metadata": {},
   "source": [
    "The variable username in the definition of greet_user() is an example of a parameter, a piece of infromation the function need to do its job. The value 'jesse' in greet_user('jesse') is an example of an argument. An argument is a piece of information that is passed from a function call to a function.\n",
    "\n",
    "In this case the argument 'jesse' was passed to the function greet_user(), and the value was stored in the parameter username."
   ]
  },
  {
   "cell_type": "markdown",
   "metadata": {},
   "source": [
    "### Note"
   ]
  },
  {
   "cell_type": "markdown",
   "metadata": {},
   "source": [
    "People sometimes speak of arguments and parameters interchangeably. Don't be surprised if you see the variables in a function definition reffered to as arguments or the variables in a function call reffered to as parameters."
   ]
  },
  {
   "cell_type": "code",
   "execution_count": 6,
   "metadata": {},
   "outputs": [],
   "source": [
    "#Excercise 8.1\n",
    "def display_message():\n",
    "    \"\"\"Displays a message describing chapter 8: Functions\"\"\"\n",
    "    print(\"Chapter 8 is all about functins. \\nSo far we learned about docstrings, defining a function and passing arguments to parameters.\")"
   ]
  },
  {
   "cell_type": "code",
   "execution_count": 7,
   "metadata": {},
   "outputs": [
    {
     "name": "stdout",
     "output_type": "stream",
     "text": [
      "Chapter 8 is all about functins. \n",
      "So far we learned about docstrings, defining a function and passing arguments to parameters.\n"
     ]
    }
   ],
   "source": [
    "display_message()"
   ]
  },
  {
   "cell_type": "code",
   "execution_count": 12,
   "metadata": {},
   "outputs": [],
   "source": [
    "def favorite_book(title):\n",
    "    print(f\"My favorite book is {title.title()}.\")"
   ]
  },
  {
   "cell_type": "code",
   "execution_count": 13,
   "metadata": {},
   "outputs": [
    {
     "name": "stdout",
     "output_type": "stream",
     "text": [
      "My favorite book is The 48 Laws Of Power.\n"
     ]
    }
   ],
   "source": [
    "favorite_book(\"The 48 laws of power\")"
   ]
  },
  {
   "cell_type": "markdown",
   "metadata": {},
   "source": [
    "## Passing arguments"
   ]
  },
  {
   "cell_type": "markdown",
   "metadata": {},
   "source": [
    "You can pass arguments to your functions in a number of ways.\n",
    " - Positional arguments: need to be in the same order the parameters were written.\n",
    " - Keyword arguments: each argument consists of a variable name and a value.\n",
    " - Lists and dictionaries of values"
   ]
  },
  {
   "cell_type": "markdown",
   "metadata": {},
   "source": [
    "## Positional arguments"
   ]
  },
  {
   "cell_type": "code",
   "execution_count": 14,
   "metadata": {},
   "outputs": [
    {
     "name": "stdout",
     "output_type": "stream",
     "text": [
      "\n",
      "I have a hamster.\n",
      "My hamster's name is Harry.\n"
     ]
    }
   ],
   "source": [
    "def describe_pet(animal_type, pet_name):\n",
    "    \"\"\"Display information about a pet.\"\"\"\n",
    "    print(f\"\\nI have a {animal_type}.\")\n",
    "    print(f\"My {animal_type}'s name is {pet_name.title()}.\")\n",
    "\n",
    "describe_pet('hamster', 'harry')"
   ]
  },
  {
   "cell_type": "markdown",
   "metadata": {},
   "source": [
    "##  Multiple function calls"
   ]
  },
  {
   "cell_type": "markdown",
   "metadata": {},
   "source": [
    "You can call a function as many times as needed.\n"
   ]
  },
  {
   "cell_type": "code",
   "execution_count": 15,
   "metadata": {},
   "outputs": [
    {
     "name": "stdout",
     "output_type": "stream",
     "text": [
      "\n",
      "I have a dog.\n",
      "My dog's name is Jon.\n"
     ]
    }
   ],
   "source": [
    "describe_pet('dog','jon')"
   ]
  },
  {
   "cell_type": "markdown",
   "metadata": {},
   "source": [
    "## Order matters in positional arguments"
   ]
  },
  {
   "cell_type": "code",
   "execution_count": 16,
   "metadata": {},
   "outputs": [
    {
     "name": "stdout",
     "output_type": "stream",
     "text": [
      "\n",
      "I have a harry.\n",
      "My harry's name is Hamster.\n"
     ]
    }
   ],
   "source": [
    "describe_pet('harry', 'hamster')"
   ]
  },
  {
   "cell_type": "markdown",
   "metadata": {},
   "source": [
    "## Keyword arguments"
   ]
  },
  {
   "cell_type": "markdown",
   "metadata": {},
   "source": [
    "A keyword argument is a name-value pair that you pass to a function. You directly associate the name and the value within the argument, so when you pass the argument to the function, there's no confusion."
   ]
  },
  {
   "cell_type": "code",
   "execution_count": 1,
   "metadata": {},
   "outputs": [
    {
     "name": "stdout",
     "output_type": "stream",
     "text": [
      "\n",
      "I have a hamster\n",
      "my hamster is called Harry.\n"
     ]
    }
   ],
   "source": [
    "def describe_pet(animal_type, pet_name):\n",
    "    \"\"\"Display information about a pet.\"\"\"\n",
    "    print(f\"\\nI have a {animal_type}\")\n",
    "    print(f\"my {animal_type} is called {pet_name.title()}.\")\n",
    "\n",
    "describe_pet(animal_type='hamster', pet_name='harry')\n",
    "\n"
   ]
  },
  {
   "cell_type": "markdown",
   "metadata": {},
   "source": [
    "***Note:*** *When you use keyword arguments, be sure to use the exact names of the parameters in the function's definition.*"
   ]
  },
  {
   "cell_type": "markdown",
   "metadata": {},
   "source": [
    "## Default Values"
   ]
  },
  {
   "cell_type": "markdown",
   "metadata": {},
   "source": [
    "You can write default values for parameters in the function definition. When function calls omit these arguments the default values will be used."
   ]
  },
  {
   "cell_type": "code",
   "execution_count": 3,
   "metadata": {},
   "outputs": [
    {
     "name": "stdout",
     "output_type": "stream",
     "text": [
      "\n",
      "I have a dog.\n",
      "My dog's name is Willie.\n"
     ]
    }
   ],
   "source": [
    "def describe_pet(pet_name, animal_type=\"dog\"):\n",
    "    \"\"\"Display information about a pet.\"\"\"\n",
    "    print (f\"\\nI have a {animal_type}.\")\n",
    "    print(f\"My {animal_type}'s name is {pet_name.title()}.\")\n",
    "\n",
    "describe_pet(pet_name=\"willie\")"
   ]
  },
  {
   "cell_type": "code",
   "execution_count": 4,
   "metadata": {},
   "outputs": [
    {
     "name": "stdout",
     "output_type": "stream",
     "text": [
      "\n",
      "I have a hamster.\n",
      "My hamster's name is Harry.\n"
     ]
    }
   ],
   "source": [
    "describe_pet(pet_name=\"harry\", animal_type='hamster')"
   ]
  },
  {
   "cell_type": "markdown",
   "metadata": {},
   "source": [
    "***Note:*** *When you use default values, any parameter with a default value needs to be listed after all the parameters that don't have default values. This allows Python to continue interpreting positional arguments correctly.*"
   ]
  },
  {
   "cell_type": "markdown",
   "metadata": {},
   "source": [
    "## Equivalent function calls"
   ]
  },
  {
   "cell_type": "markdown",
   "metadata": {},
   "source": [
    "All the following calls would work for this function:"
   ]
  },
  {
   "cell_type": "code",
   "execution_count": 6,
   "metadata": {},
   "outputs": [
    {
     "name": "stdout",
     "output_type": "stream",
     "text": [
      "\n",
      "I have a dog.\n",
      "My dog's name is Willie.\n",
      "\n",
      "I have a dog.\n",
      "My dog's name is Willie.\n"
     ]
    }
   ],
   "source": [
    "# A dog named Willie\n",
    "describe_pet('willie')\n",
    "describe_pet(pet_name='willie')\n"
   ]
  },
  {
   "cell_type": "code",
   "execution_count": 7,
   "metadata": {},
   "outputs": [
    {
     "name": "stdout",
     "output_type": "stream",
     "text": [
      "\n",
      "I have a hamster.\n",
      "My hamster's name is Harry.\n",
      "\n",
      "I have a hamster.\n",
      "My hamster's name is Harry.\n",
      "\n",
      "I have a hamster.\n",
      "My hamster's name is Harry.\n"
     ]
    }
   ],
   "source": [
    "# A hamster named Harry\n",
    "describe_pet('harry', 'hamster')\n",
    "describe_pet(pet_name='harry', animal_type='hamster')\n",
    "describe_pet(animal_type='hamster', pet_name='harry')"
   ]
  },
  {
   "cell_type": "markdown",
   "metadata": {},
   "source": [
    "## Avoiding Argument Errors"
   ]
  },
  {
   "cell_type": "markdown",
   "metadata": {},
   "source": [
    "Unmatched arguments occur when you provide fewer or more arguments than a function needs to do its work."
   ]
  },
  {
   "cell_type": "code",
   "execution_count": 9,
   "metadata": {},
   "outputs": [
    {
     "ename": "TypeError",
     "evalue": "describe_pet() missing 2 required positional arguments: 'animal_type' and 'pet_name'",
     "output_type": "error",
     "traceback": [
      "\u001b[0;31m---------------------------------------------------------------------------\u001b[0m",
      "\u001b[0;31mTypeError\u001b[0m                                 Traceback (most recent call last)",
      "\u001b[1;32m/Users/Albert/Documents/Coding Bootcamp/python_crash_course/functions.ipynb Cell 38\u001b[0m line \u001b[0;36m6\n\u001b[1;32m      <a href='vscode-notebook-cell:/Users/Albert/Documents/Coding%20Bootcamp/python_crash_course/functions.ipynb#Y101sZmlsZQ%3D%3D?line=2'>3</a>\u001b[0m     \u001b[39mprint\u001b[39m(\u001b[39mf\u001b[39m\u001b[39m\"\u001b[39m\u001b[39m\\n\u001b[39;00m\u001b[39mI have a \u001b[39m\u001b[39m{\u001b[39;00manimal_type\u001b[39m}\u001b[39;00m\u001b[39m.\u001b[39m\u001b[39m\"\u001b[39m)\n\u001b[1;32m      <a href='vscode-notebook-cell:/Users/Albert/Documents/Coding%20Bootcamp/python_crash_course/functions.ipynb#Y101sZmlsZQ%3D%3D?line=3'>4</a>\u001b[0m     \u001b[39mprint\u001b[39m(\u001b[39mf\u001b[39m\u001b[39m\"\u001b[39m\u001b[39mMy \u001b[39m\u001b[39m{\u001b[39;00manimal_type\u001b[39m}\u001b[39;00m\u001b[39m'\u001b[39m\u001b[39ms name is \u001b[39m\u001b[39m{\u001b[39;00mpet_name\u001b[39m.\u001b[39mtitle()\u001b[39m}\u001b[39;00m\u001b[39m.\u001b[39m\u001b[39m\"\u001b[39m)\n\u001b[0;32m----> <a href='vscode-notebook-cell:/Users/Albert/Documents/Coding%20Bootcamp/python_crash_course/functions.ipynb#Y101sZmlsZQ%3D%3D?line=5'>6</a>\u001b[0m describe_pet()\n",
      "\u001b[0;31mTypeError\u001b[0m: describe_pet() missing 2 required positional arguments: 'animal_type' and 'pet_name'"
     ]
    }
   ],
   "source": [
    "def describe_pet(animal_type, pet_name):\n",
    "    \"\"\"Display information about a pet.\"\"\"\n",
    "    print(f\"\\nI have a {animal_type}.\")\n",
    "    print(f\"My {animal_type}'s name is {pet_name.title()}.\")\n",
    "\n",
    "describe_pet()"
   ]
  },
  {
   "cell_type": "markdown",
   "metadata": {},
   "source": [
    "The traceback tells you the location of the problem, with the name of the function followed by the line number where the problem is found. The traceback also tells you why the error occurred. In this case, Python tells us the function call needs one argument."
   ]
  },
  {
   "cell_type": "code",
   "execution_count": 13,
   "metadata": {},
   "outputs": [],
   "source": [
    "#Excercise 8.3\n",
    "\n",
    "#write a function make_shirt() that accepts a size and the text message that should be printed on the shirt\n",
    "def make_shirt(size, text_message):\n",
    "    #the function should print a sentence summarizing the size of the shirt and the message printed on it. \n",
    "    print(f\"The size you have ordered is {size} and the message is: '{text_message}'\")"
   ]
  },
  {
   "cell_type": "code",
   "execution_count": 15,
   "metadata": {},
   "outputs": [
    {
     "name": "stdout",
     "output_type": "stream",
     "text": [
      "The size you have ordered is L and the message is: 'You look great!'\n"
     ]
    }
   ],
   "source": [
    "make_shirt(size='L', text_message=\"You look great!\")"
   ]
  },
  {
   "cell_type": "code",
   "execution_count": 17,
   "metadata": {},
   "outputs": [],
   "source": [
    "#Excercise 8.4\n",
    "\n",
    "#modify the function so that the size is L by default with a message that reads 'I love Python'.\n",
    "def make_shirt(size=\"L\", text_message=\"I Love Python\"):\n",
    "    print(f\"The size you have ordered is {size} and the message is: '{text_message}'\")    "
   ]
  },
  {
   "cell_type": "code",
   "execution_count": 18,
   "metadata": {},
   "outputs": [
    {
     "name": "stdout",
     "output_type": "stream",
     "text": [
      "The size you have ordered is M and the message is: 'I Love Python'\n"
     ]
    }
   ],
   "source": [
    "make_shirt(size=\"M\")"
   ]
  },
  {
   "cell_type": "code",
   "execution_count": 19,
   "metadata": {},
   "outputs": [
    {
     "name": "stdout",
     "output_type": "stream",
     "text": [
      "The size you have ordered is L and the message is: 'I Love Python'\n"
     ]
    }
   ],
   "source": [
    "make_shirt()"
   ]
  },
  {
   "cell_type": "code",
   "execution_count": 20,
   "metadata": {},
   "outputs": [
    {
     "name": "stdout",
     "output_type": "stream",
     "text": [
      "The size you have ordered is S and the message is: 'I Love ML'\n"
     ]
    }
   ],
   "source": [
    "make_shirt(size=\"S\", text_message=\"I Love ML\")"
   ]
  },
  {
   "cell_type": "code",
   "execution_count": 21,
   "metadata": {},
   "outputs": [
    {
     "name": "stdout",
     "output_type": "stream",
     "text": [
      "Dusseldorf is in Germany\n"
     ]
    }
   ],
   "source": [
    "#Excercise 8.5\n",
    "\n",
    "#Write a function called describe_city() that accepts the  name of a city and its country\n",
    "def describe_city(city_name, country=\"Germany\"):\n",
    "    #print a simple sentence:\n",
    "    print(f\"{city_name.title()} is in {country.title()}\")\n",
    "\n",
    "#Call the function for three different cities:\n",
    "\n",
    "describe_city('dusseldorf')"
   ]
  },
  {
   "cell_type": "code",
   "execution_count": 22,
   "metadata": {},
   "outputs": [
    {
     "name": "stdout",
     "output_type": "stream",
     "text": [
      "Nurenberg is in Germany\n"
     ]
    }
   ],
   "source": [
    "describe_city(city_name=\"Nurenberg\")"
   ]
  },
  {
   "cell_type": "code",
   "execution_count": 23,
   "metadata": {},
   "outputs": [
    {
     "name": "stdout",
     "output_type": "stream",
     "text": [
      "Bucharest is in Romania\n"
     ]
    }
   ],
   "source": [
    "describe_city(city_name=\"Bucharest\", country=\"Romania\")"
   ]
  },
  {
   "cell_type": "markdown",
   "metadata": {},
   "source": [
    "# Return values"
   ]
  },
  {
   "cell_type": "markdown",
   "metadata": {},
   "source": [
    "The return statement takes a value from inside a function and sends it back to the line that called the function."
   ]
  },
  {
   "cell_type": "markdown",
   "metadata": {},
   "source": [
    "## Returning a simple value"
   ]
  },
  {
   "cell_type": "code",
   "execution_count": 25,
   "metadata": {},
   "outputs": [
    {
     "name": "stdout",
     "output_type": "stream",
     "text": [
      "Jimi Hendrix\n"
     ]
    }
   ],
   "source": [
    "#A function that take a first and last name and returns a neatly formatted full name:\n",
    "def get_formatted_name(first_name, last_name):\n",
    "    \"\"\"return a full name, neatly formatted.\"\"\"\n",
    "    full_name = f\"{first_name} {last_name}\"\n",
    "    return full_name.title()\n",
    "\n",
    "musician = get_formatted_name(first_name='jimi', last_name=\"hendrix\")\n",
    "print(musician)"
   ]
  },
  {
   "cell_type": "markdown",
   "metadata": {},
   "source": [
    "## Making an argument optional"
   ]
  },
  {
   "cell_type": "code",
   "execution_count": 27,
   "metadata": {},
   "outputs": [
    {
     "name": "stdout",
     "output_type": "stream",
     "text": [
      "Jimi  Hendrix\n",
      "John Hooker Lee\n"
     ]
    }
   ],
   "source": [
    "#To add a middle name but make it optional, give middle_name an empty default value\n",
    "def get_formatted_name(first_name, last_name, middle_name=\"\"):\n",
    "    \"\"\"return a full name, neatly formatted.\"\"\"\n",
    "    full_name = f\"{first_name} {middle_name} {last_name}\"\n",
    "    return full_name.title()\n",
    "\n",
    "musician = get_formatted_name(first_name='jimi', last_name=\"hendrix\")\n",
    "print(musician)\n",
    "\n",
    "musician2 = get_formatted_name(first_name='john', middle_name='hooker', last_name='lee')\n",
    "print(musician2)"
   ]
  },
  {
   "cell_type": "markdown",
   "metadata": {},
   "source": [
    "## Returning a dictionary\n"
   ]
  },
  {
   "cell_type": "code",
   "execution_count": 29,
   "metadata": {},
   "outputs": [
    {
     "name": "stdout",
     "output_type": "stream",
     "text": [
      "{'first': 'jimi', 'last': 'hendrix'}\n",
      "jimi\n"
     ]
    }
   ],
   "source": [
    "def build_person(first_name, last_name):\n",
    "    \"\"\"Return a dictionary of information about a person.\"\"\"\n",
    "    person = {'first': first_name, 'last': last_name}\n",
    "    return person\n",
    "\n",
    "musician = build_person('jimi', 'hendrix')\n",
    "print(musician)\n",
    "print(musician['first'])"
   ]
  },
  {
   "cell_type": "code",
   "execution_count": 30,
   "metadata": {},
   "outputs": [
    {
     "name": "stdout",
     "output_type": "stream",
     "text": [
      "{'first': 'jimi', 'last': 'hendrix', 'age': 99}\n"
     ]
    }
   ],
   "source": [
    "# to extend the function to accept optional values such as age:\n",
    "def build_person(first_name, last_name, age=None):\n",
    "    \"\"\"Return a dictionary of information about a person.\"\"\"\n",
    "    person = {'first': first_name, 'last': last_name}\n",
    "    if age:\n",
    "        person['age'] = age\n",
    "    return person\n",
    "\n",
    "musician = build_person('jimi', 'hendrix', 99)\n",
    "print(musician)\n"
   ]
  },
  {
   "cell_type": "markdown",
   "metadata": {},
   "source": [
    "## Using a function with a while loop"
   ]
  },
  {
   "cell_type": "markdown",
   "metadata": {},
   "source": [
    "Let's use  the get_formatted_name() function with a wile loop to greet users more formally."
   ]
  },
  {
   "cell_type": "code",
   "execution_count": 31,
   "metadata": {},
   "outputs": [
    {
     "name": "stdout",
     "output_type": "stream",
     "text": [
      "\n",
      "Please tell me your name:\n",
      "(enter 'q' at any time to quit)\n",
      "\n",
      "Hello, Albert Fit!\n",
      "\n",
      "Please tell me your name:\n",
      "(enter 'q' at any time to quit)\n"
     ]
    }
   ],
   "source": [
    "def get_formatted_name(first_name, last_name):\n",
    "    \"\"\"Return a full name, neatly formatted.\"\"\"\n",
    "    full_name=f\"{first_name} {last_name}\"\n",
    "    return full_name.title()\n",
    "\n",
    "while True:\n",
    "    print(\"\\nPlease tell me your name:\")\n",
    "    print(\"(enter 'q' at any time to quit)\")\n",
    "\n",
    "    f_name = input(\"First name:\")\n",
    "    if f_name == 'q':\n",
    "        break\n",
    "\n",
    "    l_name = input(\"Last name:\")\n",
    "    if l_name == 'q':\n",
    "        break\n",
    "\n",
    "    formatted_name = get_formatted_name(f_name, l_name)\n",
    "    print(f\"\\nHello, {formatted_name}!\")"
   ]
  },
  {
   "cell_type": "code",
   "execution_count": 33,
   "metadata": {},
   "outputs": [
    {
     "name": "stdout",
     "output_type": "stream",
     "text": [
      "London, Uk\n"
     ]
    }
   ],
   "source": [
    "# Excercise 8.6\n",
    "\n",
    "#Write a function called city_country() that takes in the name of a city and it's country.\n",
    "\n",
    "def city_country(city, country):\n",
    "    city_and_country = f\"{city}, {country}\"\n",
    "    return city_and_country.title()\n",
    "\n",
    "print(city_country(\"london\", \"uk\"))"
   ]
  },
  {
   "cell_type": "code",
   "execution_count": 34,
   "metadata": {},
   "outputs": [
    {
     "data": {
      "text/plain": [
       "{'Artist': 'Metallica', 'Album Title': 'Enter Sandman'}"
      ]
     },
     "execution_count": 34,
     "metadata": {},
     "output_type": "execute_result"
    }
   ],
   "source": [
    "#Write a function called make_album that builds a dictionary describing a music album/\n",
    "#The function parameters should be artist name and album title. \n",
    "#The function should return a dictionary representing the two arguments.\n",
    "\n",
    "def make_album(artist, album_title):\n",
    "    album = {\n",
    "        'Artist': artist.title(),\n",
    "        'Album Title': album_title.title()\n",
    "    }\n",
    "\n",
    "    return album\n",
    "\n",
    "make_album('metallica', 'enter sandman')"
   ]
  },
  {
   "cell_type": "code",
   "execution_count": 36,
   "metadata": {},
   "outputs": [
    {
     "name": "stdout",
     "output_type": "stream",
     "text": [
      "\n",
      "Please enter the artist and album:\n",
      "\n",
      "(type 'q' to quit)\n",
      "{'Artist': 'Metallica', 'Album Title': 'Enter Sandman'}\n",
      "\n",
      "Please enter the artist and album:\n",
      "\n",
      "(type 'q' to quit)\n"
     ]
    }
   ],
   "source": [
    "# Excercise 8.7\n",
    "# Write a while loop that allows the user to enter an album's artist and title. \n",
    "# Call make_album() with the user's input and print the dictionary that's created.\n",
    "\n",
    "while True:\n",
    "    print(\"\\nPlease enter the artist and album:\")\n",
    "    print(\"\\n(type 'q' to quit)\")\n",
    "\n",
    "    artist = input(\"Artist\")\n",
    "    if artist == 'q':\n",
    "        break\n",
    "\n",
    "    album = input('Album')\n",
    "    if album == 'q':\n",
    "        break\n",
    "\n",
    "    print(make_album(artist, album))\n",
    "\n"
   ]
  },
  {
   "cell_type": "markdown",
   "metadata": {},
   "source": [
    "## Passing a list"
   ]
  },
  {
   "cell_type": "markdown",
   "metadata": {},
   "source": [
    "Say we have a list of users and awnt to print a greeting to each. The following example sends a list of names to a function called greet_users()."
   ]
  },
  {
   "cell_type": "code",
   "execution_count": 37,
   "metadata": {},
   "outputs": [
    {
     "name": "stdout",
     "output_type": "stream",
     "text": [
      "Hello, Hannah!\n",
      "Hello, Ty!\n",
      "Hello, Margot!\n"
     ]
    }
   ],
   "source": [
    "def greet_users(names):\n",
    "    \"\"\"Print a simple greeting to each user in the list.\"\"\"\n",
    "\n",
    "    for name in names:\n",
    "            msg = f\"Hello, {name.title()}!\"\n",
    "            print(msg)\n",
    "\n",
    "usernames = ['hannah', 'ty', 'margot']\n",
    "\n",
    "greet_users(usernames)"
   ]
  },
  {
   "cell_type": "markdown",
   "metadata": {},
   "source": [
    "## Modifying a List in a Function"
   ]
  },
  {
   "cell_type": "markdown",
   "metadata": {},
   "source": [
    "When you pass a list to a function, the function can modify the list. Any changes made to the list inside the function's body are permanent."
   ]
  },
  {
   "cell_type": "markdown",
   "metadata": {},
   "source": [
    "Consider a company that creates 3D prints. Designs that need to be printed are stored in a list, after being printed, they're moved to another list. \n"
   ]
  },
  {
   "cell_type": "code",
   "execution_count": 38,
   "metadata": {},
   "outputs": [
    {
     "name": "stdout",
     "output_type": "stream",
     "text": [
      "Printing model: dodecahedron\n",
      "Printing model: robot pendant\n",
      "Printing model: phone case\n",
      "\n",
      "The following models have been completed:\n",
      "dodecahedron has been printed!\n",
      "robot pendant has been printed!\n",
      "phone case has been printed!\n"
     ]
    }
   ],
   "source": [
    "# Start with some designs that need to be printed. \n",
    "unprinted_designs = ['phone case', 'robot pendant', 'dodecahedron']\n",
    "completed_models = []\n",
    "\n",
    "#Simulate printing each design until none are left. \n",
    "#Move each design to completed_models after printing.\n",
    "\n",
    "while unprinted_designs:\n",
    "    current_design = unprinted_designs.pop()\n",
    "    print(f\"Printing model: {current_design}\")\n",
    "    completed_models.append(current_design)\n",
    "\n",
    "#Display all the completed models:\n",
    "print(\"\\nThe following models have been completed:\")\n",
    "for completed_model in completed_models:\n",
    "    print(f\"{completed_model} has been printed!\")"
   ]
  },
  {
   "cell_type": "markdown",
   "metadata": {},
   "source": [
    "We can re-structure the code by writing two functions, each of which does one specific job. Most of the code won't change; we're just making it more carefully structured. The first function will handle printing the designs, and the second will summarize the prints that have been made:"
   ]
  },
  {
   "cell_type": "code",
   "execution_count": 42,
   "metadata": {},
   "outputs": [
    {
     "name": "stdout",
     "output_type": "stream",
     "text": [
      "Printing: dodecahedron\n",
      "Printing: robot pendant\n",
      "Printing: phone case\n",
      "\n",
      "The following models have been  printed:\n",
      "dodecahedron\n",
      "robot pendant\n",
      "phone case\n"
     ]
    }
   ],
   "source": [
    "def print_models(unprinted_designs, completed_models):\n",
    "    \"\"\"\n",
    "    Simulate printing each design, until none are left.\n",
    "    Move each design to completed_models after printing.\n",
    "    \"\"\"\n",
    "\n",
    "    while unprinted_designs:\n",
    "        current_design = unprinted_designs.pop()\n",
    "        print(f\"Printing: {current_design}\")\n",
    "        completed_models.append(current_design)\n",
    "\n",
    "def show_completed_models(completed_models):\n",
    "    \"\"\"\n",
    "    Show all the models that were printed.\n",
    "    \"\"\" \n",
    "    print(\"\\nThe following models have been  printed:\")\n",
    "    for completed_model in completed_models:\n",
    "        print(completed_model)\n",
    "\n",
    "unprinted_designs = ['phone case', 'robot pendant', 'dodecahedron']\n",
    "completed_models = []\n",
    "\n",
    "print_models(unprinted_designs[:], completed_models)\n",
    "show_completed_models(completed_models)"
   ]
  },
  {
   "cell_type": "markdown",
   "metadata": {},
   "source": [
    "This program is easier to extend and maintain that the version without functions because we can call either function as needed. If we decide to change how many designs are printed each time, we only need to modify the call to print_models().\n",
    "- If we want to print more or fewer of each design, we can just change the number of times print_models() is called.\n",
    "- If we want to use a different printing process in the future, we only need to modify the code in one place, the definition of print_models().\n",
    "\n",
    "This program also illustrates the idea that every function should have onspecific job. "
   ]
  },
  {
   "cell_type": "markdown",
   "metadata": {},
   "source": [
    "## Preventing a function from modifying a list"
   ]
  },
  {
   "cell_type": "markdown",
   "metadata": {},
   "source": [
    "Sometimes you do not want to modify the list, for example you might want to keep the unmodified list for reference but work with a copy of the list. You can send a copy of a list to a function like this:"
   ]
  },
  {
   "cell_type": "code",
   "execution_count": 43,
   "metadata": {},
   "outputs": [
    {
     "name": "stdout",
     "output_type": "stream",
     "text": [
      "Printing: dodecahedron\n",
      "Printing: robot pendant\n",
      "Printing: phone case\n"
     ]
    }
   ],
   "source": [
    "#send a copy of a list to a function like this:\n",
    "#function_name(list_name[:])\n",
    "#The slice notation [:] makes a copy of the list\n",
    "print_models(unprinted_designs[:], completed_models)"
   ]
  },
  {
   "cell_type": "markdown",
   "metadata": {},
   "source": [
    "Even though you can preserve the contents of a list by passing a copy of it to your functions, you should pass the original list  to functions unless you have a specific reason to pass a copy. It's more efficient for a function to work with an existing list to avoid using the time and memory needed to make a separate copy, especially when you're working with large lists."
   ]
  },
  {
   "cell_type": "code",
   "execution_count": 1,
   "metadata": {},
   "outputs": [
    {
     "name": "stdout",
     "output_type": "stream",
     "text": [
      "hi there!\n",
      "hello friend\n",
      "hello 'friend'\n"
     ]
    }
   ],
   "source": [
    "#excercise 8.9:\n",
    "#Make a list containing a series of short text messages. Pass the list to a function called show_messages() which prints each message\n",
    "\n",
    "messages = ['hi there!', 'hello friend', \"hello 'friend'\"]\n",
    "\n",
    "def show_messages():\n",
    "    for message in messages:\n",
    "        print(message)\n",
    "\n",
    "show_messages()"
   ]
  },
  {
   "cell_type": "code",
   "execution_count": 7,
   "metadata": {},
   "outputs": [
    {
     "name": "stdout",
     "output_type": "stream",
     "text": [
      "hello 'friend'\n",
      "hello friend\n",
      "hi there!\n",
      "[]\n",
      "[\"hello 'friend'\", 'hello friend', 'hi there!']\n"
     ]
    }
   ],
   "source": [
    "#excercise 8.10: \n",
    "\"\"\"\n",
    "Start with a copy of the program in Excercise 8.9. Write a function called send_messages() \n",
    "that prints each text message and moves each message to a new list called sent_messages as it is printed. \n",
    "After calling the function, print both lists\n",
    "\"\"\"\n",
    "messages = ['hi there!', 'hello friend', \"hello 'friend'\"]\n",
    "sent_messages = []\n",
    "\n",
    "def send_messages(messages, sent_messages):\n",
    "    \"\"\"\n",
    "    Loops through messages and prints the message with the last index. \n",
    "    \\nIt pops the message out of messages and adds it to sent_messages\n",
    "    \"\"\"\n",
    "    while messages:\n",
    "        current_message = messages.pop()\n",
    "        print(current_message)\n",
    "        sent_messages.append(current_message)\n",
    "\n",
    "send_messages(messages, sent_messages)\n",
    "print(messages)\n",
    "print(sent_messages)"
   ]
  },
  {
   "cell_type": "code",
   "execution_count": 8,
   "metadata": {},
   "outputs": [
    {
     "name": "stdout",
     "output_type": "stream",
     "text": [
      "hello 'friend'\n",
      "hello friend\n",
      "hi there!\n",
      "['hi there!', 'hello friend', \"hello 'friend'\"]\n",
      "[\"hello 'friend'\", 'hello friend', 'hi there!']\n"
     ]
    }
   ],
   "source": [
    "#excercise 8.11 \n",
    "\"\"\"\n",
    "Call the function send_messages with a copy of messages. after calling it, show that messages retained the content\n",
    "\"\"\"\n",
    "messages = ['hi there!', 'hello friend', \"hello 'friend'\"]\n",
    "sent_messages = []\n",
    "\n",
    "def send_messages(messages, sent_messages):\n",
    "    \"\"\"\n",
    "    Loops through messages and prints the message with the last index. \n",
    "    \\nIt pops the message out of messages and adds it to sent_messages\n",
    "    \"\"\"\n",
    "    while messages:\n",
    "        current_message = messages.pop()\n",
    "        print(current_message)\n",
    "        sent_messages.append(current_message)\n",
    "\n",
    "send_messages(messages[:], sent_messages)\n",
    "print(messages)\n",
    "print(sent_messages)\n"
   ]
  },
  {
   "cell_type": "markdown",
   "metadata": {},
   "source": [
    "## Passing an arbitrary number of arguments"
   ]
  },
  {
   "cell_type": "markdown",
   "metadata": {},
   "source": [
    "Sometimes you won't know ahead of time how many arguments a function needs to accept. Python allows you to collect an arbitrary number of arguments into one parameter using the * operator. A parameter that accepts an arbitrary number of arguments must come last in the function definition."
   ]
  },
  {
   "cell_type": "code",
   "execution_count": 9,
   "metadata": {},
   "outputs": [
    {
     "name": "stdout",
     "output_type": "stream",
     "text": [
      "('pepperoni',)\n",
      "('mushrooms', 'green peppers', 'extra cheese')\n"
     ]
    }
   ],
   "source": [
    "def make_pizza(*toppings):\n",
    "    \"\"\"Print the list of toppings that have been requested.\"\"\"\n",
    "    print(toppings)\n",
    "\n",
    "make_pizza('pepperoni')\n",
    "make_pizza('mushrooms', 'green peppers', 'extra cheese')"
   ]
  },
  {
   "cell_type": "markdown",
   "metadata": {},
   "source": [
    "The asterisk in the parameter name *toppings tells Python to make an empty tuple called toppings and pack whatever values it receives into this tuple. The print statement in the function body produces output showing that Python can handle a function call with one value and a call with three values. It treats the different calls similarly. Note that Python packs the arguments into a tuple, even if the function receives only one value."
   ]
  },
  {
   "cell_type": "code",
   "execution_count": 10,
   "metadata": {},
   "outputs": [
    {
     "name": "stdout",
     "output_type": "stream",
     "text": [
      "\n",
      "Making a pizza with the following toppings:\n",
      "- pepperoni\n",
      "\n",
      "Making a pizza with the following toppings:\n",
      "- mushrooms\n",
      "- green peppers\n",
      "- extra cheese\n"
     ]
    }
   ],
   "source": [
    "#replace the print with a loop that runs through the list of toppings and describes the pizza being ordered:\n",
    "def make_pizza(*toppings):\n",
    "    \"\"\"Summarize the pizza we are about to make.\"\"\"\n",
    "    print(\"\\nMaking a pizza with the following toppings:\")\n",
    "    for topping in toppings:\n",
    "        print(f\"- {topping}\")\n",
    "\n",
    "make_pizza('pepperoni')\n",
    "make_pizza('mushrooms', 'green peppers', 'extra cheese')"
   ]
  },
  {
   "cell_type": "markdown",
   "metadata": {},
   "source": [
    "## Mixing Positional and Arbitrary Arguments"
   ]
  },
  {
   "cell_type": "markdown",
   "metadata": {},
   "source": []
  }
 ],
 "metadata": {
  "kernelspec": {
   "display_name": "base",
   "language": "python",
   "name": "python3"
  },
  "language_info": {
   "codemirror_mode": {
    "name": "ipython",
    "version": 3
   },
   "file_extension": ".py",
   "mimetype": "text/x-python",
   "name": "python",
   "nbconvert_exporter": "python",
   "pygments_lexer": "ipython3",
   "version": "3.11.5"
  }
 },
 "nbformat": 4,
 "nbformat_minor": 2
}
