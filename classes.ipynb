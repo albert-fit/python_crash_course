{
 "cells": [
  {
   "cell_type": "markdown",
   "metadata": {},
   "source": [
    "# Classes"
   ]
  },
  {
   "cell_type": "markdown",
   "metadata": {},
   "source": [
    "Object-oriented programming (OOB) is one of the most effective approaches to writing software. \n",
    "\n",
    "In object-oriented programming, you write classes that represent real-world things and situations and you write objects based on these classes."
   ]
  },
  {
   "cell_type": "markdown",
   "metadata": {},
   "source": [
    "Making an object from a class is called instantiation, and you work with instances of a class."
   ]
  },
  {
   "cell_type": "markdown",
   "metadata": {},
   "source": [
    "## Creating and Using a Class"
   ]
  },
  {
   "cell_type": "markdown",
   "metadata": {},
   "source": [
    "### Creating the Dog Class"
   ]
  },
  {
   "cell_type": "code",
   "execution_count": 2,
   "metadata": {},
   "outputs": [],
   "source": [
    "class Dog:\n",
    "    \"\"\"A simple attempt to model a dog.\"\"\"\n",
    "\n",
    "    def __init__(self, name, age):\n",
    "        \"\"\"Initialize name and age attribute\"\"\"\n",
    "        self.name = name\n",
    "        self.age = age\n",
    "\n",
    "    def sit(self):\n",
    "        \"\"\"Simulate a dog sitting in response to a command\"\"\"\n",
    "        print(f\"{self.name} is now sitting.\")\n",
    "    def roll_over(self):\n",
    "        \"\"\"Simulate rolling in response to a command\"\"\"    \n",
    "        print(f\"{self.name} rolled over!\")"
   ]
  },
  {
   "cell_type": "markdown",
   "metadata": {},
   "source": [
    "## The \\_\\_init\\_\\_() Method"
   ]
  },
  {
   "cell_type": "markdown",
   "metadata": {},
   "source": [
    "A function that's part of a class is a method. Everything you learned about functions applies to methods as well."
   ]
  },
  {
   "cell_type": "markdown",
   "metadata": {},
   "source": [
    "The \\_\\_init\\_\\_() method is a special method that Python runs automatically whenever we create a new instance based on the Dog class."
   ]
  },
  {
   "cell_type": "markdown",
   "metadata": {},
   "source": [
    "The slef parameter is require in the method definition, and it must come first before the other parameters."
   ]
  },
  {
   "cell_type": "markdown",
   "metadata": {},
   "source": [
    "## Making an instance from a Class"
   ]
  },
  {
   "cell_type": "code",
   "execution_count": 3,
   "metadata": {},
   "outputs": [
    {
     "name": "stdout",
     "output_type": "stream",
     "text": [
      "My dog's name is Willie.\n",
      "My dog is 6 years old.\n"
     ]
    }
   ],
   "source": [
    "#Let's make an instance representing a specific dog:\n",
    "\n",
    "my_dog = Dog('Willie', 6)\n",
    "\n",
    "print(f\"My dog's name is {my_dog.name}.\")\n",
    "print(f\"My dog is {my_dog.age} years old.\")\n"
   ]
  },
  {
   "cell_type": "markdown",
   "metadata": {},
   "source": [
    "## Accessing Attributes"
   ]
  },
  {
   "cell_type": "markdown",
   "metadata": {},
   "source": [
    "To access the attributes of an instance, use dot notation. "
   ]
  },
  {
   "cell_type": "code",
   "execution_count": 4,
   "metadata": {},
   "outputs": [
    {
     "data": {
      "text/plain": [
       "'Willie'"
      ]
     },
     "execution_count": 4,
     "metadata": {},
     "output_type": "execute_result"
    }
   ],
   "source": [
    "my_dog.name"
   ]
  },
  {
   "cell_type": "markdown",
   "metadata": {},
   "source": [
    "## Calling methods"
   ]
  },
  {
   "cell_type": "code",
   "execution_count": 5,
   "metadata": {},
   "outputs": [
    {
     "name": "stdout",
     "output_type": "stream",
     "text": [
      "Willie is now sitting.\n",
      "Willie rolled over!\n"
     ]
    }
   ],
   "source": [
    "my_dog = Dog('Willie', 6)\n",
    "my_dog.sit()\n",
    "my_dog.roll_over()"
   ]
  },
  {
   "cell_type": "markdown",
   "metadata": {},
   "source": [
    "Creating multiple instances "
   ]
  },
  {
   "cell_type": "code",
   "execution_count": 6,
   "metadata": {},
   "outputs": [
    {
     "name": "stdout",
     "output_type": "stream",
     "text": [
      "My dog's name is Lucy.\n",
      "My dog is 3 years old.\n",
      "Lucy is now sitting.\n",
      "\n",
      "Your dog's name is Willie.\n",
      "Your dog is 6 years old.\n",
      "Willie is now sitting.\n"
     ]
    }
   ],
   "source": [
    "my_dog = Dog('Lucy', 3)\n",
    "your_dog = Dog('Willie', 6)\n",
    "\n",
    "print(f\"My dog's name is {my_dog.name}.\")\n",
    "print(f\"My dog is {my_dog.age} years old.\")\n",
    "my_dog.sit()\n",
    "\n",
    "print(f\"\\nYour dog's name is {your_dog.name}.\")\n",
    "print(f\"Your dog is {your_dog.age} years old.\")\n",
    "your_dog.sit()\n"
   ]
  },
  {
   "cell_type": "markdown",
   "metadata": {},
   "source": []
  },
  {
   "cell_type": "code",
   "execution_count": 7,
   "metadata": {},
   "outputs": [
    {
     "name": "stdout",
     "output_type": "stream",
     "text": [
      "The restaurant is called Giani and it serves pizza\n",
      "None\n"
     ]
    }
   ],
   "source": [
    "##Exercise 9-1:\n",
    "#Make a class called Restaurant. The __init__() method for restaurant should store two attributes:\n",
    "#A restaurant_name and a cuisine_type. \n",
    "#Make a method called describe_restaurant() that prints these two pieces of information\n",
    "#Make a method called open_restaurant() that prints a message indicating that the restaurant is open. \n",
    "\n",
    "class Restaurant:\n",
    "    \"\"\"A class that describes a restaurant\"\"\"\n",
    "    def __init__(self,name, type):\n",
    "        \"\"\"Initialize name and type attribute\"\"\"\n",
    "        self.name = name\n",
    "        self.type = type\n",
    "\n",
    "    def describe(self):\n",
    "        \"\"\"Describe the restaurant based on name and type.\"\"\"\n",
    "        print(f\"The restaurant is called {self.name} and it serves {self.type}\")\n",
    "    \n",
    "    def open(self):\n",
    "        \"\"\"Announce that the restaurant is open\"\"\"\n",
    "        print(f\"{self.name.title()} is open\")\n",
    "\n",
    "giani = Restaurant(name=\"Giani\", type=\"pizza\")\n",
    "\n",
    "print(giani.describe())\n",
    "\n",
    "    "
   ]
  },
  {
   "cell_type": "code",
   "execution_count": 8,
   "metadata": {},
   "outputs": [
    {
     "name": "stdout",
     "output_type": "stream",
     "text": [
      "The restaurant is called Freddos and it serves icecream\n",
      "None\n"
     ]
    }
   ],
   "source": [
    "#Exercise 9.1:\n",
    "\n",
    "freddos = Restaurant(name='Freddos', type=\"icecream\")\n",
    "\n",
    "print(freddos.describe())"
   ]
  },
  {
   "cell_type": "code",
   "execution_count": 9,
   "metadata": {},
   "outputs": [],
   "source": [
    "#Exercise 9.3: Users:\n",
    "\n",
    "class User: \n",
    "    \"\"\"A class that contains user information\"\"\"\n",
    "\n",
    "    def __init__(self, first_name, last_name):\n",
    "        \"\"\"define the attributes\"\"\"\n",
    "        self.first_name = first_name\n",
    "        self.last_name = last_name\n",
    "\n",
    "    def describe_user(self):\n",
    "        \"\"\"describe the user\"\"\"\n",
    "        return f\"The user's first name is {self.first_name.title()} and last name is {self.last_name.title()}\"\n",
    "\n",
    "    def greet_user(self):\n",
    "        \"\"\"greet the user\"\"\"\n",
    "        return f\"Hi there {self.first_name.title()}\"\n"
   ]
  },
  {
   "cell_type": "code",
   "execution_count": 10,
   "metadata": {},
   "outputs": [
    {
     "name": "stdout",
     "output_type": "stream",
     "text": [
      "The user's first name is Albert and last name is Fit\n"
     ]
    }
   ],
   "source": [
    "berti = User(\"albert\", \"fit\")\n",
    "print(berti.describe_user())\n"
   ]
  },
  {
   "cell_type": "markdown",
   "metadata": {},
   "source": [
    "## Working with Classes and Instances"
   ]
  },
  {
   "cell_type": "markdown",
   "metadata": {},
   "source": [
    "### The Car Class"
   ]
  },
  {
   "cell_type": "code",
   "execution_count": 11,
   "metadata": {},
   "outputs": [
    {
     "name": "stdout",
     "output_type": "stream",
     "text": [
      "2023 Audi A4\n"
     ]
    }
   ],
   "source": [
    "class Car:\n",
    "    \"\"\"A simple attempt to represent a car.\"\"\"\n",
    "    \n",
    "    def __init__(self, make, model, year):\n",
    "        \"\"\"Initialize attributes to describe a car \"\"\"\n",
    "        self.make = make\n",
    "        self.model = model\n",
    "        self.year = year\n",
    "    \n",
    "    def get_descriptive_name(self):\n",
    "        \"\"\"Retrun a neatly formatted descriptive name.\"\"\"\n",
    "        long_name = f\"{self.year} {self.make} {self.model}\"\n",
    "        return long_name.title()\n",
    "    \n",
    "my_new_car = Car('audi', 'a4', 2023)\n",
    "print(my_new_car.get_descriptive_name())"
   ]
  },
  {
   "cell_type": "markdown",
   "metadata": {},
   "source": [
    "## Setting a Default Value for an Attribute"
   ]
  },
  {
   "cell_type": "code",
   "execution_count": 12,
   "metadata": {},
   "outputs": [
    {
     "name": "stdout",
     "output_type": "stream",
     "text": [
      "2023 Audi A4\n",
      "This car has 0 miles on it.\n"
     ]
    }
   ],
   "source": [
    "class Car:\n",
    "    \"\"\"A simple attempt to represent a car.\"\"\"\n",
    "    \n",
    "    def __init__(self, make, model, year):\n",
    "        \"\"\"Initialize attributes to describe a car \"\"\"\n",
    "        self.make = make\n",
    "        self.model = model\n",
    "        self.year = year\n",
    "        self.odometer_reading = 0\n",
    "    \n",
    "    def get_descriptive_name(self):\n",
    "        \"\"\"Return a neatly formatted descriptive name.\"\"\"\n",
    "        long_name = f\"{self.year} {self.make} {self.model}\"\n",
    "        return long_name.title()\n",
    "    \n",
    "    def read_odometer(self):\n",
    "        \"\"\"Print a statement showing the car's mileage\"\"\"\n",
    "        print(f\"This car has {self.odometer_reading} miles on it.\")\n",
    "\n",
    "my_new_car = Car('audi', 'a4', 2023)\n",
    "print(my_new_car.get_descriptive_name())\n",
    "my_new_car.read_odometer()"
   ]
  },
  {
   "cell_type": "markdown",
   "metadata": {},
   "source": [
    "##  Modifying Attribute Values"
   ]
  },
  {
   "cell_type": "markdown",
   "metadata": {},
   "source": [
    "### Modifying an Attribute's Value Directly"
   ]
  },
  {
   "cell_type": "code",
   "execution_count": 13,
   "metadata": {},
   "outputs": [
    {
     "name": "stdout",
     "output_type": "stream",
     "text": [
      "This car has 23 miles on it.\n"
     ]
    }
   ],
   "source": [
    "my_new_car.odometer_reading = 23\n",
    "my_new_car.read_odometer()"
   ]
  },
  {
   "cell_type": "markdown",
   "metadata": {},
   "source": [
    "### Modifying an attribute's Value through a method:"
   ]
  },
  {
   "cell_type": "code",
   "execution_count": 14,
   "metadata": {},
   "outputs": [
    {
     "name": "stdout",
     "output_type": "stream",
     "text": [
      "2023 Audi A4\n",
      "This car has 0 miles on it.\n"
     ]
    }
   ],
   "source": [
    "class Car:\n",
    "    \"\"\"A simple attempt to represent a car.\"\"\"\n",
    "    \n",
    "    def __init__(self, make, model, year):\n",
    "        \"\"\"Initialize attributes to describe a car \"\"\"\n",
    "        self.make = make\n",
    "        self.model = model\n",
    "        self.year = year\n",
    "        self.odometer_reading = 0\n",
    "    \n",
    "    def get_descriptive_name(self):\n",
    "        \"\"\"Return a neatly formatted descriptive name.\"\"\"\n",
    "        long_name = f\"{self.year} {self.make} {self.model}\"\n",
    "        return long_name.title()\n",
    "    \n",
    "    def read_odometer(self):\n",
    "        \"\"\"Print a statement showing the car's mileage\"\"\"\n",
    "        print(f\"This car has {self.odometer_reading} miles on it.\")\n",
    "    \n",
    "    def update_odometer(self, mileage):\n",
    "        \"\"\"Set odometer reading to the given value.\"\"\"\n",
    "        self.odometer_reading = mileage\n",
    "\n",
    "my_new_car = Car('audi', 'a4', 2023)\n",
    "print(my_new_car.get_descriptive_name())\n",
    "my_new_car.read_odometer()"
   ]
  },
  {
   "cell_type": "code",
   "execution_count": 15,
   "metadata": {},
   "outputs": [
    {
     "name": "stdout",
     "output_type": "stream",
     "text": [
      "This car has 23 miles on it.\n"
     ]
    }
   ],
   "source": [
    "my_new_car.update_odometer(23)\n",
    "my_new_car.read_odometer()"
   ]
  },
  {
   "cell_type": "markdown",
   "metadata": {},
   "source": [
    "We can extend the method update_odometer() to do additional work every time the odometer reading is modified. "
   ]
  },
  {
   "cell_type": "code",
   "execution_count": 16,
   "metadata": {},
   "outputs": [
    {
     "name": "stdout",
     "output_type": "stream",
     "text": [
      "2023 Audi A4\n",
      "This car has 0 miles on it.\n"
     ]
    }
   ],
   "source": [
    "class Car:\n",
    "    \"\"\"A simple attempt to represent a car.\"\"\"\n",
    "    \n",
    "    def __init__(self, make, model, year):\n",
    "        \"\"\"Initialize attributes to describe a car \"\"\"\n",
    "        self.make = make\n",
    "        self.model = model\n",
    "        self.year = year\n",
    "        self.odometer_reading = 0\n",
    "    \n",
    "    def get_descriptive_name(self):\n",
    "        \"\"\"Return a neatly formatted descriptive name.\"\"\"\n",
    "        long_name = f\"{self.year} {self.make} {self.model}\"\n",
    "        return long_name.title()\n",
    "    \n",
    "    def read_odometer(self):\n",
    "        \"\"\"Print a statement showing the car's mileage\"\"\"\n",
    "        print(f\"This car has {self.odometer_reading} miles on it.\")\n",
    "    \n",
    "    def update_odometer(self, mileage):\n",
    "        \"\"\"Set odometer reading to the given value.\n",
    "        Reject the change if it attempts to roll the odometer back.\n",
    "        \"\"\"\n",
    "        if mileage >= self.odometer_reading:\n",
    "            self.odometer_reading = mileage\n",
    "        else:\n",
    "            print(\"You can't roll back an odometer!\")\n",
    "\n",
    "my_new_car = Car('audi', 'a4', 2023)\n",
    "print(my_new_car.get_descriptive_name())\n",
    "my_new_car.read_odometer()"
   ]
  },
  {
   "cell_type": "markdown",
   "metadata": {},
   "source": [
    "## Incrementing an Attribute's Value Through a Method"
   ]
  },
  {
   "cell_type": "code",
   "execution_count": 17,
   "metadata": {},
   "outputs": [
    {
     "name": "stdout",
     "output_type": "stream",
     "text": [
      "2023 Audi A4\n",
      "This car has 0 miles on it.\n"
     ]
    }
   ],
   "source": [
    "class Car:\n",
    "    \"\"\"A simple attempt to represent a car.\"\"\"\n",
    "    \n",
    "    def __init__(self, make, model, year):\n",
    "        \"\"\"Initialize attributes to describe a car \"\"\"\n",
    "        self.make = make\n",
    "        self.model = model\n",
    "        self.year = year\n",
    "        self.odometer_reading = 0\n",
    "    \n",
    "    def get_descriptive_name(self):\n",
    "        \"\"\"Return a neatly formatted descriptive name.\"\"\"\n",
    "        long_name = f\"{self.year} {self.make} {self.model}\"\n",
    "        return long_name.title()\n",
    "    \n",
    "    def read_odometer(self):\n",
    "        \"\"\"Print a statement showing the car's mileage\"\"\"\n",
    "        print(f\"This car has {self.odometer_reading} miles on it.\")\n",
    "    \n",
    "    def update_odometer(self, mileage):\n",
    "        \"\"\"Set odometer reading to the given value.\n",
    "        Reject the change if it attempts to roll the odometer back.\n",
    "        \"\"\"\n",
    "        if mileage >= self.odometer_reading:\n",
    "            self.odometer_reading = mileage\n",
    "        else:\n",
    "            print(\"You can't roll back an odometer!\")\n",
    "    \n",
    "    def increment_odometer(self, miles):\n",
    "        \"\"\"Add the given amount to the odometer reading.\"\"\"\n",
    "        self.odometer_reading += miles\n",
    "\n",
    "my_new_car = Car('audi', 'a4', 2023)\n",
    "print(my_new_car.get_descriptive_name())\n",
    "my_new_car.read_odometer()"
   ]
  },
  {
   "cell_type": "code",
   "execution_count": 18,
   "metadata": {},
   "outputs": [
    {
     "name": "stdout",
     "output_type": "stream",
     "text": [
      "2018 Subaru Outback\n"
     ]
    }
   ],
   "source": [
    "#Tests:\n",
    "my_used_car = Car('Subaru', 'outback', 2018)\n",
    "print(my_used_car.get_descriptive_name())"
   ]
  },
  {
   "cell_type": "code",
   "execution_count": 19,
   "metadata": {},
   "outputs": [
    {
     "name": "stdout",
     "output_type": "stream",
     "text": [
      "This car has 23500 miles on it.\n"
     ]
    }
   ],
   "source": [
    "my_used_car.update_odometer(23_500)\n",
    "my_used_car.read_odometer()"
   ]
  },
  {
   "cell_type": "code",
   "execution_count": 20,
   "metadata": {},
   "outputs": [
    {
     "name": "stdout",
     "output_type": "stream",
     "text": [
      "This car has 23600 miles on it.\n"
     ]
    }
   ],
   "source": [
    "my_used_car.increment_odometer(100)\n",
    "my_used_car.read_odometer()"
   ]
  },
  {
   "cell_type": "markdown",
   "metadata": {},
   "source": [
    "Note: You can use methods like this to control how users of your program update values such as an odometer reading, but anywone with access to the program can set the odometer reading  to any value by accessing the attribute directly. Effective security takes extreme attention to detail in addition to the basic steps. For example, you could write a method that checks for inconsitent values, such as prohibiting a rollback in an odometer reading."
   ]
  },
  {
   "cell_type": "code",
   "execution_count": 21,
   "metadata": {},
   "outputs": [
    {
     "data": {
      "text/plain": [
       "'\\nStart with the program from excercise 9.1 (page 162). \\nAdd an attributed called number_served with a defaul;t value of 0.\\nCreate an instance called restaurant from this class. \\nPrint the number of customers the restaurant has served, then change the value and print it again.\\n'"
      ]
     },
     "execution_count": 21,
     "metadata": {},
     "output_type": "execute_result"
    }
   ],
   "source": [
    "#Exercise 9.4\n",
    "\"\"\"\n",
    "Start with the program from Exercise 9.1 (page 162). \n",
    "Add an attributed called number_served with a default value of 0.\n",
    "Create an instance called restaurant from this class. \n",
    "Print the number of customers the restaurant has served, then change the value and print it again.\n",
    "\"\"\""
   ]
  },
  {
   "cell_type": "code",
   "execution_count": 35,
   "metadata": {},
   "outputs": [
    {
     "name": "stdout",
     "output_type": "stream",
     "text": [
      "The restaurant is called Giani and it serves pizza\n",
      "Giani served 20 customers today!\n",
      "None\n"
     ]
    }
   ],
   "source": [
    "class Restaurant:\n",
    "    \"\"\"A class that describes a restaurant\"\"\"\n",
    "    def __init__(self,name, type, numbers_served = 0):\n",
    "        \"\"\"Initialize name and type attribute\"\"\"\n",
    "        self.name = name\n",
    "        self.type = type\n",
    "        self.number_served = numbers_served\n",
    "\n",
    "    def describe(self):\n",
    "        \"\"\"Describe the restaurant based on name and type as well as modify number_served to match the argument\"\"\"\n",
    "        print(f\"The restaurant is called {self.name} and it serves {self.type}\")\n",
    "        print(f\"{self.name.title()} served {self.number_served} customers today!\")\n",
    "    \n",
    "    def open(self):\n",
    "        \"\"\"Announce that the restaurant is open\"\"\"\n",
    "        print(f\"{self.name.title()} is open\")\n",
    "\n",
    "giani = Restaurant(name=\"Giani\", type=\"pizza\", numbers_served=20)\n",
    "\n",
    "print(giani.describe())\n"
   ]
  },
  {
   "cell_type": "code",
   "execution_count": 23,
   "metadata": {},
   "outputs": [
    {
     "name": "stdout",
     "output_type": "stream",
     "text": [
      "The restaurant is called Hansel's and it serves beerhall\n",
      "Hansel'S served 225 customers today!\n"
     ]
    }
   ],
   "source": [
    "hansel = Restaurant(name=\"Hansel's\", type=\"beerhall\")\n",
    "hansel.describe(225)"
   ]
  },
  {
   "cell_type": "markdown",
   "metadata": {},
   "source": [
    "## Inheritance"
   ]
  },
  {
   "cell_type": "markdown",
   "metadata": {},
   "source": [
    "You don't always have to start from scratch when writing a class. If the class you're writing is a specialized version of another class you wrote, you can use inheritance. When one class inherits from another, it takes on the attributes and methods of the first class. The original class is called the parent class, and the new class is the child class. The child class inherits every attribute and method from its parent class but is also free to define new attributes and methods of its own."
   ]
  },
  {
   "cell_type": "markdown",
   "metadata": {},
   "source": [
    "### The \\_\\_init\\_\\_() Method for a Child Class"
   ]
  },
  {
   "cell_type": "code",
   "execution_count": 24,
   "metadata": {},
   "outputs": [
    {
     "name": "stdout",
     "output_type": "stream",
     "text": [
      "2024 Nissan Leaf\n"
     ]
    }
   ],
   "source": [
    "#Let's model an electric car based on the car class:\n",
    "class Car:\n",
    "    \"\"\"A simple attempt to represent a car.\"\"\"\n",
    "    \n",
    "    def __init__(self, make, model, year):\n",
    "        \"\"\"Initialize attributes to describe a car \"\"\"\n",
    "        self.make = make\n",
    "        self.model = model\n",
    "        self.year = year\n",
    "        self.odometer_reading = 0\n",
    "    \n",
    "    def get_descriptive_name(self):\n",
    "        \"\"\"Return a neatly formatted descriptive name.\"\"\"\n",
    "        long_name = f\"{self.year} {self.make} {self.model}\"\n",
    "        return long_name.title()\n",
    "    \n",
    "    def read_odometer(self):\n",
    "        \"\"\"Print a statement showing the car's mileage\"\"\"\n",
    "        print(f\"This car has {self.odometer_reading} miles on it.\")\n",
    "    \n",
    "    def update_odometer(self, mileage):\n",
    "        \"\"\"Set odometer reading to the given value.\n",
    "        Reject the change if it attempts to roll the odometer back.\n",
    "        \"\"\"\n",
    "        if mileage >= self.odometer_reading:\n",
    "            self.odometer_reading = mileage\n",
    "        else:\n",
    "            print(\"You can't roll back an odometer!\")\n",
    "    \n",
    "    def increment_odometer(self, miles):\n",
    "        \"\"\"Add the given amount to the odometer reading.\"\"\"\n",
    "        self.odometer_reading += miles\n",
    "\n",
    "\n",
    "\n",
    "class ElectricCar(Car):\n",
    "    \"\"\"Represents aspects of a car, specific to electric vehicles.\"\"\"\n",
    "\n",
    "    def __init__(self, make, model, year):\n",
    "        \"\"\"Initialize attributes of the parent class.\"\"\"\n",
    "        super().__init__(make, model, year)\n",
    "        \n",
    "my_leaf = ElectricCar('nissan', 'leaf', 2024)\n",
    "print(my_leaf.get_descriptive_name())"
   ]
  },
  {
   "cell_type": "markdown",
   "metadata": {},
   "source": [
    "The super() function is a special function that helps Python make connections between the parent and child class. This line tells Python to call the \\_\\_init\\_\\_() method from ElectricCar's parent class, which gives an ElectricCar instance all the attributes defined in that method. The name super comes from a convention of calling the parent class a superclass and the child class a subclass."
   ]
  },
  {
   "cell_type": "markdown",
   "metadata": {},
   "source": [
    "### Defining Attributes and Methods for the Child Class"
   ]
  },
  {
   "cell_type": "code",
   "execution_count": 25,
   "metadata": {},
   "outputs": [
    {
     "name": "stdout",
     "output_type": "stream",
     "text": [
      "2024 Nissan Leaf\n",
      "This car has a 40- kWh battery.\n"
     ]
    }
   ],
   "source": [
    "class ElectricCar(Car):\n",
    "    \"\"\"Represents aspects of a car, specific to electric vehicles.\"\"\"\n",
    "\n",
    "    def __init__(self, make, model, year):\n",
    "        \"\"\"Initialize attributes of the parent class.\n",
    "        Then initialize attributes specific to an electric car.\n",
    "        \"\"\" \n",
    "        super().__init__(make, model, year)\n",
    "        \n",
    "        self.battery_size = 40\n",
    "        \n",
    "    def describe_battery(self):\n",
    "        \"\"\"Print a statement describing the battery size\"\"\"\n",
    "        print(f\"This car has a {self.battery_size}- kWh battery.\")\n",
    "\n",
    "my_leaf = ElectricCar('nissan', 'leaf', 2024)\n",
    "print(my_leaf.get_descriptive_name())\n",
    "my_leaf.describe_battery()"
   ]
  },
  {
   "cell_type": "markdown",
   "metadata": {},
   "source": [
    "## Overriding Methods from the Parent Class"
   ]
  },
  {
   "cell_type": "markdown",
   "metadata": {},
   "source": [
    "You can override any method from the parent class that doesn't fit what you're trying to model. \n",
    "\n",
    "Say the class Car had a method called fill_gas_tank(). This method is meaningless for an all-electric vehicle, so you might want to override this method. Here's one way to do that:"
   ]
  },
  {
   "cell_type": "code",
   "execution_count": 26,
   "metadata": {},
   "outputs": [
    {
     "name": "stdout",
     "output_type": "stream",
     "text": [
      "2024 Nissan Leaf\n",
      "This car has a 40- kWh battery.\n",
      "This car doesn't have a gas tank!\n"
     ]
    }
   ],
   "source": [
    "class ElectricCar(Car):\n",
    "    \"\"\"Represents aspects of a car, specific to electric vehicles.\"\"\"\n",
    "\n",
    "    def __init__(self, make, model, year):\n",
    "        \"\"\"Initialize attributes of the parent class.\n",
    "        Then initialize attributes specific to an electric car.\n",
    "        \"\"\" \n",
    "        super().__init__(make, model, year)\n",
    "        \n",
    "        self.battery_size = 40\n",
    "        \n",
    "    def describe_battery(self):\n",
    "        \"\"\"Print a statement describing the battery size\"\"\"\n",
    "        print(f\"This car has a {self.battery_size}- kWh battery.\")\n",
    "\n",
    "    def fill_gas_tank(self):\n",
    "        \"\"\"Electric cars don't have a gas tank.\"\"\"\n",
    "        print(\"This car doesn't have a gas tank!\")\n",
    "\n",
    "my_leaf = ElectricCar('nissan', 'leaf', 2024)\n",
    "print(my_leaf.get_descriptive_name())\n",
    "my_leaf.describe_battery()\n",
    "my_leaf.fill_gas_tank()"
   ]
  },
  {
   "cell_type": "markdown",
   "metadata": {},
   "source": [
    "## Instances as Attributes"
   ]
  },
  {
   "cell_type": "markdown",
   "metadata": {},
   "source": [
    "You can break a large class into smaller classes that work together. This approach is called composition."
   ]
  },
  {
   "cell_type": "code",
   "execution_count": 31,
   "metadata": {},
   "outputs": [
    {
     "name": "stdout",
     "output_type": "stream",
     "text": [
      "2024 Nissan Leaf\n",
      "This car has a 40-kWh battery.\n",
      "This car doesn't have a gas tank!\n",
      "This car can go about 150 miles on a full charge.\n"
     ]
    }
   ],
   "source": [
    "\n",
    "class Battery:\n",
    "    \"\"\"A simple attempt to model the battery of an electric car.\"\"\"\n",
    "    def __init__(self, battery_size=40):\n",
    "        \"\"\"Initialize the battery's attributes.\"\"\"\n",
    "        self.battery_size = battery_size\n",
    "\n",
    "    def describe_battery(self):\n",
    "        \"\"\"Print a statement describing the battery size.\"\"\"\n",
    "        print(f\"This car has a {self.battery_size}-kWh battery.\")\n",
    "\n",
    "    def get_range(self):\n",
    "        \"\"\"Print a statement about the range this battery provides.\"\"\"\n",
    "        if self.battery_size == 40:\n",
    "            range = 150\n",
    "        elif self.battery_size == 65:\n",
    "            range = 225\n",
    "        print(f\"This car can go about {range} miles on a full charge.\")\n",
    "\n",
    "class ElectricCar(Car):\n",
    "    \"\"\"Represents aspects of a car, specific to electric vehicles.\"\"\"\n",
    "\n",
    "    def __init__(self, make, model, year):\n",
    "        \"\"\"Initialize attributes of the parent class.\n",
    "        Then initialize attributes specific to an electric car.\n",
    "        \"\"\" \n",
    "        super().__init__(make, model, year)\n",
    "        self.battery = Battery()\n",
    "\n",
    "    def fill_gas_tank(self):\n",
    "        \"\"\"Electric cars don't have a gas tank.\"\"\"\n",
    "        print(\"This car doesn't have a gas tank!\")\n",
    "\n",
    "my_leaf = ElectricCar('nissan', 'leaf', 2024)\n",
    "print(my_leaf.get_descriptive_name())\n",
    "my_leaf.battery.describe_battery()\n",
    "my_leaf.fill_gas_tank()\n",
    "my_leaf.battery.get_range()\n",
    "\n",
    "\n"
   ]
  },
  {
   "cell_type": "code",
   "execution_count": 38,
   "metadata": {},
   "outputs": [
    {
     "name": "stdout",
     "output_type": "stream",
     "text": [
      "The restaurant is called Mario's Ice Cream and it serves ice cream stand\n",
      "Mario'S Ice Cream served 435 customers today!\n",
      "Today's flavors are:\n",
      "-vanilla\n",
      "-chocolate\n",
      "-strawbery\n"
     ]
    }
   ],
   "source": [
    "#Exercise 9.6: Ice Cream Stand\n",
    "\"\"\"\n",
    "Write a class called IceCreamStand that inherits from the Restaurant class in Exercise 9.1 \n",
    "Add an attribute called flavors that stores a list of ice cream flavors.\n",
    "Write a method that displays these flavors. \n",
    "Create an instance of IceCreamStand, and call this method. \n",
    "\"\"\"\n",
    "\n",
    "class Restaurant:\n",
    "    \"\"\"A class that describes a restaurant\"\"\"\n",
    "    def __init__(self,name, type, numbers_served = 0):\n",
    "        \"\"\"Initialize name and type attribute\"\"\"\n",
    "        self.name = name\n",
    "        self.type = type\n",
    "        self.number_served = numbers_served\n",
    "\n",
    "    def describe(self):\n",
    "        \"\"\"Describe the restaurant based on name and type as well as modify number_served to match the argument\"\"\"\n",
    "        print(f\"The restaurant is called {self.name} and it serves {self.type}\")\n",
    "        print(f\"{self.name.title()} served {self.number_served} customers today!\")\n",
    "    \n",
    "    def open(self):\n",
    "        \"\"\"Announce that the restaurant is open\"\"\"\n",
    "        print(f\"{self.name.title()} is open\")\n",
    "\n",
    "\n",
    "class IceCreamStand(Restaurant):\n",
    "    \"\"\"A class that models an ice cream stand.\"\"\"\n",
    "    def __init__(self, name, type, numbers_served, flavors=['vanilla', 'chocolate', 'strawbery']):\n",
    "        \"\"\"Initialize the attributes of the parent class\"\"\"\n",
    "        super().__init__(name, type, numbers_served)\n",
    "        self.flavors = flavors\n",
    "    \n",
    "    def describe_flavors(self):\n",
    "        print(f\"Today's flavors are:\")\n",
    "        for flavor in self.flavors:\n",
    "            print(f\"-{flavor}\")\n",
    "\n",
    "mario_ice_stand = IceCreamStand(name = \"Mario's Ice Cream\", type = \"ice cream stand\", numbers_served = 435)\n",
    "mario_ice_stand.describe()\n",
    "mario_ice_stand.describe_flavors()\n"
   ]
  },
  {
   "cell_type": "code",
   "execution_count": 21,
   "metadata": {},
   "outputs": [
    {
     "name": "stdout",
     "output_type": "stream",
     "text": [
      "The user Albert Fit has the following privileges:\n",
      "-can add post\n",
      "-can edit post\n",
      "-can delete post\n",
      "-can ban user\n"
     ]
    }
   ],
   "source": [
    "#Exercise 9.7: Admin\n",
    "\"\"\"\n",
    "Write a class Admin that inherits from the User class that you wrote in Exercise 9.3.\n",
    "Add an attribute, privileges, that stores a list of string like \"can add post\", \"can delete post\", \"can ban user\", and so on.\n",
    "Write a method called show_privileges() that lists the administrator's set of privileges. Create an instance of Admin, and call your method. \n",
    "\"\"\"\n",
    "class User:\n",
    "    \"\"\"A simple class describing a user\"\"\"\n",
    "    def __init__(self, first_name, last_name):\n",
    "        \"\"\"Initialise first and last name attributes\"\"\"\n",
    "        self.first_name = first_name\n",
    "        self.last_name = last_name\n",
    "        \n",
    "    def describe_user(self):\n",
    "        \"\"\"Describes the user\"\"\"\n",
    "        print(f\"The user is {self.first_name.title()} {self.last_name.title()}\")\n",
    "\n",
    "    def greet_user(self):\n",
    "        \"\"\"Greet the user\"\"\"\n",
    "        print(f\"Welcome back {self.first_name.title()} {self.last_name.title()}\")\n",
    "\n",
    "class Admin(User):\n",
    "    \"\"\"An admin class that inherits from User\"\"\"\n",
    "    def __init__(self, first_name, last_name ):\n",
    "        \"\"\"Initialize attributes\"\"\"\n",
    "        super().__init__(first_name, last_name )\n",
    "        self.privileges = ['can add post', 'can edit post', 'can delete post', 'can ban user']\n",
    "\n",
    "    def show_privileges(self):\n",
    "        \"\"\"Print out a statement with the privileges\"\"\"\n",
    "        print(f\"The user {self.first_name.title()} {self.last_name.title()} has the following privileges:\")\n",
    "\n",
    "        for privilege in self.privileges:\n",
    "            print(f\"-{privilege}\") \n",
    "\n",
    "albert = Admin(first_name = \"Albert\", last_name = \"Fit\")\n",
    "\n",
    "albert.show_privileges()"
   ]
  },
  {
   "cell_type": "code",
   "execution_count": 23,
   "metadata": {},
   "outputs": [
    {
     "name": "stdout",
     "output_type": "stream",
     "text": [
      "-can add post\n",
      "-can edit post\n",
      "-can delete post\n",
      "-can ban user\n"
     ]
    }
   ],
   "source": [
    "# Exercise 9.8: Privileges\n",
    "\"\"\"\n",
    "Write a separate Privileges class. \n",
    "The class should have one attribute, privileges that stores a list of strings as described in Exercise 9.7\n",
    "Move the show_privileges() method to this class. \n",
    "Make a Privileges instance as an attribute in the Admin class.\n",
    "Create a new instance of Admin and use your method to show it's privileges\n",
    "\"\"\"\n",
    "\n",
    "class Privileges:\n",
    "    \"\"\"A simple class to represent Admin privileges\"\"\"\n",
    "    def __init__(self, privileges = ['can add post', 'can edit post', 'can delete post', 'can ban user']):\n",
    "        self.privileges = privileges\n",
    "    \n",
    "    def show_privileges(self):\n",
    "        for privilege in self.privileges:\n",
    "            print(f\"-{privilege}\") \n",
    "\n",
    "class User:\n",
    "    \"\"\"A simple class describing a user\"\"\"\n",
    "    def __init__(self, first_name, last_name):\n",
    "        \"\"\"Initialise first and last name attributes\"\"\"\n",
    "        self.first_name = first_name\n",
    "        self.last_name = last_name\n",
    "        \n",
    "    def describe_user(self):\n",
    "        \"\"\"Describes the user\"\"\"\n",
    "        print(f\"The user is {self.first_name.title()} {self.last_name.title()}\")\n",
    "\n",
    "    def greet_user(self):\n",
    "        \"\"\"Greet the user\"\"\"\n",
    "        print(f\"Welcome back {self.first_name.title()} {self.last_name.title()}\")\n",
    "\n",
    "class Admin(User):\n",
    "    \"\"\"An admin class that inherits from User\"\"\"\n",
    "    def __init__(self, first_name, last_name ):\n",
    "        \"\"\"Initialize attributes\"\"\"\n",
    "        super().__init__(first_name, last_name )\n",
    "        self.privileges = Privileges()\n",
    "\n",
    "albert = Admin(first_name = \"Albert\", last_name = \"Fit\")\n",
    "\n",
    "albert.privileges.show_privileges()"
   ]
  },
  {
   "cell_type": "code",
   "execution_count": 25,
   "metadata": {},
   "outputs": [
    {
     "name": "stdout",
     "output_type": "stream",
     "text": [
      "2024 Nissan Leaf\n",
      "This car has a 40-kWh battery.\n",
      "This car doesn't have a gas tank!\n",
      "This car can go about 150 miles on a full charge.\n"
     ]
    }
   ],
   "source": [
    "# Exercise 9.9: Battery upgrade\n",
    "\"\"\"\n",
    "Use the final version of electric_car.py from this section. \n",
    "Add a method to the Battery class called upgrade_battery(). \n",
    "This method should check the battery size and set the capacity to 65 if it isn't already. \n",
    "Make an electric car with a default battery size, call get_range() once, \n",
    "then call ge_range() a second time after upgrading the battery. \n",
    "you should see an increase in the car's range. \n",
    "\"\"\"\n",
    "\n",
    "class Car:\n",
    "    \"\"\"A simple attempt to represent a car.\"\"\"\n",
    "    \n",
    "    def __init__(self, make, model, year):\n",
    "        \"\"\"Initialize attributes to describe a car \"\"\"\n",
    "        self.make = make\n",
    "        self.model = model\n",
    "        self.year = year\n",
    "        self.odometer_reading = 0\n",
    "    \n",
    "    def get_descriptive_name(self):\n",
    "        \"\"\"Retrun a neatly formatted descriptive name.\"\"\"\n",
    "        long_name = f\"{self.year} {self.make} {self.model}\"\n",
    "        return long_name.title()\n",
    "    \n",
    "    def read_odometer(self):\n",
    "        \"\"\"Print a statement showing the car's mileage\"\"\"\n",
    "        print(f\"This car has {self.odometer_reading} miles on it.\")\n",
    "    \n",
    "    def update_odometer(self, mileage):\n",
    "        \"\"\"Set odometer reading to the given value.\n",
    "        Reject the change if it attempts to roll the odometer back.\n",
    "        \"\"\"\n",
    "        if mileage >= self.odometer_reading:\n",
    "            self.odometer_reading = mileage\n",
    "        else:\n",
    "            print(\"You can't roll back an odometer!\")\n",
    "    \n",
    "    def increment_odometer(self, miles):\n",
    "        \"\"\"Add the given amount to the odometer reading.\"\"\"\n",
    "        self.odometer_reading += miles\n",
    "\n",
    "class Battery:\n",
    "    \"\"\"A simple attempt to model the battery of an electric car.\"\"\"\n",
    "    def __init__(self, battery_size=40):\n",
    "        \"\"\"Initialize the battery's attributes.\"\"\"\n",
    "        self.battery_size = battery_size\n",
    "\n",
    "    def describe_battery(self):\n",
    "        \"\"\"Print a statement describing the battery size.\"\"\"\n",
    "        print(f\"This car has a {self.battery_size}-kWh battery.\")\n",
    "\n",
    "    def get_range(self):\n",
    "        \"\"\"Print a statement about the range this battery provides.\"\"\"\n",
    "        if self.battery_size == 40:\n",
    "            range = 150\n",
    "        elif self.battery_size == 65:\n",
    "            range = 225\n",
    "        print(f\"This car can go about {range} miles on a full charge.\")\n",
    "    \n",
    "    def upgrade_battery(self):\n",
    "        if self.battery_size <= 65:\n",
    "            self.battery_size = 65\n",
    "\n",
    "class ElectricCar(Car):\n",
    "    \"\"\"Represents aspects of a car, specific to electric vehicles.\"\"\"\n",
    "\n",
    "    def __init__(self, make, model, year):\n",
    "        \"\"\"Initialize attributes of the parent class.\n",
    "        Then initialize attributes specific to an electric car.\n",
    "        \"\"\" \n",
    "        super().__init__(make, model, year)\n",
    "        self.battery = Battery()\n",
    "\n",
    "    def fill_gas_tank(self):\n",
    "        \"\"\"Electric cars don't have a gas tank.\"\"\"\n",
    "        print(\"This car doesn't have a gas tank!\")\n",
    "\n",
    "my_leaf = ElectricCar('nissan', 'leaf', 2024)\n",
    "print(my_leaf.get_descriptive_name())\n",
    "my_leaf.battery.describe_battery()\n",
    "my_leaf.fill_gas_tank()\n",
    "my_leaf.battery.get_range()\n"
   ]
  },
  {
   "cell_type": "code",
   "execution_count": 26,
   "metadata": {},
   "outputs": [
    {
     "name": "stdout",
     "output_type": "stream",
     "text": [
      "This car can go about 225 miles on a full charge.\n"
     ]
    }
   ],
   "source": [
    "my_leaf.battery.upgrade_battery()\n",
    "my_leaf.battery.get_range()"
   ]
  },
  {
   "cell_type": "markdown",
   "metadata": {},
   "source": [
    "## Importing Classes"
   ]
  },
  {
   "cell_type": "markdown",
   "metadata": {},
   "source": [
    "### Importing a single class"
   ]
  },
  {
   "cell_type": "code",
   "execution_count": 27,
   "metadata": {},
   "outputs": [
    {
     "name": "stdout",
     "output_type": "stream",
     "text": [
      "2024 Audi A4\n",
      "This car has 23 miles on it.\n"
     ]
    }
   ],
   "source": [
    "from car import Car\n",
    "\n",
    "my_new_car = Car('audi', 'a4',  2024)\n",
    "print(my_new_car.get_descriptive_name())\n",
    "\n",
    "my_new_car.odometer_reading = 23\n",
    "my_new_car.read_odometer()\n"
   ]
  },
  {
   "cell_type": "markdown",
   "metadata": {},
   "source": [
    "Once the classes work as they should, we can leave those modules files alone and focus on the program logic."
   ]
  },
  {
   "cell_type": "markdown",
   "metadata": {},
   "source": [
    "## Storing multiple classes in a module"
   ]
  },
  {
   "cell_type": "markdown",
   "metadata": {},
   "source": [
    "You can store as many classes as you need in a single module, although each class in a module should be related somehow."
   ]
  },
  {
   "cell_type": "code",
   "execution_count": 1,
   "metadata": {},
   "outputs": [
    {
     "name": "stdout",
     "output_type": "stream",
     "text": [
      "2024 Nissan Leaf\n",
      "This car has a 40-kWh battery.\n",
      "This car doesn't have a gas tank!\n",
      "This car can go about 150 miles on a full charge.\n"
     ]
    }
   ],
   "source": [
    "from car import ElectricCar\n",
    "\n",
    "my_leaf = ElectricCar('nissan', 'leaf', 2024)\n",
    "print(my_leaf.get_descriptive_name())\n",
    "my_leaf.battery.describe_battery()\n",
    "my_leaf.fill_gas_tank()\n",
    "my_leaf.battery.get_range()"
   ]
  },
  {
   "cell_type": "markdown",
   "metadata": {},
   "source": [
    "## Importing Multiple Classes from a Module"
   ]
  },
  {
   "cell_type": "code",
   "execution_count": 2,
   "metadata": {},
   "outputs": [
    {
     "name": "stdout",
     "output_type": "stream",
     "text": [
      "2024 Ford Mustang\n",
      "2024 Nissan Leaf\n"
     ]
    }
   ],
   "source": [
    "from car import Car, ElectricCar\n",
    "\n",
    "my_mustang = Car('ford', 'mustang', 2024)\n",
    "print(my_mustang.get_descriptive_name())\n",
    "my_leaf = ElectricCar('nissan', 'leaf', 2024)\n",
    "print(my_leaf.get_descriptive_name())"
   ]
  },
  {
   "cell_type": "markdown",
   "metadata": {},
   "source": [
    "## Importing an Entire Module"
   ]
  },
  {
   "cell_type": "markdown",
   "metadata": {},
   "source": [
    "You can also import an entire moudle and then access the classes you need using dot notation. This approach is simple and results in code that is easy to read. \n"
   ]
  },
  {
   "cell_type": "code",
   "execution_count": 5,
   "metadata": {},
   "outputs": [
    {
     "name": "stdout",
     "output_type": "stream",
     "text": [
      "2024 Ford Mustang\n",
      "2024 Nissan Leaf\n"
     ]
    }
   ],
   "source": [
    "import car\n",
    "\n",
    "my_mustang = car.Car('ford', 'mustang', 2024)\n",
    "print(my_mustang.get_descriptive_name())\n",
    "my_leaf = car.ElectricCar('nissan', 'leaf', 2024)\n",
    "print(my_leaf.get_descriptive_name())"
   ]
  },
  {
   "cell_type": "markdown",
   "metadata": {},
   "source": [
    "## Importing All Classes from a Module\n",
    "\n",
    "You can import every class from a module using the following syntax:\n",
    "    \n",
    "    from module_name import *\n",
    "\n",
    "\n",
    "This method is not recommended because it can cause confusion with names in the file. It can also cause you to unintentionally overwrite a variable or function."
   ]
  },
  {
   "cell_type": "markdown",
   "metadata": {},
   "source": [
    "## Importing a module into a module\n",
    "\n",
    "We take the electric car and battery classes from the car module and place them in the electric_car module. We can import both modules to be used in the program."
   ]
  },
  {
   "cell_type": "code",
   "execution_count": 6,
   "metadata": {},
   "outputs": [
    {
     "name": "stdout",
     "output_type": "stream",
     "text": [
      "2024 Ford Mustang\n",
      "2024 Nissan Leaf\n"
     ]
    }
   ],
   "source": [
    "from car import Car\n",
    "from electric_car import ElectricCar\n",
    "\n",
    "\n",
    "my_mustang = Car('ford', 'mustang', 2024)\n",
    "print(my_mustang.get_descriptive_name())\n",
    "my_leaf = ElectricCar('nissan', 'leaf', 2024)\n",
    "print(my_leaf.get_descriptive_name())\n"
   ]
  },
  {
   "cell_type": "markdown",
   "metadata": {},
   "source": [
    "## Using Aliases"
   ]
  },
  {
   "cell_type": "markdown",
   "metadata": {},
   "source": [
    "It might get tedious to type (and read) ElectricCar over and over again."
   ]
  },
  {
   "cell_type": "code",
   "execution_count": 9,
   "metadata": {},
   "outputs": [],
   "source": [
    "from electric_car import ElectricCar as EC\n",
    "my_leaf = ElectricCar('nissan', 'leaf', 2024)"
   ]
  },
  {
   "cell_type": "code",
   "execution_count": 11,
   "metadata": {},
   "outputs": [
    {
     "name": "stdout",
     "output_type": "stream",
     "text": [
      "The restaurant is called greggs and it serves fast food\n",
      "Greggs served 200050 customers today!\n"
     ]
    }
   ],
   "source": [
    "#Exercise 9.10: Imported Restaurants\n",
    "\"\"\"\n",
    "Using the latest Restaurant class, store it in a module. \n",
    "Make a separate fille that imports Restaurant.\n",
    "Make a Restaurant instance, and call one of Restaurant's methods to show that the import is working.\n",
    "\"\"\"\n",
    "\n",
    "from restaurant import Restaurant\n",
    "\n",
    "greggs = Restaurant(name = 'greggs', type = \"fast food\", numbers_served=200050)\n",
    "\n",
    "greggs.describe()\n",
    "\n"
   ]
  },
  {
   "cell_type": "code",
   "execution_count": 15,
   "metadata": {},
   "outputs": [
    {
     "name": "stdout",
     "output_type": "stream",
     "text": [
      "-can add post\n",
      "-can edit post\n",
      "-can delete post\n",
      "-can ban user\n"
     ]
    }
   ],
   "source": [
    "# Exercise 9.11 Imported Admin:\n",
    "\"\"\"\n",
    "Start with Exercise 9.8.\n",
    "Store the classes User, Privileges and Admin in one module. \n",
    "Make an instance of Admin and call show_privileges() to show that everything is working correctly. \n",
    "\"\"\"\n",
    "from admin import Admin\n",
    "\n",
    "james = Admin(\"james\", \"bond\")\n",
    "\n",
    "james.privileges.show_privileges()\n"
   ]
  },
  {
   "cell_type": "code",
   "execution_count": 17,
   "metadata": {},
   "outputs": [
    {
     "name": "stdout",
     "output_type": "stream",
     "text": [
      "-can add post\n",
      "-can edit post\n",
      "-can delete post\n",
      "-can ban user\n"
     ]
    }
   ],
   "source": [
    "#Exercise 9.12 Multiple Modules:\n",
    "\"\"\"\n",
    "Store the User class in one module and store the Privileges and Admin classes in a separate module. \n",
    "In a separate file, create an Admin instance and calla show_privileges() to show that everything is still working correctly. \n",
    "\"\"\"\n",
    "\n",
    "from admin import Admin\n",
    "\n",
    "julia = Admin('julia', 'roberts')\n",
    "\n",
    "julia.privileges.show_privileges()"
   ]
  },
  {
   "cell_type": "markdown",
   "metadata": {},
   "source": [
    "## Python Standard Library"
   ]
  },
  {
   "cell_type": "markdown",
   "metadata": {},
   "source": [
    "The Python standard library is a set of modules included with every Python installation. "
   ]
  },
  {
   "cell_type": "code",
   "execution_count": 19,
   "metadata": {},
   "outputs": [
    {
     "data": {
      "text/plain": [
       "4"
      ]
     },
     "execution_count": 19,
     "metadata": {},
     "output_type": "execute_result"
    }
   ],
   "source": [
    "#Import the randint module from ramon. \n",
    "from random import randint\n",
    "\n",
    "randint(1, 6)\n"
   ]
  },
  {
   "cell_type": "code",
   "execution_count": 20,
   "metadata": {},
   "outputs": [
    {
     "data": {
      "text/plain": [
       "'michael'"
      ]
     },
     "execution_count": 20,
     "metadata": {},
     "output_type": "execute_result"
    }
   ],
   "source": [
    "#The choice() function takes in a list or a tuple and returns a randomly chosen element. \n",
    "from random import choice\n",
    "players = ['charles', 'martina', 'michael', 'florence', 'eli']\n",
    "first_up = choice(players)\n",
    "first_up"
   ]
  },
  {
   "cell_type": "code",
   "execution_count": 26,
   "metadata": {},
   "outputs": [
    {
     "name": "stdout",
     "output_type": "stream",
     "text": [
      "4\n",
      "1\n",
      "5\n",
      "6\n",
      "3\n",
      "5\n",
      "4\n",
      "2\n",
      "4\n",
      "2\n"
     ]
    }
   ],
   "source": [
    "#Exercise 9.13: Dice:\n",
    "\"\"\"\n",
    "Make a class called Die with one attribute called sides, which has a default value of 6. \n",
    "Write a method called roll_die() that prints a random number between 1 and the number of sides the die has.\n",
    "Make a 6-sided die and roll it 10 times.\n",
    "\"\"\"\n",
    "from random import randint\n",
    "\n",
    "class Die:\n",
    "    \"\"\"A class representing a die\"\"\"\n",
    "    def __init__(self, sides = 6):\n",
    "        \"\"\"Initialize the attributes denoting the number of sides.\"\"\"\n",
    "        self.sides = sides\n",
    "    \n",
    "    def roll_die(self):\n",
    "        return randint(1, self.sides)\n",
    "\n",
    "die = Die() \n",
    "\n",
    "for i in range(10):\n",
    "    print(die.roll_die())"
   ]
  },
  {
   "cell_type": "code",
   "execution_count": 34,
   "metadata": {},
   "outputs": [
    {
     "name": "stdout",
     "output_type": "stream",
     "text": [
      "The winning ticket is: 9b104\n"
     ]
    }
   ],
   "source": [
    "#Exercise 9.14: Lottery:\n",
    "\"\"\"\n",
    "Make a list or tuple containing a series of 10 numbers and 5 letters.\n",
    "Randomly select 4 numbers or letters from the list and print a message saying that any\n",
    "ticket matching these 4 numbers or letters wins a prize.\n",
    "\"\"\"\n",
    "\n",
    "from random import choice\n",
    "\n",
    "numbers_letters = [1,2,3,4,5,6,7,8,9,10,\"a\",\"b\",\"c\",\"d\",\"e\"]\n",
    "\n",
    "def get_winning_ticket():\n",
    "    winner = []\n",
    "    for i in range(4):\n",
    "        winner.append(choice(numbers_letters))\n",
    "    return ''.join(map(str, winner))\n",
    "\n",
    "print(f\"The winning ticket is: {get_winning_ticket()}\")"
   ]
  },
  {
   "cell_type": "code",
   "execution_count": null,
   "metadata": {},
   "outputs": [],
   "source": [
    "#Exercise 9.14: Lottery Analysis:\n",
    "\"\"\"\n",
    "You can use a loop to see how hard it might be to win the kind of lotter\n",
    "\"\"\""
   ]
  }
 ],
 "metadata": {
  "kernelspec": {
   "display_name": "base",
   "language": "python",
   "name": "python3"
  },
  "language_info": {
   "codemirror_mode": {
    "name": "ipython",
    "version": 3
   },
   "file_extension": ".py",
   "mimetype": "text/x-python",
   "name": "python",
   "nbconvert_exporter": "python",
   "pygments_lexer": "ipython3",
   "version": "3.10.12"
  }
 },
 "nbformat": 4,
 "nbformat_minor": 2
}
