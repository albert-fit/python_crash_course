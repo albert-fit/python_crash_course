{
 "cells": [
  {
   "cell_type": "markdown",
   "metadata": {},
   "source": [
    "# Classes"
   ]
  },
  {
   "cell_type": "markdown",
   "metadata": {},
   "source": [
    "Object-oriented programming (OOB) is one of the most effective approaches to writing software. \n",
    "\n",
    "In object-oriented programming, you write classes that represent real-world things and situations and you write objects based on these classes."
   ]
  },
  {
   "cell_type": "markdown",
   "metadata": {},
   "source": [
    "Making an object from a class is called instantiation, and you work with instances of a class."
   ]
  },
  {
   "cell_type": "markdown",
   "metadata": {},
   "source": [
    "## Creating and Using a Class"
   ]
  },
  {
   "cell_type": "markdown",
   "metadata": {},
   "source": [
    "### Creating the Dog Class"
   ]
  },
  {
   "cell_type": "code",
   "execution_count": null,
   "metadata": {},
   "outputs": [],
   "source": [
    "class Dog:\n",
    "    \"\"\"A simple attempt to model a dog.\"\"\"\n",
    "\n",
    "    def __init__(self, name, age):\n",
    "        \"\"\"Initialize name and age attribute\"\"\"\n",
    "        self.name = name\n",
    "        self.age = age\n",
    "\n",
    "        def sit(self):\n",
    "            \"\"\"Simulate a dog sitting in response to a command\"\"\"\n",
    "            print(f\"{self.name} is now sitting.\")\n",
    "        def roll_over(self):\n",
    "            \"\"\"Simulate rolling in response to a command\"\"\"    \n",
    "            print(f\"{self.name} rolled over!\")"
   ]
  }
 ],
 "metadata": {
  "kernelspec": {
   "display_name": "base",
   "language": "python",
   "name": "python3"
  },
  "language_info": {
   "name": "python",
   "version": "3.10.12"
  }
 },
 "nbformat": 4,
 "nbformat_minor": 2
}
