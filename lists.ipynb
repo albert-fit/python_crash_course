{
 "cells": [
  {
   "cell_type": "markdown",
   "metadata": {},
   "source": [
    "# Introducing Lists\n",
    "\n",
    "A list is a collection of items in a particular order.\n",
    "In python ([]) indicates a list and individual elements are separated by commas."
   ]
  },
  {
   "cell_type": "code",
   "execution_count": 202,
   "metadata": {},
   "outputs": [
    {
     "name": "stdout",
     "output_type": "stream",
     "text": [
      "A list of bicycles: ['trek', 'cannondale', 'redline', 'specialized']\n"
     ]
    }
   ],
   "source": [
    "#Example of list:\n",
    "bicycles = ['trek', 'cannondale', 'redline', 'specialized']\n",
    "print(f'A list of bicycles: {bicycles}')"
   ]
  },
  {
   "cell_type": "markdown",
   "metadata": {},
   "source": [
    "## Accessing elements in a list\n",
    "Lists are ordered collections, so you can access any element in a list by telling Python the position, or index, of the item desired. To access an element in a list, write the name of the list followed by the index of the item enclosed in square brackets."
   ]
  },
  {
   "cell_type": "code",
   "execution_count": 203,
   "metadata": {},
   "outputs": [
    {
     "name": "stdout",
     "output_type": "stream",
     "text": [
      "First element of the bicycles list: trek\n"
     ]
    }
   ],
   "source": [
    "print(f'First element of the bicycles list: {bicycles[0]}')"
   ]
  },
  {
   "cell_type": "code",
   "execution_count": 204,
   "metadata": {},
   "outputs": [
    {
     "name": "stdout",
     "output_type": "stream",
     "text": [
      "First element of the bicycles list in title case: Trek\n"
     ]
    }
   ],
   "source": [
    "# You can also use string methods on list elements:\n",
    "print(f'First element of the bicycles list in title case: {bicycles[0].title()}')"
   ]
  },
  {
   "cell_type": "code",
   "execution_count": 205,
   "metadata": {},
   "outputs": [
    {
     "name": "stdout",
     "output_type": "stream",
     "text": [
      "Second element of the bicycles list: cannondale\n"
     ]
    }
   ],
   "source": [
    "# Like all other programming languages, Python considers the first item in a list to be at position 0, not position 1.\n",
    "print(f'Second element of the bicycles list: {bicycles[1]}')"
   ]
  },
  {
   "cell_type": "markdown",
   "metadata": {},
   "source": [
    "## Changing, Adding and Removing Elemends"
   ]
  },
  {
   "cell_type": "markdown",
   "metadata": {},
   "source": [
    "### Modifying Elements in a List"
   ]
  },
  {
   "cell_type": "code",
   "execution_count": 206,
   "metadata": {},
   "outputs": [
    {
     "name": "stdout",
     "output_type": "stream",
     "text": [
      "First element of the motorcycles list: Ducati\n"
     ]
    }
   ],
   "source": [
    "# Example: change the first element in a motorcycle list: honda to ducati\n",
    "motorcycles = ['honda', 'yamaha', 'suzuki']\n",
    "motorcycles[0] = 'ducati'\n",
    "print(f'First element of the motorcycles list: {motorcycles[0].title()}')"
   ]
  },
  {
   "cell_type": "markdown",
   "metadata": {},
   "source": [
    "### Adding Elements to a List"
   ]
  },
  {
   "cell_type": "markdown",
   "metadata": {},
   "source": [
    "#### Appending Elements to the End of a List\n",
    "The simplest way to add a new element to a list is to append the item to the list. When you append an item to a list, the new element is added to the end of the list.\n"
   ]
  },
  {
   "cell_type": "code",
   "execution_count": 207,
   "metadata": {},
   "outputs": [
    {
     "name": "stdout",
     "output_type": "stream",
     "text": [
      "['ducati', 'yamaha', 'suzuki', 'ducati']\n"
     ]
    }
   ],
   "source": [
    "motorcycles.append('ducati')\n",
    "print(motorcycles)"
   ]
  },
  {
   "cell_type": "markdown",
   "metadata": {},
   "source": [
    "#### Inserting Elements into a List\n",
    "You can add a new element at any position in your list by using the insert() method. You do this by specifying the index of the new element and the value of the new item."
   ]
  },
  {
   "cell_type": "code",
   "execution_count": 208,
   "metadata": {},
   "outputs": [
    {
     "name": "stdout",
     "output_type": "stream",
     "text": [
      "['piagi', 'ducati', 'yamaha', 'suzuki', 'ducati']\n"
     ]
    }
   ],
   "source": [
    "motorcycles.insert(0,'piagi')\n",
    "print(motorcycles)"
   ]
  },
  {
   "cell_type": "markdown",
   "metadata": {},
   "source": [
    "### Removing Elements from a List"
   ]
  },
  {
   "cell_type": "markdown",
   "metadata": {},
   "source": [
    "#### Removing an item using the del statement\n",
    "If you know the position of the item in the list, you can use the del statement:"
   ]
  },
  {
   "cell_type": "code",
   "execution_count": 209,
   "metadata": {},
   "outputs": [
    {
     "name": "stdout",
     "output_type": "stream",
     "text": [
      "['piagi', 'ducati', 'yamaha', 'suzuki', 'ducati']\n",
      "['ducati', 'yamaha', 'suzuki', 'ducati']\n"
     ]
    }
   ],
   "source": [
    "print(motorcycles)\n",
    "del motorcycles[0]\n",
    "print(motorcycles)"
   ]
  },
  {
   "cell_type": "markdown",
   "metadata": {},
   "source": [
    "#### Removing an item using the pop() method\n",
    "The pop() method removes the last item in a list, but it lets you work with that item after removing it."
   ]
  },
  {
   "cell_type": "code",
   "execution_count": 210,
   "metadata": {},
   "outputs": [
    {
     "name": "stdout",
     "output_type": "stream",
     "text": [
      "['ducati', 'yamaha', 'suzuki', 'ducati']\n",
      "['ducati', 'yamaha', 'suzuki']\n",
      "ducati\n"
     ]
    }
   ],
   "source": [
    "print(motorcycles)\n",
    "popped_motorcycle = motorcycles.pop()\n",
    "print(motorcycles)\n",
    "print(popped_motorcycle)"
   ]
  },
  {
   "cell_type": "code",
   "execution_count": 211,
   "metadata": {},
   "outputs": [
    {
     "name": "stdout",
     "output_type": "stream",
     "text": [
      "The last motorcycle I owned was a Suzuki\n"
     ]
    }
   ],
   "source": [
    "last_owned = motorcycles.pop()\n",
    "print(f'The last motorcycle I owned was a {last_owned.title()}')"
   ]
  },
  {
   "cell_type": "markdown",
   "metadata": {},
   "source": [
    "#### Poppint Items from any position in a list\n",
    "You ca use pop() to remove an item from any position in a list by including the index of the item"
   ]
  },
  {
   "cell_type": "code",
   "execution_count": 212,
   "metadata": {},
   "outputs": [
    {
     "name": "stdout",
     "output_type": "stream",
     "text": [
      "The first motorcycle I owned was a Ducati\n"
     ]
    }
   ],
   "source": [
    "first_owned = motorcycles.pop(0)\n",
    "print(f'The first motorcycle I owned was a {first_owned.title()}')"
   ]
  },
  {
   "cell_type": "markdown",
   "metadata": {},
   "source": [
    "#### Each time we use pop(), the item is no longer stored in the list\n",
    " -del(): when you want to remove an item from a list and not use it in any way, use del();\n",
    " \n",
    " \n",
    " -pop(): when you want to remove an item from a list and use that item in some way, use pop()."
   ]
  },
  {
   "cell_type": "markdown",
   "metadata": {},
   "source": [
    "### Removing an item by value\n",
    "If you only know the value of the item you want to remove, you can use the remove() method."
   ]
  },
  {
   "cell_type": "code",
   "execution_count": 213,
   "metadata": {},
   "outputs": [
    {
     "name": "stdout",
     "output_type": "stream",
     "text": [
      "['yamaha']\n",
      "[]\n"
     ]
    }
   ],
   "source": [
    "print(motorcycles)\n",
    "motorcycles.remove('yamaha')\n",
    "print(motorcycles)"
   ]
  },
  {
   "cell_type": "markdown",
   "metadata": {},
   "source": [
    "You can also use the remove() method to work with a value that's being removed from a list."
   ]
  },
  {
   "cell_type": "code",
   "execution_count": 214,
   "metadata": {},
   "outputs": [
    {
     "name": "stdout",
     "output_type": "stream",
     "text": [
      "['honda', 'yamaha', 'suzuki', 'ducati']\n",
      "['honda', 'yamaha', 'suzuki']\n",
      "\n",
      "A Ducati is too expensive for me.\n"
     ]
    }
   ],
   "source": [
    "motorcycles = ['honda', 'yamaha', 'suzuki', 'ducati']\n",
    "print(motorcycles)\n",
    "\n",
    "too_expensive = 'ducati'\n",
    "motorcycles.remove(too_expensive)\n",
    "print(motorcycles)\n",
    "print(f'\\nA {too_expensive.title()} is too expensive for me.')"
   ]
  },
  {
   "cell_type": "markdown",
   "metadata": {},
   "source": [
    " The remove value only removes the first occurance of the specified value.\n",
    " \n",
    "  If there's a possibility the value appears more than once in the list, you'll need to use aloop to make sure all occurences of the value are removed. "
   ]
  },
  {
   "cell_type": "code",
   "execution_count": 215,
   "metadata": {},
   "outputs": [
    {
     "name": "stdout",
     "output_type": "stream",
     "text": [
      "Mum, you are invited to dinner.\n",
      "Dad, you are invited to dinner.\n",
      "Sis, you are invited to dinner.\n",
      "Ina, you are invited to dinner.\n",
      "Rosey, you are invited to dinner.\n",
      "Sorin, you are invited to dinner.\n",
      "\n",
      "Sorin cannot make it to dinner.\n",
      "Mum, you are invited to dinner.\n",
      "Dad, you are invited to dinner.\n",
      "Sis, you are invited to dinner.\n",
      "Ina, you are invited to dinner.\n",
      "Rosey, you are invited to dinner.\n",
      "Pops, you are invited to dinner.\n",
      "\n",
      "I found a bigger table!\n",
      "Reli, you are invited to dinner.\n",
      "Mum, you are invited to dinner.\n",
      "Dad, you are invited to dinner.\n",
      "Luca, you are invited to dinner.\n",
      "Sis, you are invited to dinner.\n",
      "Ina, you are invited to dinner.\n",
      "Rosey, you are invited to dinner.\n",
      "Pops, you are invited to dinner.\n",
      "George, you are invited to dinner.\n",
      "\n",
      "I can only invite two people to dinner.\n",
      "Sorry Reli, I cannot invite you to dinner.\n",
      "Sorry Mum, I cannot invite you to dinner.\n",
      "Sorry Dad, I cannot invite you to dinner.\n",
      "Sorry Luca, I cannot invite you to dinner.\n",
      "Sorry Sis, I cannot invite you to dinner.\n"
     ]
    }
   ],
   "source": [
    "#Guest list excercise\n",
    "guest_list = ['mum','dad','sis','ina','rosey','sorin']\n",
    "\n",
    "def sendInvitations():\n",
    "    for guest in guest_list:\n",
    "        print(f'{guest.title()}, you are invited to dinner.')\n",
    "sendInvitations()\n",
    "\n",
    "to_replace = 'sorin'\n",
    "guest_list.remove(to_replace)\n",
    "print(f'\\n{to_replace.title()} cannot make it to dinner.')\n",
    "guest_list.append('pops')\n",
    "sendInvitations()\n",
    "\n",
    "print('\\nI found a bigger table!')\n",
    "\n",
    "guest_list.insert(0,'reli')\n",
    "guest_list.insert(int(len(guest_list)/2),'luca')\n",
    "guest_list.append('george')\n",
    "\n",
    "sendInvitations()\n",
    "\n",
    "print('\\nI can only invite two people to dinner.')\n",
    "for guest in guest_list:\n",
    "    if len(guest_list) > 2:\n",
    "        print(f'Sorry {guest.title()}, I cannot invite you to dinner.')\n",
    "        guest_list.pop()\n",
    "    else:\n",
    "        print(f'{guest.title()}, you are still invited to dinner.')\n"
   ]
  },
  {
   "cell_type": "markdown",
   "metadata": {},
   "source": [
    "### Organizing a list\n",
    "#### Sorting a list permanently with the sort() method\n"
   ]
  },
  {
   "cell_type": "code",
   "execution_count": 216,
   "metadata": {},
   "outputs": [
    {
     "name": "stdout",
     "output_type": "stream",
     "text": [
      "['audi', 'bmw', 'subaru', 'toyota']\n"
     ]
    }
   ],
   "source": [
    "cars = ['bmw', 'audi', 'toyota', 'subaru']\n",
    "cars.sort()\n",
    "print(cars)"
   ]
  },
  {
   "cell_type": "markdown",
   "metadata": {},
   "source": [
    "You can also sort this list in reverse alphabetical order by passing the argument reverse=True to the sort() method.\n"
   ]
  },
  {
   "cell_type": "code",
   "execution_count": 217,
   "metadata": {},
   "outputs": [
    {
     "name": "stdout",
     "output_type": "stream",
     "text": [
      "['toyota', 'subaru', 'bmw', 'audi']\n"
     ]
    }
   ],
   "source": [
    "cars.sort(reverse=True)\n",
    "print(cars)"
   ]
  },
  {
   "cell_type": "markdown",
   "metadata": {},
   "source": [
    "#### Sorting a list temporarily with the sorted() function"
   ]
  },
  {
   "cell_type": "code",
   "execution_count": 218,
   "metadata": {},
   "outputs": [
    {
     "name": "stdout",
     "output_type": "stream",
     "text": [
      "Here is the original list: ['toyota', 'subaru', 'bmw', 'audi']\n",
      "Here is the sorted list: ['audi', 'bmw', 'subaru', 'toyota']\n",
      "Here is the original list again: ['toyota', 'subaru', 'bmw', 'audi']\n"
     ]
    }
   ],
   "source": [
    "print(f'Here is the original list: {cars}')\n",
    "print(f'Here is the sorted list: {sorted(cars)}')\n",
    "print(f'Here is the original list again: {cars}')"
   ]
  },
  {
   "cell_type": "markdown",
   "metadata": {},
   "source": [
    "The sorted function can also accept a reverse=True argument if you want to display a list in reverse alphabetical order."
   ]
  },
  {
   "cell_type": "markdown",
   "metadata": {},
   "source": [
    "*Sorting a list alphabetically is abit more complicated when all the values are not in lowercase. There are several ways to interpret capital letters when determining a set order, an specifying the exact order can be more complex than we want to deal with at  this time.*\n",
    "\n"
   ]
  },
  {
   "cell_type": "markdown",
   "metadata": {},
   "source": [
    "#### Printing a list in reverse order"
   ]
  },
  {
   "cell_type": "code",
   "execution_count": 219,
   "metadata": {},
   "outputs": [
    {
     "name": "stdout",
     "output_type": "stream",
     "text": [
      "['toyota', 'subaru', 'bmw', 'audi']\n",
      "['audi', 'bmw', 'subaru', 'toyota']\n"
     ]
    }
   ],
   "source": [
    "print(cars)\n",
    "cars.reverse()\n",
    "print(cars)"
   ]
  },
  {
   "cell_type": "markdown",
   "metadata": {},
   "source": [
    "*The reverse method changes the order of a list permanently, but you can revert to the original order anytime by applying reverse() to the same list a second time.*\n",
    "\n",
    "*The reverse() method doesn't sort backward alphabetically; it simply reverses the order of the list*"
   ]
  },
  {
   "cell_type": "markdown",
   "metadata": {},
   "source": [
    "#### Finding the length of a list"
   ]
  },
  {
   "cell_type": "code",
   "execution_count": 220,
   "metadata": {},
   "outputs": [
    {
     "data": {
      "text/plain": [
       "4"
      ]
     },
     "execution_count": 220,
     "metadata": {},
     "output_type": "execute_result"
    }
   ],
   "source": [
    "len(cars)"
   ]
  },
  {
   "cell_type": "code",
   "execution_count": 221,
   "metadata": {},
   "outputs": [
    {
     "name": "stdout",
     "output_type": "stream",
     "text": [
      "['tokyo', 'madiera', 'st helena', 'grand canyon', 'shang hai']\n"
     ]
    }
   ],
   "source": [
    "#Excersie: Seeing the World:\n",
    "locations = ['tokyo','madiera','st helena','grand canyon','shang hai']\n",
    "print(locations)"
   ]
  },
  {
   "cell_type": "code",
   "execution_count": 222,
   "metadata": {},
   "outputs": [
    {
     "name": "stdout",
     "output_type": "stream",
     "text": [
      "['grand canyon', 'madiera', 'shang hai', 'st helena', 'tokyo']\n",
      "['tokyo', 'madiera', 'st helena', 'grand canyon', 'shang hai']\n"
     ]
    }
   ],
   "source": [
    "print(sorted(locations))\n",
    "print(locations)"
   ]
  },
  {
   "cell_type": "code",
   "execution_count": 223,
   "metadata": {},
   "outputs": [
    {
     "name": "stdout",
     "output_type": "stream",
     "text": [
      "['shang hai', 'grand canyon', 'st helena', 'madiera', 'tokyo']\n",
      "['tokyo', 'madiera', 'st helena', 'grand canyon', 'shang hai']\n"
     ]
    }
   ],
   "source": [
    "locations.reverse()\n",
    "print(locations)\n",
    "locations.reverse()\n",
    "print(locations)"
   ]
  },
  {
   "cell_type": "code",
   "execution_count": 224,
   "metadata": {},
   "outputs": [
    {
     "name": "stdout",
     "output_type": "stream",
     "text": [
      "['grand canyon', 'madiera', 'shang hai', 'st helena', 'tokyo']\n"
     ]
    }
   ],
   "source": [
    "locations.sort()\n",
    "print(locations)"
   ]
  },
  {
   "cell_type": "code",
   "execution_count": 225,
   "metadata": {},
   "outputs": [
    {
     "name": "stdout",
     "output_type": "stream",
     "text": [
      "['tokyo', 'st helena', 'shang hai', 'madiera', 'grand canyon']\n"
     ]
    }
   ],
   "source": [
    "locations.sort(reverse=True)\n",
    "print(locations)"
   ]
  },
  {
   "cell_type": "code",
   "execution_count": 226,
   "metadata": {},
   "outputs": [
    {
     "name": "stdout",
     "output_type": "stream",
     "text": [
      "4\n"
     ]
    }
   ],
   "source": [
    "print(len(guest_list))"
   ]
  },
  {
   "cell_type": "code",
   "execution_count": 233,
   "metadata": {},
   "outputs": [
    {
     "name": "stdout",
     "output_type": "stream",
     "text": [
      "Arizona\n",
      "Colorado\n",
      "['california', 'nevada', 'phoenix', 'utah', 'colorado']\n",
      "['california', 'nevada', 'phoenix', 'utah', 'colorado', 'new mexico']\n",
      "['california', 'oregon', 'nevada', 'phoenix', 'utah', 'colorado', 'new mexico']\n",
      "['california', 'nevada', 'phoenix', 'utah', 'colorado', 'new mexico']\n",
      "['california', 'nevada', 'phoenix', 'utah', 'colorado']\n",
      "new mexico\n",
      "The last state added was Colorado\n",
      "['california', 'nevada', 'phoenix', 'utah']\n",
      "The state removed was Utah\n",
      "['california', 'nevada', 'phoenix']\n",
      "['phoenix', 'nevada', 'california']\n",
      "['california', 'nevada', 'phoenix']\n"
     ]
    }
   ],
   "source": [
    "states = ['california','nevada','arizona','utah','colorado']\n",
    "print(states[2].title())\n",
    "print(states[-1].title())\n",
    "states[2] = 'phoenix'\n",
    "print(states)\n",
    "states.append('new mexico')\n",
    "print(states)\n",
    "states.insert(1,'oregon')\n",
    "print(states)\n",
    "del states[1]\n",
    "print(states)\n",
    "popped_state = states.pop()\n",
    "print(states)\n",
    "print(popped_state)\n",
    "last_added = states.pop()\n",
    "print(f'The last state added was {last_added.title()}')\n",
    "print(states)\n",
    "never_been = 'utah'\n",
    "states.remove(never_been)\n",
    "print(f'The state removed was {never_been.title()}')\n",
    "states.sort()\n",
    "print(states)\n",
    "states.sort(reverse=True)\n",
    "print(states)\n",
    "states.reverse()\n",
    "print(states)"
   ]
  },
  {
   "cell_type": "markdown",
   "metadata": {},
   "source": [
    "### Avoiding index errors when working with lists\n",
    "\n"
   ]
  },
  {
   "cell_type": "code",
   "execution_count": 234,
   "metadata": {},
   "outputs": [
    {
     "ename": "IndexError",
     "evalue": "list index out of range",
     "output_type": "error",
     "traceback": [
      "\u001b[0;31m---------------------------------------------------------------------------\u001b[0m",
      "\u001b[0;31mIndexError\u001b[0m                                Traceback (most recent call last)",
      "\u001b[1;32m/Users/Albert/Documents/Coding Bootcamp/python_crash_course/lists.ipynb Cell 51\u001b[0m line \u001b[0;36m2\n\u001b[1;32m      <a href='vscode-notebook-cell:/Users/Albert/Documents/Coding%20Bootcamp/python_crash_course/lists.ipynb#Y100sZmlsZQ%3D%3D?line=0'>1</a>\u001b[0m motorcycles \u001b[39m=\u001b[39m [\u001b[39m'\u001b[39m\u001b[39mhonda\u001b[39m\u001b[39m'\u001b[39m, \u001b[39m'\u001b[39m\u001b[39myamaha\u001b[39m\u001b[39m'\u001b[39m, \u001b[39m'\u001b[39m\u001b[39msuzuki\u001b[39m\u001b[39m'\u001b[39m]\n\u001b[0;32m----> <a href='vscode-notebook-cell:/Users/Albert/Documents/Coding%20Bootcamp/python_crash_course/lists.ipynb#Y100sZmlsZQ%3D%3D?line=1'>2</a>\u001b[0m \u001b[39mprint\u001b[39m(motorcycles[\u001b[39m4\u001b[39m])\n",
      "\u001b[0;31mIndexError\u001b[0m: list index out of range"
     ]
    }
   ],
   "source": [
    "motorcycles = ['honda', 'yamaha', 'suzuki']\n",
    "print(motorcycles[4])"
   ]
  },
  {
   "cell_type": "code",
   "execution_count": 235,
   "metadata": {},
   "outputs": [
    {
     "name": "stdout",
     "output_type": "stream",
     "text": [
      "suzuki\n"
     ]
    }
   ],
   "source": [
    "print(motorcycles[-1])"
   ]
  },
  {
   "cell_type": "code",
   "execution_count": null,
   "metadata": {},
   "outputs": [],
   "source": []
  }
 ],
 "metadata": {
  "kernelspec": {
   "display_name": "base",
   "language": "python",
   "name": "python3"
  },
  "language_info": {
   "codemirror_mode": {
    "name": "ipython",
    "version": 3
   },
   "file_extension": ".py",
   "mimetype": "text/x-python",
   "name": "python",
   "nbconvert_exporter": "python",
   "pygments_lexer": "ipython3",
   "version": "3.11.5"
  }
 },
 "nbformat": 4,
 "nbformat_minor": 2
}
